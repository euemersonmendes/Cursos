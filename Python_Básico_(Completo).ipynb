{
  "cells": [
    {
      "cell_type": "markdown",
      "metadata": {
        "id": "view-in-github",
        "colab_type": "text"
      },
      "source": [
        "<a href=\"https://colab.research.google.com/github/euemersonmendes/Cursos/blob/master/Python_B%C3%A1sico_(Completo).ipynb\" target=\"_parent\"><img src=\"https://colab.research.google.com/assets/colab-badge.svg\" alt=\"Open In Colab\"/></a>"
      ]
    },
    {
      "cell_type": "markdown",
      "metadata": {
        "id": "sPwRp_0xEsSH"
      },
      "source": [
        "# Python Básico"
      ]
    },
    {
      "cell_type": "markdown",
      "metadata": {
        "id": "KWQKRM3-EsSJ"
      },
      "source": [
        "**OBJETIVOS**: Ensinar o básico da linguagem python para o curso"
      ]
    },
    {
      "cell_type": "markdown",
      "metadata": {
        "id": "n1TQWeDjEsSK"
      },
      "source": [
        "---"
      ]
    },
    {
      "cell_type": "markdown",
      "metadata": {
        "id": "GH6UMzioEsSK"
      },
      "source": [
        "## Introdução"
      ]
    },
    {
      "cell_type": "markdown",
      "metadata": {
        "id": "4Uqt7nykEsSL"
      },
      "source": [
        "### Variáveis"
      ]
    },
    {
      "cell_type": "markdown",
      "metadata": {
        "id": "tjftd8e3EsSL"
      },
      "source": [
        "Em qualquer linguagem de programação é crucial saber trabalhar com variáveis. Elas são estruturas cujo objetivo é armazenar informações temporárias do programa na memória RAM.\n",
        "\n",
        "Em python, a sintaxe para se criar uma variável é simples:"
      ]
    },
    {
      "cell_type": "code",
      "execution_count": null,
      "metadata": {
        "ExecuteTime": {
          "end_time": "2022-01-16T17:01:11.079820Z",
          "start_time": "2022-01-16T17:01:11.075860Z"
        },
        "id": "df4T2tWpEsSL"
      },
      "outputs": [],
      "source": [
        "a = 1"
      ]
    },
    {
      "cell_type": "markdown",
      "metadata": {
        "id": "kC5s5HRcEsSM"
      },
      "source": [
        "Ao dizer a = 1, estamos falando: \"Por favor, armazene o valor de 1 a variável cujo nome será 'a'\". Desta forma o sinal '=' em Python é o sinal de atribuição."
      ]
    },
    {
      "cell_type": "markdown",
      "metadata": {
        "id": "xUFNv492EsSN"
      },
      "source": [
        "Há, é claro, regras para se criar um nome de uma variável, sendo elas:\n",
        "1. Não pode começar com um número\n",
        "2. Não pode conter caracter especial (\",\", \"´\", \"/\", ...), mas pode ter acentos (á, é, í, ...) e \"_\"\n",
        "3. Não pode ter espaços no nome"
      ]
    },
    {
      "cell_type": "code",
      "execution_count": null,
      "metadata": {
        "ExecuteTime": {
          "end_time": "2022-01-16T17:01:32.369450Z",
          "start_time": "2022-01-16T17:01:32.365577Z"
        },
        "id": "kzDUY2IhEsSO",
        "outputId": "af4f30bb-720e-4fd0-94ce-1caaf3911f30"
      },
      "outputs": [
        {
          "ename": "SyntaxError",
          "evalue": "invalid syntax (3102068389.py, line 1)",
          "output_type": "error",
          "traceback": [
            "\u001b[1;36m  Input \u001b[1;32mIn [2]\u001b[1;36m\u001b[0m\n\u001b[1;33m    12abc = 1\u001b[0m\n\u001b[1;37m      ^\u001b[0m\n\u001b[1;31mSyntaxError\u001b[0m\u001b[1;31m:\u001b[0m invalid syntax\n"
          ]
        }
      ],
      "source": [
        "12abc = 1"
      ]
    },
    {
      "cell_type": "code",
      "execution_count": null,
      "metadata": {
        "ExecuteTime": {
          "end_time": "2022-01-16T17:01:39.793230Z",
          "start_time": "2022-01-16T17:01:39.788308Z"
        },
        "id": "TACRBtlv7RAv",
        "outputId": "1f62cbb8-e35c-411c-ee42-28d569d5c857"
      },
      "outputs": [
        {
          "ename": "SyntaxError",
          "evalue": "invalid syntax (2591305403.py, line 1)",
          "output_type": "error",
          "traceback": [
            "\u001b[1;36m  Input \u001b[1;32mIn [3]\u001b[1;36m\u001b[0m\n\u001b[1;33m    a b c = 1\u001b[0m\n\u001b[1;37m      ^\u001b[0m\n\u001b[1;31mSyntaxError\u001b[0m\u001b[1;31m:\u001b[0m invalid syntax\n"
          ]
        }
      ],
      "source": [
        "a b c = 1"
      ]
    },
    {
      "cell_type": "code",
      "execution_count": null,
      "metadata": {
        "ExecuteTime": {
          "end_time": "2022-01-16T17:01:44.944869Z",
          "start_time": "2022-01-16T17:01:44.939952Z"
        },
        "id": "VVMuOkgC7RAv",
        "outputId": "a7ed2b5d-be64-4e1f-d254-f1fe0339763b"
      },
      "outputs": [
        {
          "ename": "SyntaxError",
          "evalue": "invalid syntax (3703583066.py, line 1)",
          "output_type": "error",
          "traceback": [
            "\u001b[1;36m  Input \u001b[1;32mIn [4]\u001b[1;36m\u001b[0m\n\u001b[1;33m    a(=, 1)\u001b[0m\n\u001b[1;37m      ^\u001b[0m\n\u001b[1;31mSyntaxError\u001b[0m\u001b[1;31m:\u001b[0m invalid syntax\n"
          ]
        }
      ],
      "source": [
        "/a = 1"
      ]
    },
    {
      "cell_type": "code",
      "execution_count": null,
      "metadata": {
        "ExecuteTime": {
          "end_time": "2022-01-16T17:01:51.183751Z",
          "start_time": "2022-01-16T17:01:51.179802Z"
        },
        "id": "WXeLqTGQ7RAw",
        "outputId": "87fc89de-1308-460e-e79a-a47d59899c79"
      },
      "outputs": [
        {
          "ename": "SyntaxError",
          "evalue": "cannot assign to operator (3141892179.py, line 1)",
          "output_type": "error",
          "traceback": [
            "\u001b[1;36m  Input \u001b[1;32mIn [5]\u001b[1;36m\u001b[0m\n\u001b[1;33m    a-b-c = 1\u001b[0m\n\u001b[1;37m    ^\u001b[0m\n\u001b[1;31mSyntaxError\u001b[0m\u001b[1;31m:\u001b[0m cannot assign to operator\n"
          ]
        }
      ],
      "source": [
        "a-b-c = 1"
      ]
    },
    {
      "cell_type": "code",
      "execution_count": null,
      "metadata": {
        "ExecuteTime": {
          "end_time": "2022-01-16T17:01:56.431408Z",
          "start_time": "2022-01-16T17:01:56.427543Z"
        },
        "id": "lWw1Hklc7RAx"
      },
      "outputs": [],
      "source": [
        "a_b_c = 1"
      ]
    },
    {
      "cell_type": "markdown",
      "metadata": {
        "id": "gBoQWLYjEsSO"
      },
      "source": [
        "Você ainda pode criar múltiplas variáveis numa mesma linha"
      ]
    },
    {
      "cell_type": "code",
      "execution_count": null,
      "metadata": {
        "ExecuteTime": {
          "end_time": "2022-01-16T17:02:57.200968Z",
          "start_time": "2022-01-16T17:02:57.197114Z"
        },
        "id": "hIIiOAZCEsSO"
      },
      "outputs": [],
      "source": [
        "a, b, c = 1, 2, 3"
      ]
    },
    {
      "cell_type": "markdown",
      "metadata": {
        "id": "Jiqf4BevEsSO"
      },
      "source": [
        "Nós podemos utilizar o console do jupyter para acompanhar os valores de variáveis e nós podemos substituir os valores das mesmas"
      ]
    },
    {
      "cell_type": "code",
      "execution_count": null,
      "metadata": {
        "ExecuteTime": {
          "end_time": "2022-01-16T17:03:20.432089Z",
          "start_time": "2022-01-16T17:03:20.428103Z"
        },
        "id": "RHDYKoreEsSP"
      },
      "outputs": [],
      "source": [
        "a = 2"
      ]
    },
    {
      "cell_type": "code",
      "execution_count": null,
      "metadata": {
        "ExecuteTime": {
          "end_time": "2022-01-16T17:03:22.736651Z",
          "start_time": "2022-01-16T17:03:22.731880Z"
        },
        "id": "FDGKGgVj7RAz",
        "outputId": "4da2295a-f709-442e-9a5f-42c6e4ac9f13"
      },
      "outputs": [
        {
          "data": {
            "text/plain": [
              "2"
            ]
          },
          "execution_count": 10,
          "metadata": {},
          "output_type": "execute_result"
        }
      ],
      "source": [
        "a"
      ]
    },
    {
      "cell_type": "code",
      "execution_count": null,
      "metadata": {
        "ExecuteTime": {
          "end_time": "2022-01-16T17:03:25.871346Z",
          "start_time": "2022-01-16T17:03:25.867445Z"
        },
        "id": "hqqjoStH7RAz"
      },
      "outputs": [],
      "source": [
        "a = 1"
      ]
    },
    {
      "cell_type": "code",
      "execution_count": null,
      "metadata": {
        "ExecuteTime": {
          "end_time": "2022-01-16T17:03:27.472457Z",
          "start_time": "2022-01-16T17:03:27.467945Z"
        },
        "id": "-3esray67RA0",
        "outputId": "53ebba31-b2f0-4d99-934c-776389ecf319"
      },
      "outputs": [
        {
          "data": {
            "text/plain": [
              "1"
            ]
          },
          "execution_count": 12,
          "metadata": {},
          "output_type": "execute_result"
        }
      ],
      "source": [
        "a"
      ]
    },
    {
      "cell_type": "markdown",
      "metadata": {
        "id": "hGWjvQU7EsSP"
      },
      "source": [
        "As variáveis em Python possuem tipos. E nós veremos ao longo desse notebook os principais tipos utilizados. Mas de longe o tipo mais comum de variáveis que trabalhamos são as numéricas: Inteiras, Reais e Complexas"
      ]
    },
    {
      "cell_type": "code",
      "execution_count": null,
      "metadata": {
        "ExecuteTime": {
          "end_time": "2022-01-16T17:04:11.539094Z",
          "start_time": "2022-01-16T17:04:11.533104Z"
        },
        "id": "ZXGtjPuDEsSP",
        "outputId": "7a4423ab-f85f-4778-9460-9aa3661d1e24"
      },
      "outputs": [
        {
          "data": {
            "text/plain": [
              "int"
            ]
          },
          "execution_count": 13,
          "metadata": {},
          "output_type": "execute_result"
        }
      ],
      "source": [
        "type(a)"
      ]
    },
    {
      "cell_type": "markdown",
      "metadata": {
        "id": "S0ZvDMKGEsSP"
      },
      "source": [
        "**NOTA**: Em Python nós temos as \"funções padrões da linguagem\" que são expressões como o \"type\" acima que podem ser utilizados livremente. Note que a cor do texto muda e devemos ter cuidado para não dar nomes de variáveis que sejam nomes desses \"nomes reservados\""
      ]
    },
    {
      "cell_type": "markdown",
      "metadata": {
        "id": "7ZSSFpfAEsSP"
      },
      "source": [
        "---"
      ]
    },
    {
      "cell_type": "markdown",
      "metadata": {
        "id": "GXf67CdtEsSQ"
      },
      "source": [
        "### Inteiros"
      ]
    },
    {
      "cell_type": "markdown",
      "metadata": {
        "id": "9I772n3MEsSQ"
      },
      "source": [
        "Inteiros são os tipos mais comuns de variáveis podendo ir de $-\\infty$ a $+\\infty$, mas que não são representados com casas decimais:\n",
        "\n",
        "-100, -10, -3, -2, -1, 0, 1, 2, 3, ..."
      ]
    },
    {
      "cell_type": "code",
      "execution_count": null,
      "metadata": {
        "ExecuteTime": {
          "end_time": "2022-01-16T17:04:48.672459Z",
          "start_time": "2022-01-16T17:04:48.669462Z"
        },
        "id": "_1CsYpNYEsSQ"
      },
      "outputs": [],
      "source": [
        "a = 1\n",
        "b = 2\n",
        "c = -7\n",
        "d = -10000000"
      ]
    },
    {
      "cell_type": "markdown",
      "metadata": {
        "id": "beqYa_VREsSQ"
      },
      "source": [
        "---"
      ]
    },
    {
      "cell_type": "markdown",
      "metadata": {
        "id": "OGvkYKhdEsSQ"
      },
      "source": [
        "### Operações"
      ]
    },
    {
      "cell_type": "markdown",
      "metadata": {
        "id": "u1K_j31FEsSQ"
      },
      "source": [
        "Números inteiros (e variáveis do python em geral) aceitam operações matemáticas"
      ]
    },
    {
      "cell_type": "markdown",
      "metadata": {
        "id": "6gm7LCYyEsSR"
      },
      "source": [
        "**Soma**"
      ]
    },
    {
      "cell_type": "code",
      "execution_count": null,
      "metadata": {
        "ExecuteTime": {
          "end_time": "2022-01-16T17:05:11.681858Z",
          "start_time": "2022-01-16T17:05:11.676912Z"
        },
        "id": "Ln4z0gywEsSR",
        "outputId": "79bd5d06-62c5-42bd-b751-3f09129938af"
      },
      "outputs": [
        {
          "data": {
            "text/plain": [
              "2"
            ]
          },
          "execution_count": 15,
          "metadata": {},
          "output_type": "execute_result"
        }
      ],
      "source": [
        "1 + 1"
      ]
    },
    {
      "cell_type": "code",
      "execution_count": null,
      "metadata": {
        "ExecuteTime": {
          "end_time": "2022-01-16T17:05:17.696991Z",
          "start_time": "2022-01-16T17:05:17.692010Z"
        },
        "id": "yRXi3yaZ7RA4",
        "outputId": "2e49762e-8cc1-4cf7-8e85-c8a3f2752583"
      },
      "outputs": [
        {
          "data": {
            "text/plain": [
              "3"
            ]
          },
          "execution_count": 16,
          "metadata": {},
          "output_type": "execute_result"
        }
      ],
      "source": [
        "a + b"
      ]
    },
    {
      "cell_type": "code",
      "execution_count": null,
      "metadata": {
        "ExecuteTime": {
          "end_time": "2022-01-16T17:05:31.281101Z",
          "start_time": "2022-01-16T17:05:31.276311Z"
        },
        "id": "c_OjpBc27RA4",
        "outputId": "e16a794f-43e3-4b4d-e3a7-b2a6f1f22eec"
      },
      "outputs": [
        {
          "data": {
            "text/plain": [
              "3"
            ]
          },
          "execution_count": 17,
          "metadata": {},
          "output_type": "execute_result"
        }
      ],
      "source": [
        "c = a + b\n",
        "c"
      ]
    },
    {
      "cell_type": "code",
      "execution_count": null,
      "metadata": {
        "ExecuteTime": {
          "end_time": "2022-01-16T17:05:47.535975Z",
          "start_time": "2022-01-16T17:05:47.532005Z"
        },
        "id": "xEKL6eaw7RA5"
      },
      "outputs": [],
      "source": [
        "c = c + b"
      ]
    },
    {
      "cell_type": "code",
      "execution_count": null,
      "metadata": {
        "ExecuteTime": {
          "end_time": "2022-01-16T17:05:49.583924Z",
          "start_time": "2022-01-16T17:05:49.580507Z"
        },
        "id": "Q4wTmyQJ7RA5",
        "outputId": "0f379949-d8f5-491b-d753-0f72d5174fcb"
      },
      "outputs": [
        {
          "data": {
            "text/plain": [
              "5"
            ]
          },
          "execution_count": 19,
          "metadata": {},
          "output_type": "execute_result"
        }
      ],
      "source": [
        "c"
      ]
    },
    {
      "cell_type": "code",
      "execution_count": null,
      "metadata": {
        "ExecuteTime": {
          "end_time": "2022-01-16T17:06:05.312178Z",
          "start_time": "2022-01-16T17:06:05.308146Z"
        },
        "id": "1m-ax-qI7RA5",
        "outputId": "bc6336e2-5af4-4a69-e10b-c0f0f5965ff9"
      },
      "outputs": [
        {
          "data": {
            "text/plain": [
              "7"
            ]
          },
          "execution_count": 20,
          "metadata": {},
          "output_type": "execute_result"
        }
      ],
      "source": [
        "c += b\n",
        "c"
      ]
    },
    {
      "cell_type": "markdown",
      "metadata": {
        "id": "ibAH8guLEsSR"
      },
      "source": [
        "**Subtração**"
      ]
    },
    {
      "cell_type": "code",
      "execution_count": null,
      "metadata": {
        "ExecuteTime": {
          "end_time": "2022-01-16T17:06:14.897332Z",
          "start_time": "2022-01-16T17:06:14.892491Z"
        },
        "id": "Z4WqeZE8EsSR",
        "outputId": "da77c807-c1ca-464d-d6d9-2cd24c3efa19"
      },
      "outputs": [
        {
          "data": {
            "text/plain": [
              "1"
            ]
          },
          "execution_count": 21,
          "metadata": {},
          "output_type": "execute_result"
        }
      ],
      "source": [
        "2 - 1"
      ]
    },
    {
      "cell_type": "code",
      "execution_count": null,
      "metadata": {
        "ExecuteTime": {
          "end_time": "2022-01-16T17:06:18.160769Z",
          "start_time": "2022-01-16T17:06:18.155817Z"
        },
        "id": "7Z4Xvhzv7RA7",
        "outputId": "1fbc76cb-3e77-45a3-8c5f-d2c86a3253b0"
      },
      "outputs": [
        {
          "data": {
            "text/plain": [
              "1"
            ]
          },
          "execution_count": 22,
          "metadata": {},
          "output_type": "execute_result"
        }
      ],
      "source": [
        "b - a"
      ]
    },
    {
      "cell_type": "code",
      "execution_count": null,
      "metadata": {
        "ExecuteTime": {
          "end_time": "2022-01-16T17:06:22.353001Z",
          "start_time": "2022-01-16T17:06:22.348168Z"
        },
        "id": "Rym20MzX7RA8",
        "outputId": "543d2fdd-4cec-48d6-c354-72139162d520"
      },
      "outputs": [
        {
          "data": {
            "text/plain": [
              "6"
            ]
          },
          "execution_count": 23,
          "metadata": {},
          "output_type": "execute_result"
        }
      ],
      "source": [
        "c -= 1\n",
        "c"
      ]
    },
    {
      "cell_type": "markdown",
      "metadata": {
        "id": "giSdr0RdEsSR"
      },
      "source": [
        "**Multiplicação**"
      ]
    },
    {
      "cell_type": "code",
      "execution_count": null,
      "metadata": {
        "ExecuteTime": {
          "end_time": "2022-01-16T17:06:36.930168Z",
          "start_time": "2022-01-16T17:06:36.925160Z"
        },
        "id": "gTxiLJfXEsSR",
        "outputId": "76075716-22a5-49f9-8034-ba7112c82e4a"
      },
      "outputs": [
        {
          "data": {
            "text/plain": [
              "6"
            ]
          },
          "execution_count": 24,
          "metadata": {},
          "output_type": "execute_result"
        }
      ],
      "source": [
        "2 * 3"
      ]
    },
    {
      "cell_type": "code",
      "execution_count": null,
      "metadata": {
        "ExecuteTime": {
          "end_time": "2022-01-16T17:06:40.256145Z",
          "start_time": "2022-01-16T17:06:40.252162Z"
        },
        "id": "_mZkvjLm7RA9",
        "outputId": "ac443ede-6ec3-42b9-f639-fa476de46cf1"
      },
      "outputs": [
        {
          "data": {
            "text/plain": [
              "2"
            ]
          },
          "execution_count": 25,
          "metadata": {},
          "output_type": "execute_result"
        }
      ],
      "source": [
        "a * b"
      ]
    },
    {
      "cell_type": "code",
      "execution_count": null,
      "metadata": {
        "ExecuteTime": {
          "end_time": "2022-01-16T17:06:46.513529Z",
          "start_time": "2022-01-16T17:06:46.509558Z"
        },
        "id": "nOFDPyiM7RA9",
        "outputId": "b8fdf855-8658-401b-f6f9-9348dead1d1d"
      },
      "outputs": [
        {
          "data": {
            "text/plain": [
              "12"
            ]
          },
          "execution_count": 26,
          "metadata": {},
          "output_type": "execute_result"
        }
      ],
      "source": [
        "c *= 2\n",
        "c"
      ]
    },
    {
      "cell_type": "markdown",
      "metadata": {
        "id": "aRbSn73OEsSR"
      },
      "source": [
        "**Divisão**"
      ]
    },
    {
      "cell_type": "code",
      "execution_count": null,
      "metadata": {
        "ExecuteTime": {
          "end_time": "2022-01-16T17:06:56.224964Z",
          "start_time": "2022-01-16T17:06:56.220175Z"
        },
        "id": "TepOws_qEsSR",
        "outputId": "2bb3f92d-1b21-4bc4-d9f8-fd527e8e3988"
      },
      "outputs": [
        {
          "data": {
            "text/plain": [
              "2.0"
            ]
          },
          "execution_count": 27,
          "metadata": {},
          "output_type": "execute_result"
        }
      ],
      "source": [
        "6 / 3"
      ]
    },
    {
      "cell_type": "code",
      "execution_count": null,
      "metadata": {
        "ExecuteTime": {
          "end_time": "2022-01-16T17:07:01.265545Z",
          "start_time": "2022-01-16T17:07:01.260525Z"
        },
        "id": "WQN76F857RA_",
        "outputId": "3c6ec62a-30cc-4810-b3ed-c681cf4598d4"
      },
      "outputs": [
        {
          "data": {
            "text/plain": [
              "2.0"
            ]
          },
          "execution_count": 28,
          "metadata": {},
          "output_type": "execute_result"
        }
      ],
      "source": [
        "b / a"
      ]
    },
    {
      "cell_type": "markdown",
      "metadata": {
        "id": "KSwTfWfUEsSR"
      },
      "source": [
        "**Divisão inteira**"
      ]
    },
    {
      "cell_type": "markdown",
      "metadata": {
        "id": "MxFfUtlLEsSS"
      },
      "source": [
        "<img src=\"https://gracianotorrao.files.wordpress.com/2014/10/divisaoi.png\" />"
      ]
    },
    {
      "cell_type": "code",
      "execution_count": null,
      "metadata": {
        "ExecuteTime": {
          "end_time": "2022-01-16T17:08:12.129354Z",
          "start_time": "2022-01-16T17:08:12.125367Z"
        },
        "id": "8-rPOmoAEsSS",
        "outputId": "b395f87f-0b79-487d-8754-2b28c0cac1c4"
      },
      "outputs": [
        {
          "data": {
            "text/plain": [
              "8"
            ]
          },
          "execution_count": 29,
          "metadata": {},
          "output_type": "execute_result"
        }
      ],
      "source": [
        "17 // 2"
      ]
    },
    {
      "cell_type": "code",
      "execution_count": null,
      "metadata": {
        "ExecuteTime": {
          "end_time": "2022-01-16T17:08:16.800733Z",
          "start_time": "2022-01-16T17:08:16.795779Z"
        },
        "id": "N8uAD8Nf7RBB",
        "outputId": "79ce55ce-50bf-40f2-e9ff-4aecf190b6d6"
      },
      "outputs": [
        {
          "data": {
            "text/plain": [
              "8.5"
            ]
          },
          "execution_count": 30,
          "metadata": {},
          "output_type": "execute_result"
        }
      ],
      "source": [
        "17 / 2"
      ]
    },
    {
      "cell_type": "code",
      "execution_count": null,
      "metadata": {
        "ExecuteTime": {
          "end_time": "2022-01-16T17:08:24.049289Z",
          "start_time": "2022-01-16T17:08:24.044341Z"
        },
        "id": "9ioeGG_r7RBB",
        "outputId": "0bbf3e81-dea9-4171-e4e2-04208f4c4fa4"
      },
      "outputs": [
        {
          "data": {
            "text/plain": [
              "2"
            ]
          },
          "execution_count": 31,
          "metadata": {},
          "output_type": "execute_result"
        }
      ],
      "source": [
        "b // a"
      ]
    },
    {
      "cell_type": "code",
      "execution_count": null,
      "metadata": {
        "ExecuteTime": {
          "end_time": "2022-01-16T17:08:33.768398Z",
          "start_time": "2022-01-16T17:08:33.763551Z"
        },
        "id": "pgl05Dvq7RBC",
        "outputId": "5da62711-ed2e-41cf-caaf-7eff2ebb3777"
      },
      "outputs": [
        {
          "data": {
            "text/plain": [
              "1"
            ]
          },
          "execution_count": 32,
          "metadata": {},
          "output_type": "execute_result"
        }
      ],
      "source": [
        "17 % 2"
      ]
    },
    {
      "cell_type": "code",
      "execution_count": null,
      "metadata": {
        "ExecuteTime": {
          "end_time": "2022-01-16T17:08:38.993510Z",
          "start_time": "2022-01-16T17:08:38.988104Z"
        },
        "id": "TaUG0kM57RBD",
        "outputId": "6fa47e28-9f2d-40ff-a61c-b9fc12b4c45a"
      },
      "outputs": [
        {
          "data": {
            "text/plain": [
              "0"
            ]
          },
          "execution_count": 33,
          "metadata": {},
          "output_type": "execute_result"
        }
      ],
      "source": [
        "b % a"
      ]
    },
    {
      "cell_type": "markdown",
      "metadata": {
        "id": "9ZTeXl9OEsSS"
      },
      "source": [
        "**Exponencial**"
      ]
    },
    {
      "cell_type": "code",
      "execution_count": null,
      "metadata": {
        "ExecuteTime": {
          "end_time": "2022-01-16T17:08:55.986825Z",
          "start_time": "2022-01-16T17:08:55.980889Z"
        },
        "id": "Oa9g2yE_EsSS",
        "outputId": "f8b29e3a-612f-4957-bb06-edb84d9b52dd"
      },
      "outputs": [
        {
          "data": {
            "text/plain": [
              "8"
            ]
          },
          "execution_count": 34,
          "metadata": {},
          "output_type": "execute_result"
        }
      ],
      "source": [
        "2 ** 3"
      ]
    },
    {
      "cell_type": "code",
      "execution_count": null,
      "metadata": {
        "ExecuteTime": {
          "end_time": "2022-01-16T17:09:02.689438Z",
          "start_time": "2022-01-16T17:09:02.684478Z"
        },
        "id": "X27auViU7RBF",
        "outputId": "c39b11cf-df66-4e50-a0d3-1cd8c0b41748"
      },
      "outputs": [
        {
          "data": {
            "text/plain": [
              "2"
            ]
          },
          "execution_count": 35,
          "metadata": {},
          "output_type": "execute_result"
        }
      ],
      "source": [
        "b ** a"
      ]
    },
    {
      "cell_type": "markdown",
      "metadata": {
        "id": "N0JUJq_LEsSS"
      },
      "source": [
        "Operações no python seguem a mesma ordem da matemática, e nós podemos utilizar parenteses para determinar a ordem das operações"
      ]
    },
    {
      "cell_type": "code",
      "execution_count": null,
      "metadata": {
        "ExecuteTime": {
          "end_time": "2022-01-16T17:09:41.887949Z",
          "start_time": "2022-01-16T17:09:41.883040Z"
        },
        "id": "Gok3x-a_EsSS",
        "outputId": "dcffee19-b79f-4c66-a308-d506e0ef6025"
      },
      "outputs": [
        {
          "data": {
            "text/plain": [
              "7"
            ]
          },
          "execution_count": 37,
          "metadata": {},
          "output_type": "execute_result"
        }
      ],
      "source": [
        "1 + 2 * 3"
      ]
    },
    {
      "cell_type": "code",
      "execution_count": null,
      "metadata": {
        "ExecuteTime": {
          "end_time": "2022-01-16T17:09:55.775807Z",
          "start_time": "2022-01-16T17:09:55.771819Z"
        },
        "id": "ghB5JZPl7RBI",
        "outputId": "9983d816-77cd-42ee-9210-c5f4754731b4"
      },
      "outputs": [
        {
          "data": {
            "text/plain": [
              "9"
            ]
          },
          "execution_count": 38,
          "metadata": {},
          "output_type": "execute_result"
        }
      ],
      "source": [
        "(1 + 2) * 3"
      ]
    },
    {
      "cell_type": "markdown",
      "metadata": {
        "id": "HEc0YYruEsSS"
      },
      "source": [
        "---"
      ]
    },
    {
      "cell_type": "markdown",
      "metadata": {
        "id": "-eiihRKqEsSS"
      },
      "source": [
        "### Comentários"
      ]
    },
    {
      "cell_type": "markdown",
      "metadata": {
        "id": "q8XMbdxwEsSS"
      },
      "source": [
        "Uma parte primordial de todo código é a estrutura de comentários que nos permite explicar o que cada bloco de código está fazendo com linguagem humana, para que terceiros possam entender mais facilmente o que estamos escrevendo.\n",
        "\n",
        "Python apresentar algumas sintaxes para escreve comentários"
      ]
    },
    {
      "cell_type": "markdown",
      "metadata": {
        "id": "QJvs8s5zEsSS"
      },
      "source": [
        "O #"
      ]
    },
    {
      "cell_type": "code",
      "execution_count": null,
      "metadata": {
        "ExecuteTime": {
          "end_time": "2022-01-16T17:11:29.360866Z",
          "start_time": "2022-01-16T17:11:29.357955Z"
        },
        "id": "LHkpH6U0EsST"
      },
      "outputs": [],
      "source": [
        "# isto é um comentário\n",
        "# isto também é um comentário\n",
        "a = 1 # haja comentário meu vingador"
      ]
    },
    {
      "cell_type": "code",
      "execution_count": null,
      "metadata": {
        "ExecuteTime": {
          "end_time": "2022-01-16T17:11:45.970857Z",
          "start_time": "2022-01-16T17:11:45.965925Z"
        },
        "id": "syuC3Hdl7RBM",
        "outputId": "63b4fc67-a563-4fb6-f556-5b49733f2624"
      },
      "outputs": [
        {
          "ename": "SyntaxError",
          "evalue": "invalid syntax (103020762.py, line 1)",
          "output_type": "error",
          "traceback": [
            "\u001b[1;36m  Input \u001b[1;32mIn [42]\u001b[1;36m\u001b[0m\n\u001b[1;33m    a = # mas isto já é estupidez 1\u001b[0m\n\u001b[1;37m        ^\u001b[0m\n\u001b[1;31mSyntaxError\u001b[0m\u001b[1;31m:\u001b[0m invalid syntax\n"
          ]
        }
      ],
      "source": [
        "a = # mas isto já é estupidez 1"
      ]
    },
    {
      "cell_type": "markdown",
      "metadata": {
        "id": "ql_GsmNLEsST"
      },
      "source": [
        "O \"\"\" ou '''"
      ]
    },
    {
      "cell_type": "code",
      "execution_count": null,
      "metadata": {
        "ExecuteTime": {
          "end_time": "2022-01-16T17:13:07.137793Z",
          "start_time": "2022-01-16T17:13:07.132872Z"
        },
        "id": "ycchmjsEEsST"
      },
      "outputs": [],
      "source": [
        "\"\"\"Isto é um comentário\"\"\"\n",
        "a = 1\n",
        "\n",
        "\"\"\"\n",
        "Este é um grande comentário de\n",
        "múltiplas linhas vou até fazer\n",
        "uma dissertação aqui\n",
        "\"\"\"\n",
        "\n",
        "'''\n",
        "Mas eu não preciso me prender as \"\"\" não\n",
        "ein!\n",
        "'''\n",
        "\n",
        "a = \"\"\"Isso\"\"\""
      ]
    },
    {
      "cell_type": "markdown",
      "metadata": {
        "id": "Du74fYaZEsST"
      },
      "source": [
        "---"
      ]
    },
    {
      "cell_type": "markdown",
      "metadata": {
        "id": "rE9MHGR3EsST"
      },
      "source": [
        "### Print e Input"
      ]
    },
    {
      "cell_type": "markdown",
      "metadata": {
        "id": "W-l90YDUEsST"
      },
      "source": [
        "A função print é responsável por imprimir saídas no console de Python. Apesar de não ser muito utilizada dentro do contexto do jupyter essa função é muito usada em códigos tradicionais e na maioria dos ambientes de programação de produção.\n",
        "\n",
        "Para utiliza-la é simples basta chamar"
      ]
    },
    {
      "cell_type": "code",
      "execution_count": null,
      "metadata": {
        "ExecuteTime": {
          "end_time": "2022-01-16T17:13:50.307697Z",
          "start_time": "2022-01-16T17:13:50.302823Z"
        },
        "id": "phFHewmEEsST",
        "outputId": "6d68a867-67e7-47e7-be5a-febe23e43269"
      },
      "outputs": [
        {
          "name": "stdout",
          "output_type": "stream",
          "text": [
            "Alguma coisa a ser impressa\n"
          ]
        }
      ],
      "source": [
        "print(\"Alguma coisa a ser impressa\")"
      ]
    },
    {
      "cell_type": "markdown",
      "metadata": {
        "id": "cYZFkkqPEsST"
      },
      "source": [
        "E o conteúdo entre \"\" será colocado no console. Além disso você pode imprimir dados específicos ou dividir suas impressões em vária pedaços utilizando a sintaxe de vírgula"
      ]
    },
    {
      "cell_type": "code",
      "execution_count": null,
      "metadata": {
        "ExecuteTime": {
          "end_time": "2022-01-16T17:15:46.465436Z",
          "start_time": "2022-01-16T17:15:46.460576Z"
        },
        "id": "TgApZdotEsST",
        "outputId": "fd8befb1-afa3-4be5-f2a8-6d93e28b3b6e"
      },
      "outputs": [
        {
          "name": "stdout",
          "output_type": "stream",
          "text": [
            "O valor de a é 1\n",
            "O valor de b é 2\n",
            "O valor de a + b é 3\n",
            "Olá mundo 1 cruel\n"
          ]
        }
      ],
      "source": [
        "a = 1\n",
        "b = 2\n",
        "print(\"O valor de a é\", a)\n",
        "print(\"O valor de b é\", b)\n",
        "print(\"O valor de a + b é\", a + b)\n",
        "print(\"Olá\", \"mundo\", a, \"cruel\")"
      ]
    },
    {
      "cell_type": "markdown",
      "metadata": {
        "id": "i185b5SXEsST"
      },
      "source": [
        "Por padrão a função print gerará separadores utilizando o \" \", mas você pode especificar como separar as palavras usando o argumento sep"
      ]
    },
    {
      "cell_type": "code",
      "execution_count": null,
      "metadata": {
        "ExecuteTime": {
          "end_time": "2022-01-16T17:15:59.361958Z",
          "start_time": "2022-01-16T17:15:59.357062Z"
        },
        "id": "Db6OFW5AEsST",
        "outputId": "03864151-f186-4ae9-f1b1-a7791ae65ee3"
      },
      "outputs": [
        {
          "name": "stdout",
          "output_type": "stream",
          "text": [
            "Olá/mundo/1/cruel\n"
          ]
        }
      ],
      "source": [
        "print(\"Olá\", \"mundo\", a, \"cruel\", sep=\"/\")"
      ]
    },
    {
      "cell_type": "markdown",
      "metadata": {
        "id": "88gTzkMoEsST"
      },
      "source": [
        "Os textos impressos ainda aceitam caracteres especiais que utilizam a sintaxe \"\\alguma letra\""
      ]
    },
    {
      "cell_type": "code",
      "execution_count": null,
      "metadata": {
        "ExecuteTime": {
          "end_time": "2022-01-16T17:16:47.569742Z",
          "start_time": "2022-01-16T17:16:47.565833Z"
        },
        "id": "CwDlFElTEsSU",
        "outputId": "e5ddcf3d-b8b0-4c81-adf6-1c51322bde13"
      },
      "outputs": [
        {
          "name": "stdout",
          "output_type": "stream",
          "text": [
            "Olá\n",
            "Mundo\n"
          ]
        }
      ],
      "source": [
        "print(\"Olá\\nMundo\")"
      ]
    },
    {
      "cell_type": "code",
      "execution_count": null,
      "metadata": {
        "ExecuteTime": {
          "end_time": "2022-01-16T17:17:01.681376Z",
          "start_time": "2022-01-16T17:17:01.676449Z"
        },
        "id": "VMF4X4LB7RBV",
        "outputId": "4a8daee1-b30a-4cfa-c57f-c582864ee8e7"
      },
      "outputs": [
        {
          "name": "stdout",
          "output_type": "stream",
          "text": [
            "Olá\tMundo\n"
          ]
        }
      ],
      "source": [
        "print(\"Olá\\tMundo\")"
      ]
    },
    {
      "cell_type": "markdown",
      "metadata": {
        "id": "687TUDTREsSU"
      },
      "source": [
        "Nós também podemos incorporar os valores de variáveis dentro do texto a ser imprimido utilizado a sintaxe do %"
      ]
    },
    {
      "cell_type": "code",
      "execution_count": null,
      "metadata": {
        "ExecuteTime": {
          "end_time": "2022-01-16T17:18:06.960083Z",
          "start_time": "2022-01-16T17:18:06.956634Z"
        },
        "id": "tKQ89OIbEsSU",
        "outputId": "b37f992f-0086-4293-e9b8-052b4f44ee15"
      },
      "outputs": [
        {
          "name": "stdout",
          "output_type": "stream",
          "text": [
            "O valor de a é 1|Não sei\n"
          ]
        }
      ],
      "source": [
        "print(\"O valor de a é %d\" % a, \"Não sei\", sep=\"|\")"
      ]
    },
    {
      "cell_type": "code",
      "execution_count": null,
      "metadata": {
        "ExecuteTime": {
          "end_time": "2022-01-16T17:18:57.391431Z",
          "start_time": "2022-01-16T17:18:57.387485Z"
        },
        "id": "TmlXKDcl7RBX",
        "outputId": "c26f9b28-5ab2-4acd-b141-49d8ede82a67"
      },
      "outputs": [
        {
          "name": "stdout",
          "output_type": "stream",
          "text": [
            "O valor de a é 1\n",
            "O valor de b é 2\n",
            "O valor de a + b é 3\n"
          ]
        }
      ],
      "source": [
        "print(\"O valor de a é %d\\nO valor de b é %i\\nO valor de a + b é %d\" % (a, b, a + b))"
      ]
    },
    {
      "cell_type": "code",
      "execution_count": null,
      "metadata": {
        "ExecuteTime": {
          "end_time": "2022-01-16T17:19:42.960936Z",
          "start_time": "2022-01-16T17:19:42.956979Z"
        },
        "id": "LH0IwQvl7RBY",
        "outputId": "d98dea19-6ee2-488a-8348-553fef6cbc28"
      },
      "outputs": [
        {
          "name": "stdout",
          "output_type": "stream",
          "text": [
            "O valor de a é 007\n"
          ]
        }
      ],
      "source": [
        "print(\"O valor de a é %03d\" % 7)"
      ]
    },
    {
      "cell_type": "markdown",
      "metadata": {
        "id": "PSH7VSAGEsSU"
      },
      "source": [
        "Além de exportar informação nós também podemos receber informação por meio da função input"
      ]
    },
    {
      "cell_type": "code",
      "execution_count": null,
      "metadata": {
        "ExecuteTime": {
          "end_time": "2022-01-16T17:20:30.295101Z",
          "start_time": "2022-01-16T17:20:23.020089Z"
        },
        "id": "gygKeIIiEsSU",
        "outputId": "509c3380-0814-413e-863e-9e083b05d78e"
      },
      "outputs": [
        {
          "name": "stdout",
          "output_type": "stream",
          "text": [
            "me manda ai um número: 1\n"
          ]
        },
        {
          "data": {
            "text/plain": [
              "'1'"
            ]
          },
          "execution_count": 60,
          "metadata": {},
          "output_type": "execute_result"
        }
      ],
      "source": [
        "input(\"me manda ai um número: \")"
      ]
    },
    {
      "cell_type": "markdown",
      "metadata": {
        "id": "QPFhENrREsSU"
      },
      "source": [
        "A função input retornará o valor digitado que pode ser armazenado numa variável"
      ]
    },
    {
      "cell_type": "code",
      "execution_count": null,
      "metadata": {
        "ExecuteTime": {
          "end_time": "2022-01-16T17:21:04.132754Z",
          "start_time": "2022-01-16T17:21:03.230074Z"
        },
        "id": "QHumdIY2EsSU",
        "outputId": "43426ca5-a8c6-45eb-ee7d-2df6b346d8f5"
      },
      "outputs": [
        {
          "name": "stdout",
          "output_type": "stream",
          "text": [
            "me manda ai um número: 1\n"
          ]
        }
      ],
      "source": [
        "num = input(\"me manda ai um número: \")"
      ]
    },
    {
      "cell_type": "code",
      "execution_count": null,
      "metadata": {
        "ExecuteTime": {
          "end_time": "2022-01-16T17:21:06.577555Z",
          "start_time": "2022-01-16T17:21:06.572780Z"
        },
        "id": "wz6W35Lb7RBa",
        "outputId": "7d47efac-336f-4880-957d-18b6b52ee910"
      },
      "outputs": [
        {
          "data": {
            "text/plain": [
              "'1'"
            ]
          },
          "execution_count": 62,
          "metadata": {},
          "output_type": "execute_result"
        }
      ],
      "source": [
        "num"
      ]
    },
    {
      "cell_type": "markdown",
      "metadata": {
        "id": "4mGpeCKxEsSU"
      },
      "source": [
        "Entretanto note que o console não fornece um valor inteiro como estamos acostumados, mas no lugar nos devolve um valor '1'. Para obter o nosso valor de interesse precisamos fazer uma conversão de tipo"
      ]
    },
    {
      "cell_type": "code",
      "execution_count": null,
      "metadata": {
        "ExecuteTime": {
          "end_time": "2022-01-16T17:21:27.045119Z",
          "start_time": "2022-01-16T17:21:26.141698Z"
        },
        "id": "IxrxIhx7EsSU",
        "outputId": "121de3f3-1618-4d13-fbbe-a545fee19832"
      },
      "outputs": [
        {
          "name": "stdout",
          "output_type": "stream",
          "text": [
            "me manda ai um número: 1\n"
          ]
        }
      ],
      "source": [
        "num = int(input(\"me manda ai um número: \"))"
      ]
    },
    {
      "cell_type": "code",
      "execution_count": null,
      "metadata": {
        "ExecuteTime": {
          "end_time": "2022-01-16T17:21:29.521355Z",
          "start_time": "2022-01-16T17:21:29.516929Z"
        },
        "id": "ujfzK62A7RBc",
        "outputId": "3a3865e9-02b1-4c9f-908d-23af8b31a1e2"
      },
      "outputs": [
        {
          "data": {
            "text/plain": [
              "1"
            ]
          },
          "execution_count": 64,
          "metadata": {},
          "output_type": "execute_result"
        }
      ],
      "source": [
        "num"
      ]
    },
    {
      "cell_type": "markdown",
      "metadata": {
        "id": "MMaa2FjGEsSU"
      },
      "source": [
        "---"
      ]
    },
    {
      "cell_type": "markdown",
      "metadata": {
        "id": "kHUSs9-gEsSU"
      },
      "source": [
        "**Exercício 1**\n",
        "\n",
        "Organize os numeros 2,3,4,5,10,12 para obter a saída 18\n",
        "em uma única operação:\n",
        "\n",
        "    x = 12*3\n",
        "    x = x + 4\n",
        "    x = x//10\n",
        "    x = x*5\n",
        "    x = x - 2\n",
        "    print(x)\n"
      ]
    },
    {
      "cell_type": "code",
      "execution_count": null,
      "metadata": {
        "id": "JoSSIaoUEsSV",
        "solution2": "hidden",
        "solution2_first": true
      },
      "outputs": [],
      "source": []
    },
    {
      "cell_type": "code",
      "execution_count": null,
      "metadata": {
        "ExecuteTime": {
          "end_time": "2021-09-06T14:12:25.039801Z",
          "start_time": "2021-09-06T14:12:25.029831Z"
        },
        "cellView": "form",
        "id": "4wSqByMLEsSU",
        "solution2": "hidden"
      },
      "outputs": [],
      "source": [
        "#@title Resposta\n",
        "x = (12 * 3 + 4) // 10 * 5 - 2\n",
        "print(x)"
      ]
    },
    {
      "cell_type": "markdown",
      "metadata": {
        "id": "av6-ODamEsSV"
      },
      "source": [
        "**Exercício 2**\n",
        "\n",
        "Escreva um Programa que imprime dois numeros de sua escolha\n",
        "e que depois imprime a soma, a subtração, a multiplicação,\n",
        "a divisão normal e a divisão inteira,\n",
        "e o resto da divisão do maior pelo menor\n",
        "(coloque na mensagem a palavra resto ao invez do símbolo %)\n",
        "\n",
        "EXEMPLO DE SAÍDA:\n",
        "\n",
        "x = 15; y = 10\n",
        "\n",
        "    15 + 10 = 25\n",
        "    15 - 10 = 5\n",
        "    15 x 10 = 150\n",
        "    15 / 10 = 1.5\n",
        "    15 // 10 = 1\n",
        "    15 resto 10 = 5\n"
      ]
    },
    {
      "cell_type": "code",
      "execution_count": null,
      "metadata": {
        "id": "PCk7m6AUEsSV",
        "solution2": "hidden",
        "solution2_first": true
      },
      "outputs": [],
      "source": []
    },
    {
      "cell_type": "code",
      "execution_count": null,
      "metadata": {
        "ExecuteTime": {
          "end_time": "2021-09-06T15:25:03.486433Z",
          "start_time": "2021-09-06T15:24:58.914131Z"
        },
        "cellView": "form",
        "id": "-xG22c6WEsSV",
        "solution2": "hidden"
      },
      "outputs": [],
      "source": [
        "#@title Resposta\n",
        "x = int(input(\"Digite o valor de x: \"))\n",
        "y = int(input(\"Digite o valor de y: \"))\n",
        "\n",
        "print(\"x =\", x, \"\\ny =\", y)\n",
        "print(x, \"+\", y, \"=\", x + y)\n",
        "print(x, \"-\", y, \"=\", x - y)\n",
        "print(x, \"x\", y, \"=\", x * y)\n",
        "print(x, \"/\", y, \"=\", x / y)\n",
        "print(x, \"//\", y, \"=\", x // y)\n",
        "print(x, \"resto\", y, \"=\", x % y)"
      ]
    },
    {
      "cell_type": "markdown",
      "metadata": {
        "id": "UZfkST2hEsSV"
      },
      "source": [
        "---"
      ]
    },
    {
      "cell_type": "markdown",
      "metadata": {
        "id": "Mu6uXNvpEsSV"
      },
      "source": [
        "## Controladores de Fluxo"
      ]
    },
    {
      "cell_type": "markdown",
      "metadata": {
        "id": "EIjHj4erEsSV"
      },
      "source": [
        "### Estruturas de Decisão"
      ]
    },
    {
      "cell_type": "markdown",
      "metadata": {
        "id": "nP-YvDmTEsSV"
      },
      "source": [
        "#### Variáveis Booleanas"
      ]
    },
    {
      "cell_type": "markdown",
      "metadata": {
        "id": "lJ8WcHKTEsSW"
      },
      "source": [
        "Além das variáveis de tipo inteiro nós temos outros tipos como as variáveis booleanas que são representações de valores binários de Verdadeiro e Falso (True e False respectivamente)"
      ]
    },
    {
      "cell_type": "code",
      "execution_count": null,
      "metadata": {
        "ExecuteTime": {
          "end_time": "2022-01-16T17:24:32.334857Z",
          "start_time": "2022-01-16T17:24:32.331948Z"
        },
        "id": "Rgv3Wkj0EsSW"
      },
      "outputs": [],
      "source": [
        "verdadeiro = True\n",
        "falso = False"
      ]
    },
    {
      "cell_type": "markdown",
      "metadata": {
        "id": "FYghuLUYEsSW"
      },
      "source": [
        "As variáveis booleanas são resultados de comparações entre diferentes valores que avaliam uma determinada expressão"
      ]
    },
    {
      "cell_type": "code",
      "execution_count": null,
      "metadata": {
        "ExecuteTime": {
          "end_time": "2022-01-16T17:25:02.626933Z",
          "start_time": "2022-01-16T17:25:02.622039Z"
        },
        "id": "_yBiva4YEsSW",
        "outputId": "a9cd35f5-c29a-4872-8dfa-daab63e3a7d8"
      },
      "outputs": [
        {
          "data": {
            "text/plain": [
              "True"
            ]
          },
          "execution_count": 66,
          "metadata": {},
          "output_type": "execute_result"
        }
      ],
      "source": [
        "a = 2\n",
        "a > 1"
      ]
    },
    {
      "cell_type": "markdown",
      "metadata": {
        "id": "EFomP8mhEsSW"
      },
      "source": [
        "Veja que o resultado da expressão a > 1 é um valor booleano nos dizendo que o valor de a, 2, é de fato maior do que 1. De forma análoga temos todas as expressões comparativas conhecidas"
      ]
    },
    {
      "cell_type": "code",
      "execution_count": null,
      "metadata": {
        "ExecuteTime": {
          "end_time": "2022-01-16T17:27:49.539088Z",
          "start_time": "2022-01-16T17:27:49.532169Z"
        },
        "id": "TmCuuX3lEsSW",
        "outputId": "1649f0bf-bd65-4fa5-eb35-ff951e286705"
      },
      "outputs": [
        {
          "name": "stdout",
          "output_type": "stream",
          "text": [
            "a maior que 1 True\n",
            "a maior igual a 1 True\n",
            "a menor que 1 False\n",
            "a menor igual a 1 False\n",
            "a igual a 1 False\n",
            "a diferente de 1 True\n",
            "a entre 1 e 2 False\n"
          ]
        }
      ],
      "source": [
        "print(\"a maior que 1\", a > 1)\n",
        "print(\"a maior igual a 1\", a >= 1)\n",
        "print(\"a menor que 1\", a < 1)\n",
        "print(\"a menor igual a 1\", a <= 1)\n",
        "print(\"a igual a 1\", a == 1)\n",
        "print(\"a diferente de 1\", a != 1)\n",
        "print(\"a entre 1 e 2\", 1 < a < 2)"
      ]
    },
    {
      "cell_type": "markdown",
      "metadata": {
        "id": "dEyrGg2uEsSW"
      },
      "source": [
        "Podemos também concatenar expressões utilizando os operadores lógico and, or e not"
      ]
    },
    {
      "cell_type": "markdown",
      "metadata": {
        "id": "OJrD61b4EsSW"
      },
      "source": [
        "AND: Só é verdadeiro quando as duas expressões são verdadeiras"
      ]
    },
    {
      "cell_type": "code",
      "execution_count": null,
      "metadata": {
        "ExecuteTime": {
          "end_time": "2022-01-16T17:29:28.724419Z",
          "start_time": "2022-01-16T17:29:28.718462Z"
        },
        "id": "FJ7qn-aCEsSW",
        "outputId": "e0452922-d5c4-4111-e13d-e6555ffd8a04"
      },
      "outputs": [
        {
          "name": "stdout",
          "output_type": "stream",
          "text": [
            "True True True\n",
            "False True False\n",
            "True False False\n",
            "False False False\n"
          ]
        }
      ],
      "source": [
        "a = 1\n",
        "b = 2\n",
        "\n",
        "print(a == 1 , b > 1, a == 1 and b > 1)\n",
        "print(a > 1 , b > 1, a > 1 and b > 1)\n",
        "print(a == 1 , b < 1, a == 1 and b < 1)\n",
        "print(a > 1 , b < 1, a > 1 and b < 1)"
      ]
    },
    {
      "cell_type": "markdown",
      "metadata": {
        "id": "zqgEVUMgEsSW"
      },
      "source": [
        "OR: É verdadeiro quando uma das expressões é verdadeira"
      ]
    },
    {
      "cell_type": "code",
      "execution_count": null,
      "metadata": {
        "ExecuteTime": {
          "end_time": "2022-01-16T17:30:51.938702Z",
          "start_time": "2022-01-16T17:30:51.931878Z"
        },
        "id": "zlU_FnLlEsSW",
        "outputId": "c8bf627f-adc0-4a11-ffb6-dc4ef1b0ebad"
      },
      "outputs": [
        {
          "name": "stdout",
          "output_type": "stream",
          "text": [
            "True True True\n",
            "False True True\n",
            "True False True\n",
            "False False False\n"
          ]
        }
      ],
      "source": [
        "a = 1\n",
        "b = 2\n",
        "\n",
        "print(a == 1 , b > 1, a == 1 or b > 1)\n",
        "print(a > 1 , b > 1, a > 1 or b > 1)\n",
        "print(a == 1 , b < 1, a == 1 or b < 1)\n",
        "print(a > 1 , b < 1, a > 1 or b < 1)"
      ]
    },
    {
      "cell_type": "code",
      "execution_count": null,
      "metadata": {
        "ExecuteTime": {
          "end_time": "2022-01-16T17:31:46.577579Z",
          "start_time": "2022-01-16T17:31:46.573655Z"
        },
        "id": "gmFIz2aO7RBp"
      },
      "outputs": [],
      "source": [
        "c = 1"
      ]
    },
    {
      "cell_type": "code",
      "execution_count": null,
      "metadata": {
        "ExecuteTime": {
          "end_time": "2022-01-16T17:31:49.666531Z",
          "start_time": "2022-01-16T17:31:49.661526Z"
        },
        "id": "A3YnEwDC7RBp",
        "outputId": "6df198ae-723e-44d2-87f0-f1572065c830"
      },
      "outputs": [
        {
          "data": {
            "text/plain": [
              "True"
            ]
          },
          "execution_count": 74,
          "metadata": {},
          "output_type": "execute_result"
        }
      ],
      "source": [
        "a == 1 and (b > 1 or c > 1)"
      ]
    },
    {
      "cell_type": "markdown",
      "metadata": {
        "id": "s-LIah4CEsSW"
      },
      "source": [
        "NOT: Inverte o resultado de uma comparação"
      ]
    },
    {
      "cell_type": "code",
      "execution_count": null,
      "metadata": {
        "ExecuteTime": {
          "end_time": "2022-01-16T17:32:33.026670Z",
          "start_time": "2022-01-16T17:32:33.021840Z"
        },
        "id": "ohQUgOaEEsSW",
        "outputId": "a1b9d6a4-593f-4a34-a34f-579a6151b9bd"
      },
      "outputs": [
        {
          "data": {
            "text/plain": [
              "False"
            ]
          },
          "execution_count": 76,
          "metadata": {},
          "output_type": "execute_result"
        }
      ],
      "source": [
        "not a == 1"
      ]
    },
    {
      "cell_type": "code",
      "execution_count": null,
      "metadata": {
        "ExecuteTime": {
          "end_time": "2022-01-16T17:32:43.873863Z",
          "start_time": "2022-01-16T17:32:43.869037Z"
        },
        "id": "YaloQN-n7RBr",
        "outputId": "b457a501-02bf-4256-94a0-fce2845ca510"
      },
      "outputs": [
        {
          "data": {
            "text/plain": [
              "True"
            ]
          },
          "execution_count": 77,
          "metadata": {},
          "output_type": "execute_result"
        }
      ],
      "source": [
        "not a > 1"
      ]
    },
    {
      "cell_type": "code",
      "execution_count": null,
      "metadata": {
        "ExecuteTime": {
          "end_time": "2022-01-16T17:33:02.033762Z",
          "start_time": "2022-01-16T17:33:02.029763Z"
        },
        "id": "xA7kz1FI7RBs",
        "outputId": "43eba106-d70e-4b33-bd75-36abdc7b117d"
      },
      "outputs": [
        {
          "data": {
            "text/plain": [
              "False"
            ]
          },
          "execution_count": 78,
          "metadata": {},
          "output_type": "execute_result"
        }
      ],
      "source": [
        "not (a == 1 or b > 1)"
      ]
    },
    {
      "cell_type": "markdown",
      "metadata": {
        "id": "xs_Ip0FQEsSX"
      },
      "source": [
        "#### If / Elif / Else"
      ]
    },
    {
      "cell_type": "markdown",
      "metadata": {
        "id": "D_vLF-51EsSX"
      },
      "source": [
        "Booleanos sozinhos não adicionam muito aos nosso programas, mas estruturas de decisão sim, uma vez que as mesmas podem alterar o andamento do código e executar determinados blocos de acordo com as condições especificadas"
      ]
    },
    {
      "cell_type": "code",
      "execution_count": null,
      "metadata": {
        "ExecuteTime": {
          "end_time": "2022-01-16T17:36:34.757947Z",
          "start_time": "2022-01-16T17:36:32.842917Z"
        },
        "id": "KPI7C_WWEsSX",
        "outputId": "bae25263-7240-4a41-b983-b377589aa8e4"
      },
      "outputs": [
        {
          "name": "stdout",
          "output_type": "stream",
          "text": [
            "Qual a sua idade? 21\n",
            "Hora de encher a cara\n",
            "Fim\n"
          ]
        }
      ],
      "source": [
        "idade = int(input(\"Qual a sua idade? \"))\n",
        "if idade >= 18:\n",
        "    print(\"Hora de encher a cara\")\n",
        "print(\"Fim\")"
      ]
    },
    {
      "cell_type": "code",
      "execution_count": null,
      "metadata": {
        "ExecuteTime": {
          "end_time": "2022-01-16T17:37:18.582068Z",
          "start_time": "2022-01-16T17:37:16.060082Z"
        },
        "id": "JfD-uYSv7RBu",
        "outputId": "fdd23bef-2ebf-4542-89d8-ce2ad6a44c63"
      },
      "outputs": [
        {
          "name": "stdout",
          "output_type": "stream",
          "text": [
            "Qual a sua idade? 17\n",
            "Pra você só toddynho\n",
            "Fim\n"
          ]
        }
      ],
      "source": [
        "idade = int(input(\"Qual a sua idade? \"))\n",
        "if idade >= 18:\n",
        "    print(\"Hora de encher a cara\")\n",
        "else:\n",
        "    print(\"Pra você só toddynho\")\n",
        "print(\"Fim\")"
      ]
    },
    {
      "cell_type": "code",
      "execution_count": null,
      "metadata": {
        "ExecuteTime": {
          "end_time": "2022-01-16T17:38:21.910430Z",
          "start_time": "2022-01-16T17:38:20.091720Z"
        },
        "id": "mMy98Ton7RBu",
        "outputId": "358d1cd6-3243-4e60-aff3-1f85f9620ce5"
      },
      "outputs": [
        {
          "name": "stdout",
          "output_type": "stream",
          "text": [
            "Qual a sua idade? 70\n",
            "Dá pra pegar busão de graça\n",
            "Fim\n"
          ]
        }
      ],
      "source": [
        "idade = int(input(\"Qual a sua idade? \"))\n",
        "if idade >= 65:\n",
        "    print(\"Dá pra pegar busão de graça\")\n",
        "elif idade >= 18:\n",
        "    print(\"Hora de encher a cara\")\n",
        "else:\n",
        "    print(\"Pra você só toddynho\")\n",
        "print(\"Fim\")"
      ]
    },
    {
      "cell_type": "code",
      "execution_count": null,
      "metadata": {
        "ExecuteTime": {
          "end_time": "2022-01-16T17:38:45.510060Z",
          "start_time": "2022-01-16T17:38:43.502797Z"
        },
        "id": "zkIb1gk57RBv",
        "outputId": "5b7110bd-1db0-4264-a05d-aee183f97875"
      },
      "outputs": [
        {
          "name": "stdout",
          "output_type": "stream",
          "text": [
            "Qual a sua idade? 200\n",
            "Você é bem idoso!!\n",
            "Fim\n"
          ]
        }
      ],
      "source": [
        "idade = int(input(\"Qual a sua idade? \"))\n",
        "if idade >= 120:\n",
        "    print(\"Você é bem idoso!!\")\n",
        "elif idade >= 65:\n",
        "    print(\"Dá pra pegar busão de graça\")\n",
        "elif idade >= 18:\n",
        "    print(\"Hora de encher a cara\")\n",
        "else:\n",
        "    print(\"Pra você só toddynho\")\n",
        "print(\"Fim\")"
      ]
    },
    {
      "cell_type": "code",
      "execution_count": null,
      "metadata": {
        "ExecuteTime": {
          "end_time": "2022-01-16T17:39:29.398258Z",
          "start_time": "2022-01-16T17:39:26.573974Z"
        },
        "id": "abWl0IY07RBv",
        "outputId": "1e890b51-94fd-4a5e-c08f-b940bd8759aa"
      },
      "outputs": [
        {
          "name": "stdout",
          "output_type": "stream",
          "text": [
            "Qual a sua idade? 70\n",
            "Dá pra pegar busão de graça\n",
            "Hora de encher a cara\n",
            "Fim\n"
          ]
        }
      ],
      "source": [
        "idade = int(input(\"Qual a sua idade? \"))\n",
        "if idade >= 65:\n",
        "    print(\"Dá pra pegar busão de graça\")\n",
        "\n",
        "if idade >= 18:\n",
        "    print(\"Hora de encher a cara\")\n",
        "else:\n",
        "    print(\"Pra você só toddynho\")\n",
        "print(\"Fim\")"
      ]
    },
    {
      "cell_type": "markdown",
      "metadata": {
        "id": "Rw2UulO8EsSX"
      },
      "source": [
        "---"
      ]
    },
    {
      "cell_type": "markdown",
      "metadata": {
        "id": "c4hELKLWEsSX"
      },
      "source": [
        "**Exercício 3**\n",
        "\n",
        "Faça um Programa para uma loja de tintas.\n",
        "\n",
        "O programa deverá pedir o tamanho em metros quadrados da área a ser pintada.\n",
        "Considere que a cobertura da tinta é de 1 litro para cada 6 metros quadrados\n",
        "e que a tinta é vendida em latas de 18 litros, que custam R\\\\$ 80,00 ou\n",
        "em galões de 4 litros, que custam R\\\\$ 25,00.\n",
        "\n",
        "Informe ao usuário as quantidades de tinta a serem compradas e os respectivos\n",
        "preços em 3 situações:\n",
        "    comprar apenas latas de 18 litros;\n",
        "    comprar apenas galões de 4 litros;\n",
        "    misturar latas e galões, de forma que o preço seja o menor."
      ]
    },
    {
      "cell_type": "code",
      "execution_count": null,
      "metadata": {
        "id": "IbScKN9dEsSX",
        "solution2": "hidden",
        "solution2_first": true
      },
      "outputs": [],
      "source": []
    },
    {
      "cell_type": "code",
      "execution_count": null,
      "metadata": {
        "ExecuteTime": {
          "end_time": "2021-09-06T14:12:59.254806Z",
          "start_time": "2021-09-06T14:12:57.200841Z"
        },
        "cellView": "form",
        "id": "q1afgGjlEsSX",
        "solution2": "hidden"
      },
      "outputs": [],
      "source": [
        "#@title Resposta\n",
        "# insira o valor da área aqui\n",
        "area = int(input(\"Insira o valor da área: \"))\n",
        "\n",
        "# Vamos calcular o numero de litros necessários para pintar a casa\n",
        "litros = area // 6\n",
        "if area % 6 > 0:\n",
        "    litros = litros + 1\n",
        "\n",
        "print(\"Litros necessários:\", litros, \"\\n\")\n",
        "\n",
        "print(\"1) comprar apenas latas de 18 litros\")\n",
        "latas = litros // 18\n",
        "if litros % 18 > 0:\n",
        "    latas = latas + 1\n",
        "\n",
        "print(\"Serão necessárias\", latas, \"latas\")\n",
        "print(\"Obteremos\", latas * 18, \"litros\")\n",
        "print(\"Total: R$\", latas * 80)\n",
        "\n",
        "print(\"\\n2)Comprar apenas galões de 4 litros\")\n",
        "galoes = litros//4\n",
        "if litros % 4 > 0:\n",
        "    galoes = galoes + 1\n",
        "\n",
        "print(\"Serão necessárias\", galoes, \"galoes\")\n",
        "print(\"Obteremos\", galoes * 4, \"litros\")\n",
        "print(\"Total: R$\", galoes * 25)\n",
        "\n",
        "# Vamos pensar, o preço total por litro pago nas latas é 80/18 ~ 4.44 R$/L\n",
        "# enquanto que para o gualão é 25/4 ~ 6.25 R$/L\n",
        "# portanto é sempre mais vantajoso comprar o máximo de latas possíveis\n",
        "# e o mínimo de galões, desde que o preço desses galoes não ultrapasse o preço\n",
        "# de uma lata, isto é, o numero de galoes seja menor ou igual a 3 (R$ 75)\n",
        "print(\"\\n3)Misturar latas e galões, de forma que o preço seja o menor.\")\n",
        "latas = litros // 18\n",
        "galoes = 0\n",
        "litros_restantes = litros % 18\n",
        "\n",
        "if litros_restantes <= 3 * 4:\n",
        "    # Ou seja o numero de galoes necessarios seja menor do que três\n",
        "    galoes = litros_restantes // 4\n",
        "    if litros_restantes % 4 > 0:\n",
        "        galoes += 1\n",
        "else:\n",
        "    latas += 1\n",
        "\n",
        "print(\"Serão necessárias\", latas, \"latas\")\n",
        "print(\"Serão necessárias\", galoes, \"galoes\")\n",
        "print(\"Obteremos\", latas * 18 + galoes * 4, \"litros\")\n",
        "print(\"Total: R$\", galoes * 25 + latas * 80)"
      ]
    },
    {
      "cell_type": "markdown",
      "metadata": {
        "id": "Q21r8Mc_EsSY"
      },
      "source": [
        "---"
      ]
    },
    {
      "cell_type": "markdown",
      "metadata": {
        "id": "52L348CYEsSY"
      },
      "source": [
        "### Estruturas de Repetição"
      ]
    },
    {
      "cell_type": "markdown",
      "metadata": {
        "id": "LxjYJXvrEsSY"
      },
      "source": [
        "Estruturas de repetição são cruciais em qualquer linguagem de programação porque permitem que determinados blocos de código sejam executados múltiplas vezes. É justamente esse tipo de estrutura que evita que tenhamos que escrever o mesmo código repetidas vezes para se atingir um determinado resultado"
      ]
    },
    {
      "cell_type": "markdown",
      "metadata": {
        "id": "R1aTgnkqEsSY"
      },
      "source": [
        "#### While"
      ]
    },
    {
      "cell_type": "markdown",
      "metadata": {
        "id": "3yz1xcsBEsSY"
      },
      "source": [
        "O bloco while é utilizado para executar um determinado bloco de código ENQUANTO (while em português) uma condição seja verdadeira"
      ]
    },
    {
      "cell_type": "code",
      "execution_count": null,
      "metadata": {
        "ExecuteTime": {
          "end_time": "2022-01-16T17:44:48.576885Z",
          "start_time": "2022-01-16T17:44:48.571933Z"
        },
        "id": "Uw3RZIAyEsSY",
        "outputId": "1c7e010d-fc2d-4940-c058-913f7d9cac96"
      },
      "outputs": [
        {
          "name": "stdout",
          "output_type": "stream",
          "text": [
            "0\n",
            "1\n",
            "2\n",
            "3\n",
            "4\n"
          ]
        }
      ],
      "source": [
        "a = 0\n",
        "while a < 5:\n",
        "    print(a)\n",
        "    a += 1"
      ]
    },
    {
      "cell_type": "markdown",
      "metadata": {
        "id": "G8Nz910lEsSY"
      },
      "source": [
        "É preciso ser muito cuidadoso, entretanto com laços infinitos, uma vez que seu programa travará caso você faça isso, entretanto é relativamente comum seu uso por exemplo em jogos ou em aps iterativos de uso contínuo"
      ]
    },
    {
      "cell_type": "code",
      "execution_count": null,
      "metadata": {
        "ExecuteTime": {
          "end_time": "2022-01-16T17:45:10.832447Z",
          "start_time": "2022-01-16T17:45:08.846060Z"
        },
        "id": "fhRAAD28EsSY"
      },
      "outputs": [],
      "source": [
        "a = 0\n",
        "while a < 5:\n",
        "    print(a)"
      ]
    },
    {
      "cell_type": "markdown",
      "metadata": {
        "id": "RSEyg3JZEsSY"
      },
      "source": [
        "---"
      ]
    },
    {
      "cell_type": "markdown",
      "metadata": {
        "id": "Wb3Ik4XAEsSY"
      },
      "source": [
        "**Exercício 4**\n",
        "\n",
        "Dizemos que um inteiro positivo n é perfeito se for igual à soma de\n",
        "seus divisores positivos diferentes de n.\n",
        "\n",
        "Exemplo: 6 é perfeito, pois 1+2+3 = 6.\n",
        "       \n",
        "Dado um inteiro positivo n, verificar se n é perfeito."
      ]
    },
    {
      "cell_type": "code",
      "execution_count": null,
      "metadata": {
        "id": "zbBwsh6fEsSZ",
        "solution2": "hidden",
        "solution2_first": true
      },
      "outputs": [],
      "source": []
    },
    {
      "cell_type": "code",
      "execution_count": null,
      "metadata": {
        "ExecuteTime": {
          "end_time": "2021-09-06T14:13:22.730775Z",
          "start_time": "2021-09-06T14:13:20.576161Z"
        },
        "cellView": "form",
        "id": "WyhL8h8TEsSY",
        "solution2": "hidden"
      },
      "outputs": [],
      "source": [
        "#@title Resposta\n",
        "n = int(input(\"Digite o valor de n: \"))\n",
        "\n",
        "cont, soma = 2, 1\n",
        "while cont < n:\n",
        "    if n % cont == 0:\n",
        "        soma += cont\n",
        "    cont += 1\n",
        "\n",
        "if soma == n:\n",
        "    print (\"O número\", n, \"é perfeito\")\n",
        "else:\n",
        "    print (\"O número\", n, \"não é perfeito\")"
      ]
    },
    {
      "cell_type": "markdown",
      "metadata": {
        "id": "wnNmqU-oEsSZ"
      },
      "source": [
        "---"
      ]
    },
    {
      "cell_type": "markdown",
      "metadata": {
        "id": "ZwghVaW6EsSZ"
      },
      "source": [
        "#### For"
      ]
    },
    {
      "cell_type": "markdown",
      "metadata": {
        "id": "0WaNYgVBEsSZ"
      },
      "source": [
        "Laços for, diferente do while, percorrem uma lista de itens em particular combinados com a expressão in. Esses laços são muito usados com listas (que veremos mais a frente), mas também com objetos \"range\""
      ]
    },
    {
      "cell_type": "code",
      "execution_count": null,
      "metadata": {
        "ExecuteTime": {
          "end_time": "2022-01-16T17:49:19.555566Z",
          "start_time": "2022-01-16T17:49:19.550485Z"
        },
        "id": "nOMqcsYaEsSZ",
        "outputId": "75a62466-ad6e-4858-fe96-aec1300f3360"
      },
      "outputs": [
        {
          "name": "stdout",
          "output_type": "stream",
          "text": [
            "0\n",
            "1\n",
            "2\n",
            "3\n",
            "4\n"
          ]
        }
      ],
      "source": [
        "for a in range(5):\n",
        "    print(a)"
      ]
    },
    {
      "cell_type": "code",
      "execution_count": null,
      "metadata": {
        "ExecuteTime": {
          "end_time": "2022-01-16T17:49:34.833240Z",
          "start_time": "2022-01-16T17:49:34.828844Z"
        },
        "id": "R1bAOOl87RB8",
        "outputId": "a2710fca-a3d0-4bc8-9eef-53d0aadfa141"
      },
      "outputs": [
        {
          "name": "stdout",
          "output_type": "stream",
          "text": [
            "0\n",
            "1\n",
            "2\n",
            "3\n",
            "4\n"
          ]
        }
      ],
      "source": [
        "# começo = 0 (inclusivo)\n",
        "# fim = 5 (não inclusivo)\n",
        "# passo = 1\n",
        "for a in range(0, 5, 1):\n",
        "    print(a)"
      ]
    },
    {
      "cell_type": "code",
      "execution_count": null,
      "metadata": {
        "ExecuteTime": {
          "end_time": "2022-01-16T17:49:44.913368Z",
          "start_time": "2022-01-16T17:49:44.910375Z"
        },
        "id": "zRgl9FWN7RB9",
        "outputId": "e51c1b05-8b47-4a89-ee77-a80ce9bd79cb"
      },
      "outputs": [
        {
          "name": "stdout",
          "output_type": "stream",
          "text": [
            "0\n",
            "2\n",
            "4\n"
          ]
        }
      ],
      "source": [
        "for a in range(0, 5, 2):\n",
        "    print(a)"
      ]
    },
    {
      "cell_type": "code",
      "execution_count": null,
      "metadata": {
        "ExecuteTime": {
          "end_time": "2022-01-16T17:50:11.507224Z",
          "start_time": "2022-01-16T17:50:11.501407Z"
        },
        "id": "5RHpoIsY7RB9",
        "outputId": "a274f47e-fade-4618-e08b-0a5662786e90"
      },
      "outputs": [
        {
          "name": "stdout",
          "output_type": "stream",
          "text": [
            "-5\n",
            "-4\n",
            "-3\n",
            "-2\n",
            "-1\n"
          ]
        }
      ],
      "source": [
        "for a in range(-5, 0, 1):\n",
        "    print(a)"
      ]
    },
    {
      "cell_type": "code",
      "execution_count": null,
      "metadata": {
        "ExecuteTime": {
          "end_time": "2022-01-16T17:50:21.091975Z",
          "start_time": "2022-01-16T17:50:21.087030Z"
        },
        "id": "LtBYf-iP7RB-",
        "outputId": "ddfff24f-e2d9-4df9-b5aa-f171c2b5d99d"
      },
      "outputs": [
        {
          "name": "stdout",
          "output_type": "stream",
          "text": [
            "5\n",
            "4\n",
            "3\n",
            "2\n",
            "1\n"
          ]
        }
      ],
      "source": [
        "for a in range(5, 0, -1):\n",
        "    print(a)"
      ]
    },
    {
      "cell_type": "code",
      "execution_count": null,
      "metadata": {
        "ExecuteTime": {
          "end_time": "2022-01-16T17:50:51.218587Z",
          "start_time": "2022-01-16T17:50:51.214641Z"
        },
        "id": "3zyAjDiH7RB_",
        "outputId": "4b2cd655-6e95-4566-f35c-bfa64fcdeae9"
      },
      "outputs": [
        {
          "name": "stdout",
          "output_type": "stream",
          "text": [
            "1\n",
            "2\n",
            "3\n",
            "4\n",
            "5\n",
            "6\n",
            "7\n",
            "8\n",
            "9\n",
            "10\n"
          ]
        }
      ],
      "source": [
        "for a in range(1, 11):\n",
        "    print(a)"
      ]
    },
    {
      "cell_type": "markdown",
      "metadata": {
        "id": "ja1acPdGEsSZ"
      },
      "source": [
        "---"
      ]
    },
    {
      "cell_type": "markdown",
      "metadata": {
        "id": "Wgjwv2tOEsSZ"
      },
      "source": [
        "**Exercício 5**\n",
        "\n",
        "Sabe-se que um número da forma n^3 é igual a soma de n ímpares consecutivos.\n",
        "\n",
        "Exemplo: 1^3= 1, 2^3= 3+5, 3^3= 7+9+11,  4^3= 13+15+17+19,...\n",
        "\n",
        "Dado m, determine os ímpares consecutivos cuja soma é igual a n^3 para n\n",
        "assumindo valores de 1 a m."
      ]
    },
    {
      "cell_type": "code",
      "execution_count": null,
      "metadata": {
        "id": "P59L6OVsEsSZ",
        "solution2": "hidden",
        "solution2_first": true
      },
      "outputs": [],
      "source": []
    },
    {
      "cell_type": "code",
      "execution_count": null,
      "metadata": {
        "ExecuteTime": {
          "end_time": "2022-01-16T17:52:26.184239Z",
          "start_time": "2022-01-16T17:52:23.342525Z"
        },
        "cellView": "form",
        "id": "JMc2yPedEsSZ",
        "solution2": "hidden",
        "outputId": "6d276f29-7b1b-446c-d758-0d9d784b0576"
      },
      "outputs": [
        {
          "name": "stdout",
          "output_type": "stream",
          "text": [
            "Digite o valor de m: 6\n",
            "1*1*1 = \n",
            "+ 1\n",
            "\n",
            "\n",
            "2*2*2 = \n",
            "+ 3\n",
            "+ 5\n",
            "\n",
            "\n",
            "3*3*3 = \n",
            "+ 7\n",
            "+ 9\n",
            "+ 11\n",
            "\n",
            "\n",
            "4*4*4 = \n",
            "+ 13\n",
            "+ 15\n",
            "+ 17\n",
            "+ 19\n",
            "\n",
            "\n",
            "5*5*5 = \n",
            "+ 21\n",
            "+ 23\n",
            "+ 25\n",
            "+ 27\n",
            "+ 29\n",
            "\n",
            "\n",
            "6*6*6 = \n",
            "+ 31\n",
            "+ 33\n",
            "+ 35\n",
            "+ 37\n",
            "+ 39\n",
            "+ 41\n",
            "\n",
            "\n"
          ]
        }
      ],
      "source": [
        "#@title Resposta\n",
        "m = int(input(\"Digite o valor de m: \"))\n",
        "for n in range(1, m+1):\n",
        "    soma, inicio = 0, 1\n",
        "    while soma != n*n*n:\n",
        "        soma = 0\n",
        "        for i in range(n):\n",
        "            soma = soma + inicio + 2 * i\n",
        "        inicio += 2\n",
        "\n",
        "    inicio = inicio - 2\n",
        "    print(\"%d*%d*%d = \" % (n, n, n))\n",
        "    for i in range(n):\n",
        "        print(\"+\", inicio + 2 * i)\n",
        "    print(\"\\n\")"
      ]
    },
    {
      "cell_type": "markdown",
      "metadata": {
        "id": "VOzR47y9EsSZ"
      },
      "source": [
        "---"
      ]
    },
    {
      "cell_type": "markdown",
      "metadata": {
        "id": "nBhOdYBaEsSZ"
      },
      "source": [
        "#### Break e Continue"
      ]
    },
    {
      "cell_type": "markdown",
      "metadata": {
        "id": "SA7YxCleEsSZ"
      },
      "source": [
        "As expressões break e continue são controladores de fluxo que permitem alterar como um determinado loop funciona"
      ]
    },
    {
      "cell_type": "code",
      "execution_count": null,
      "metadata": {
        "ExecuteTime": {
          "end_time": "2022-01-16T17:54:50.674000Z",
          "start_time": "2022-01-16T17:54:50.669062Z"
        },
        "id": "0VlKJlJAEsSa",
        "outputId": "81041645-5e92-44c1-b684-1f06044cba51"
      },
      "outputs": [
        {
          "name": "stdout",
          "output_type": "stream",
          "text": [
            "0\n",
            "1\n",
            "2\n"
          ]
        }
      ],
      "source": [
        "for i in range(5):\n",
        "    if i == 3:\n",
        "        break\n",
        "    print(i)"
      ]
    },
    {
      "cell_type": "code",
      "execution_count": null,
      "metadata": {
        "ExecuteTime": {
          "end_time": "2022-01-16T17:55:11.507510Z",
          "start_time": "2022-01-16T17:55:11.503693Z"
        },
        "id": "w2bWfquP7RCD",
        "outputId": "c6f19013-3095-4eff-beec-c5b9dae1d3b8"
      },
      "outputs": [
        {
          "name": "stdout",
          "output_type": "stream",
          "text": [
            "0\n",
            "1\n",
            "2\n",
            "4\n"
          ]
        }
      ],
      "source": [
        "for i in range(5):\n",
        "    if i == 3:\n",
        "        continue\n",
        "    print(i)"
      ]
    },
    {
      "cell_type": "markdown",
      "metadata": {
        "id": "QHjtbyQkEsSa"
      },
      "source": [
        "---"
      ]
    },
    {
      "cell_type": "markdown",
      "metadata": {
        "id": "pIXXnKT6EsSa"
      },
      "source": [
        "**Exercício 6**\n",
        "\n",
        "Escreva o jogo do chute.\n",
        "\n",
        "\n",
        "Nele, dado um número inteiro entre 1 e 100, você deve pedir\n",
        "para o usuário advinhar o número que você escolheu\n",
        "\n",
        "Para cada chute do usuário você deve imprimir uma dica, se\n",
        "ele chutou baixo de mais ou alto demais\n",
        "\n",
        "Uma vez que o usuário acerte o chute o programa imprime uma\n",
        "mensagem e também o número de chutes que o usuário deu\n",
        "\n",
        "OBS: Use o statement break\n",
        "\n",
        "Exemplo:\n",
        "\n",
        "    Tente advinhar o número que eu estou pensando\n",
        "    Seu Chute: 50\n",
        "    Você deve chutar mais alto!\n",
        "    Seu Chute: 75\n",
        "    Você deve chutar mais alto!\n",
        "    Seu Chute: 87\n",
        "    Você deve chutar mais alto!\n",
        "    Seu Chute: 93\n",
        "    Você deve chutar mais alto!\n",
        "    Seu Chute: 97\n",
        "    Você deve chutar mais baixo!\n",
        "    Seu Chute: 95\n",
        "    Parabens você acertou!!\n",
        "    Você chutou 6 vezes"
      ]
    },
    {
      "cell_type": "code",
      "execution_count": null,
      "metadata": {
        "id": "fpfh7ZUFEsSa",
        "solution2": "hidden",
        "solution2_first": true
      },
      "outputs": [],
      "source": []
    },
    {
      "cell_type": "code",
      "execution_count": null,
      "metadata": {
        "cellView": "form",
        "id": "xwtlFMoSEsSa",
        "solution2": "hidden"
      },
      "outputs": [],
      "source": [
        "#@title Resposta\n",
        "num = 37\n",
        "\n",
        "chutes = 0\n",
        "\n",
        "print(\"Tente advinhar o número que eu estou pensando\")\n",
        "\n",
        "while True:\n",
        "    chute = int(input(\"Seu Chute: \"))\n",
        "    chutes += 1\n",
        "    if chute == num:\n",
        "        break\n",
        "    elif chute < num:\n",
        "        print(\"Você deve chutar mais alto!\")\n",
        "    else:\n",
        "        print(\"Você deve chutar mais baixo!\")\n",
        "\n",
        "\n",
        "print(\"Parabens você acertou!!\")\n",
        "print(\"Você chutou %i vezes\"%chutes)"
      ]
    },
    {
      "cell_type": "markdown",
      "metadata": {
        "id": "2BnwrJgkEsSa"
      },
      "source": [
        "---"
      ]
    },
    {
      "cell_type": "markdown",
      "metadata": {
        "id": "9ixwrbQKEsSa"
      },
      "source": [
        "## Tipos de Variáveis"
      ]
    },
    {
      "cell_type": "markdown",
      "metadata": {
        "id": "G55O_P2dEsSa"
      },
      "source": [
        "### Variáveis Numéricas"
      ]
    },
    {
      "cell_type": "markdown",
      "metadata": {
        "id": "KWCXzuWDEsSa"
      },
      "source": [
        "#### Reais"
      ]
    },
    {
      "cell_type": "markdown",
      "metadata": {
        "id": "jqSo-qI4EsSa"
      },
      "source": [
        "Números reais são iguais a números inteiros, exceto que possuem casas decimais representadas por ."
      ]
    },
    {
      "cell_type": "code",
      "execution_count": null,
      "metadata": {
        "ExecuteTime": {
          "end_time": "2022-01-16T17:57:31.122570Z",
          "start_time": "2022-01-16T17:57:31.118708Z"
        },
        "id": "4YXyiV2zEsSa"
      },
      "outputs": [],
      "source": [
        "a = 1.1\n",
        "b = 1.0\n",
        "c = 2.\n",
        "d = .27"
      ]
    },
    {
      "cell_type": "code",
      "execution_count": null,
      "metadata": {
        "ExecuteTime": {
          "end_time": "2022-01-16T17:57:47.457711Z",
          "start_time": "2022-01-16T17:57:47.452889Z"
        },
        "id": "g54bLyU87RCK",
        "outputId": "aaaa0dd8-c35d-4f42-cca0-f939a68d1cc2"
      },
      "outputs": [
        {
          "data": {
            "text/plain": [
              "float"
            ]
          },
          "execution_count": 108,
          "metadata": {},
          "output_type": "execute_result"
        }
      ],
      "source": [
        "type(b)"
      ]
    },
    {
      "cell_type": "markdown",
      "metadata": {
        "id": "Q4Kn99wJEsSa"
      },
      "source": [
        "Podemos converter números reais para inteiros e vice-versa utilizando operações matemáticas, na qual, por padrão, sempre converteremos o resultado da operação para um valor real."
      ]
    },
    {
      "cell_type": "code",
      "execution_count": null,
      "metadata": {
        "ExecuteTime": {
          "end_time": "2022-01-16T17:58:22.083149Z",
          "start_time": "2022-01-16T17:58:22.078294Z"
        },
        "id": "1R4LYYdqEsSa",
        "outputId": "d6c7899b-5dc5-4281-c89e-95cec09f59a9"
      },
      "outputs": [
        {
          "data": {
            "text/plain": [
              "2.2"
            ]
          },
          "execution_count": 109,
          "metadata": {},
          "output_type": "execute_result"
        }
      ],
      "source": [
        "1.1 * 2"
      ]
    },
    {
      "cell_type": "code",
      "execution_count": null,
      "metadata": {
        "ExecuteTime": {
          "end_time": "2022-01-16T17:58:40.564549Z",
          "start_time": "2022-01-16T17:58:40.559599Z"
        },
        "id": "KzMW_A5s7RCM",
        "outputId": "5fedcf54-8b19-43a1-9f2f-ab57aa8bdde9"
      },
      "outputs": [
        {
          "data": {
            "text/plain": [
              "1.0"
            ]
          },
          "execution_count": 110,
          "metadata": {},
          "output_type": "execute_result"
        }
      ],
      "source": [
        "4.3 // 3"
      ]
    },
    {
      "cell_type": "markdown",
      "metadata": {
        "id": "Ky6aDs5BEsSb"
      },
      "source": [
        "As funções float e int.\n",
        "\n",
        "É importante notar que a função int não arredonda o número real, ela apenas pega o valor da representação numérica inteira do número"
      ]
    },
    {
      "cell_type": "code",
      "execution_count": null,
      "metadata": {
        "ExecuteTime": {
          "end_time": "2022-01-16T17:59:15.606541Z",
          "start_time": "2022-01-16T17:59:15.601621Z"
        },
        "id": "F441z092EsSb",
        "outputId": "083d0fe4-c370-44b6-a410-98e4e334b006"
      },
      "outputs": [
        {
          "data": {
            "text/plain": [
              "2.0"
            ]
          },
          "execution_count": 111,
          "metadata": {},
          "output_type": "execute_result"
        }
      ],
      "source": [
        "float(2)"
      ]
    },
    {
      "cell_type": "code",
      "execution_count": null,
      "metadata": {
        "ExecuteTime": {
          "end_time": "2022-01-16T17:59:20.802483Z",
          "start_time": "2022-01-16T17:59:20.798480Z"
        },
        "id": "HVGaM35a7RCO",
        "outputId": "2889f1cf-5a09-41f6-d7e7-feee253c35da"
      },
      "outputs": [
        {
          "data": {
            "text/plain": [
              "2.4"
            ]
          },
          "execution_count": 112,
          "metadata": {},
          "output_type": "execute_result"
        }
      ],
      "source": [
        "float(\"2.4\")"
      ]
    },
    {
      "cell_type": "code",
      "execution_count": null,
      "metadata": {
        "ExecuteTime": {
          "end_time": "2022-01-16T17:59:27.314411Z",
          "start_time": "2022-01-16T17:59:27.310464Z"
        },
        "id": "Nu8qAmTE7RCO",
        "outputId": "76aa6105-cf18-498d-e8ac-91f63abb2351"
      },
      "outputs": [
        {
          "data": {
            "text/plain": [
              "2"
            ]
          },
          "execution_count": 113,
          "metadata": {},
          "output_type": "execute_result"
        }
      ],
      "source": [
        "int(2.4)"
      ]
    },
    {
      "cell_type": "code",
      "execution_count": null,
      "metadata": {
        "ExecuteTime": {
          "end_time": "2022-01-16T17:59:34.706924Z",
          "start_time": "2022-01-16T17:59:34.702502Z"
        },
        "id": "yel9ZmvV7RCP",
        "outputId": "dee6ddbd-1dd5-46fc-897f-cb87255d8689"
      },
      "outputs": [
        {
          "data": {
            "text/plain": [
              "2"
            ]
          },
          "execution_count": 114,
          "metadata": {},
          "output_type": "execute_result"
        }
      ],
      "source": [
        "int(2.6)"
      ]
    },
    {
      "cell_type": "markdown",
      "metadata": {
        "id": "N8GktGYMEsSb"
      },
      "source": [
        "E a função round"
      ]
    },
    {
      "cell_type": "code",
      "execution_count": null,
      "metadata": {
        "ExecuteTime": {
          "end_time": "2022-01-16T18:00:02.211620Z",
          "start_time": "2022-01-16T18:00:02.207657Z"
        },
        "id": "yCc9ZFaHEsSb",
        "outputId": "af7168cb-b8ce-4a13-eb2e-5d6817269e5e"
      },
      "outputs": [
        {
          "data": {
            "text/plain": [
              "3"
            ]
          },
          "execution_count": 116,
          "metadata": {},
          "output_type": "execute_result"
        }
      ],
      "source": [
        "round(2.6)"
      ]
    },
    {
      "cell_type": "code",
      "execution_count": null,
      "metadata": {
        "ExecuteTime": {
          "end_time": "2022-01-16T18:00:19.906871Z",
          "start_time": "2022-01-16T18:00:19.902910Z"
        },
        "id": "WaGyjEDF7RCR",
        "outputId": "acf407bd-1213-4760-e46f-e9cdf41b9727"
      },
      "outputs": [
        {
          "data": {
            "text/plain": [
              "3.44"
            ]
          },
          "execution_count": 117,
          "metadata": {},
          "output_type": "execute_result"
        }
      ],
      "source": [
        "round(3.435678, 2)"
      ]
    },
    {
      "cell_type": "markdown",
      "metadata": {
        "id": "rPO9tZOGEsSb"
      },
      "source": [
        "Nas funções de print podemos formatar números inteiros"
      ]
    },
    {
      "cell_type": "code",
      "execution_count": null,
      "metadata": {
        "ExecuteTime": {
          "end_time": "2022-01-16T18:01:24.066712Z",
          "start_time": "2022-01-16T18:01:24.062806Z"
        },
        "id": "p98tdrbqEsSb",
        "outputId": "8552d069-cd80-4d8a-9087-ea08b0dfe322"
      },
      "outputs": [
        {
          "name": "stdout",
          "output_type": "stream",
          "text": [
            "Numero real 2.3\n",
            "Numero real 2.300000\n",
            "Numero real 2.35\n"
          ]
        }
      ],
      "source": [
        "print(\"Numero real\", 2.3)\n",
        "print(\"Numero real %f\" % 2.3)\n",
        "print(\"Numero real %.2f\" % 2.34567)"
      ]
    },
    {
      "cell_type": "markdown",
      "metadata": {
        "id": "CArU9Qh6EsSb"
      },
      "source": [
        "---"
      ]
    },
    {
      "cell_type": "markdown",
      "metadata": {
        "id": "pRw5ppU7EsSb"
      },
      "source": [
        "**Exercício 7**"
      ]
    },
    {
      "cell_type": "markdown",
      "metadata": {
        "id": "bzEGXoyPEsSb"
      },
      "source": [
        "Tendo como dados de entrada a altura e o sexo de uma pessoa, construa um algoritmo que calcule seu peso ideal, utilizando as seguintes fórmulas:\n",
        "\n",
        "Para homens: (72.7*h) - 58\n",
        "\n",
        "Para mulheres: (62.1*h) - 44.7 (h = altura)\n",
        "\n",
        "Peça o peso da pessoa e informe se ela está dentro, acima ou abaixo do peso."
      ]
    },
    {
      "cell_type": "code",
      "execution_count": null,
      "metadata": {
        "id": "ULvO7QCNEsSc",
        "solution2": "hidden",
        "solution2_first": true
      },
      "outputs": [],
      "source": []
    },
    {
      "cell_type": "code",
      "execution_count": null,
      "metadata": {
        "cellView": "form",
        "id": "wQ6ZzLKMEsSb",
        "solution2": "hidden"
      },
      "outputs": [],
      "source": [
        "#@title Resposta\n",
        "altura = float(input(\"Digite a sua altura: \"))\n",
        "sexo = int(input(\"Digite o seu sexo(Masculino = 0/ Feminino = 1): \"))\n",
        "peso = float(input(\"Digite o seu peso: \"))\n",
        "\n",
        "if sexo == 0:\n",
        "    peso_ideal = (72.7 * altura) - 58\n",
        "else:\n",
        "    peso_ideal = (62.1 * altura) - 44.7\n",
        "\n",
        "if peso > peso_ideal:\n",
        "    print(\"Você está acima do peso\")\n",
        "elif peso == peso_ideal:\n",
        "    print(\"Você está no seu peso ideal\")\n",
        "else:\n",
        "    print(\"Você está abaixo do peso\")"
      ]
    },
    {
      "cell_type": "markdown",
      "metadata": {
        "id": "cNMcWB-iEsSc"
      },
      "source": [
        "---"
      ]
    },
    {
      "cell_type": "markdown",
      "metadata": {
        "id": "8rRVHjGDEsSc"
      },
      "source": [
        "#### Complexo"
      ]
    },
    {
      "cell_type": "markdown",
      "metadata": {
        "id": "7dtxcO66EsSc"
      },
      "source": [
        "Python também possuí estruturas para representar números complexos utilizando o j para representar a parte imaginária de um número"
      ]
    },
    {
      "cell_type": "code",
      "execution_count": null,
      "metadata": {
        "ExecuteTime": {
          "end_time": "2022-01-16T18:13:16.835701Z",
          "start_time": "2022-01-16T18:13:16.831689Z"
        },
        "id": "5kx4jpb9EsSc",
        "outputId": "48f813e0-cc69-49b3-e176-47ea5e01494e"
      },
      "outputs": [
        {
          "data": {
            "text/plain": [
              "(1+2j)"
            ]
          },
          "execution_count": 120,
          "metadata": {},
          "output_type": "execute_result"
        }
      ],
      "source": [
        "a = 1 + 2j\n",
        "a"
      ]
    },
    {
      "cell_type": "markdown",
      "metadata": {
        "ExecuteTime": {
          "end_time": "2021-09-06T14:46:01.693481Z",
          "start_time": "2021-09-06T14:46:01.680986Z"
        },
        "id": "mUWYCbvpEsSc"
      },
      "source": [
        "Podemos acessar as partes reais e complexas de um número de forma independente"
      ]
    },
    {
      "cell_type": "code",
      "execution_count": null,
      "metadata": {
        "ExecuteTime": {
          "end_time": "2022-01-16T18:13:23.698380Z",
          "start_time": "2022-01-16T18:13:23.694378Z"
        },
        "id": "wcdDHdG0EsSc",
        "outputId": "7ac4dbbf-de2b-4495-bec8-24659eb0cc00"
      },
      "outputs": [
        {
          "data": {
            "text/plain": [
              "1.0"
            ]
          },
          "execution_count": 121,
          "metadata": {},
          "output_type": "execute_result"
        }
      ],
      "source": [
        "a.real"
      ]
    },
    {
      "cell_type": "code",
      "execution_count": null,
      "metadata": {
        "ExecuteTime": {
          "end_time": "2022-01-16T18:13:27.107427Z",
          "start_time": "2022-01-16T18:13:27.102518Z"
        },
        "id": "ZbD8J_A87RCa",
        "outputId": "63f8fc6a-66cf-47e6-d7f6-e55ac0077653"
      },
      "outputs": [
        {
          "data": {
            "text/plain": [
              "2.0"
            ]
          },
          "execution_count": 122,
          "metadata": {},
          "output_type": "execute_result"
        }
      ],
      "source": [
        "a.imag"
      ]
    },
    {
      "cell_type": "markdown",
      "metadata": {
        "id": "ENkX2nSbEsSc"
      },
      "source": [
        "E até fazer operações númericas com essas partes"
      ]
    },
    {
      "cell_type": "code",
      "execution_count": null,
      "metadata": {
        "ExecuteTime": {
          "end_time": "2022-01-16T18:13:35.171413Z",
          "start_time": "2022-01-16T18:13:35.165490Z"
        },
        "id": "r2lI1p92EsSc",
        "outputId": "c159c8a7-4fb0-4a73-be2f-f48cfc16c00e"
      },
      "outputs": [
        {
          "data": {
            "text/plain": [
              "3.0"
            ]
          },
          "execution_count": 123,
          "metadata": {},
          "output_type": "execute_result"
        }
      ],
      "source": [
        "a.real + 2"
      ]
    },
    {
      "cell_type": "code",
      "execution_count": null,
      "metadata": {
        "ExecuteTime": {
          "end_time": "2022-01-16T18:13:41.890607Z",
          "start_time": "2022-01-16T18:13:41.885727Z"
        },
        "id": "_-ZJuUcF7RCd",
        "outputId": "9dfff763-3f4f-4a49-d2e2-f71a32577a59"
      },
      "outputs": [
        {
          "data": {
            "text/plain": [
              "5.0"
            ]
          },
          "execution_count": 124,
          "metadata": {},
          "output_type": "execute_result"
        }
      ],
      "source": [
        "a.imag + 3"
      ]
    },
    {
      "cell_type": "code",
      "execution_count": null,
      "metadata": {
        "ExecuteTime": {
          "end_time": "2022-01-16T18:13:56.306587Z",
          "start_time": "2022-01-16T18:13:55.886810Z"
        },
        "id": "j5_fHdL67RCe",
        "outputId": "3d6d2917-1672-4b81-c572-26937175809b"
      },
      "outputs": [
        {
          "ename": "AttributeError",
          "evalue": "readonly attribute",
          "output_type": "error",
          "traceback": [
            "\u001b[1;31m---------------------------------------------------------------------------\u001b[0m",
            "\u001b[1;31mAttributeError\u001b[0m                            Traceback (most recent call last)",
            "Input \u001b[1;32mIn [125]\u001b[0m, in \u001b[0;36m<module>\u001b[1;34m\u001b[0m\n\u001b[1;32m----> 1\u001b[0m a\u001b[38;5;241m.\u001b[39mreal \u001b[38;5;241m=\u001b[39m a\u001b[38;5;241m.\u001b[39mreal \u001b[38;5;241m+\u001b[39m \u001b[38;5;241m2\u001b[39m\n",
            "\u001b[1;31mAttributeError\u001b[0m: readonly attribute"
          ]
        }
      ],
      "source": [
        "a.real = a.real + 2"
      ]
    },
    {
      "cell_type": "markdown",
      "metadata": {
        "id": "jui-NfeCEsSc"
      },
      "source": [
        "Assim como com o próprio número"
      ]
    },
    {
      "cell_type": "code",
      "execution_count": null,
      "metadata": {
        "ExecuteTime": {
          "end_time": "2022-01-16T18:14:26.003196Z",
          "start_time": "2022-01-16T18:14:25.998212Z"
        },
        "id": "ySkzUoLaEsSc",
        "outputId": "72b3c2b7-131f-4e41-f83c-354ceaaa3e49"
      },
      "outputs": [
        {
          "data": {
            "text/plain": [
              "(3+2j)"
            ]
          },
          "execution_count": 127,
          "metadata": {},
          "output_type": "execute_result"
        }
      ],
      "source": [
        "a + (2 + 0j)"
      ]
    },
    {
      "cell_type": "markdown",
      "metadata": {
        "id": "Yc-rwdNHEsSc"
      },
      "source": [
        "De forma análoga a int e float, temos também uma função \"complex\" que permite fazer a conversão em um número complexo"
      ]
    },
    {
      "cell_type": "code",
      "execution_count": null,
      "metadata": {
        "ExecuteTime": {
          "end_time": "2022-01-16T18:14:44.147406Z",
          "start_time": "2022-01-16T18:14:44.142566Z"
        },
        "id": "uJPIvxvEEsSc",
        "outputId": "8ad80ece-5c16-4db2-c251-d901c7036602"
      },
      "outputs": [
        {
          "data": {
            "text/plain": [
              "(5+2j)"
            ]
          },
          "execution_count": 128,
          "metadata": {},
          "output_type": "execute_result"
        }
      ],
      "source": [
        "complex(5, 2)"
      ]
    },
    {
      "cell_type": "code",
      "execution_count": null,
      "metadata": {
        "ExecuteTime": {
          "end_time": "2022-01-16T18:14:51.523232Z",
          "start_time": "2022-01-16T18:14:51.518205Z"
        },
        "id": "0ZHWpLg67RCi",
        "outputId": "0d700f47-7707-484b-ce62-0bfdf35cee8f"
      },
      "outputs": [
        {
          "data": {
            "text/plain": [
              "(2.6+0j)"
            ]
          },
          "execution_count": 129,
          "metadata": {},
          "output_type": "execute_result"
        }
      ],
      "source": [
        "complex(2.6)"
      ]
    },
    {
      "cell_type": "markdown",
      "metadata": {
        "id": "uJLPagZPEsSd"
      },
      "source": [
        "---"
      ]
    },
    {
      "cell_type": "markdown",
      "metadata": {
        "id": "eqxx7cDQEsSd"
      },
      "source": [
        "### Variáveis de Coleção"
      ]
    },
    {
      "cell_type": "markdown",
      "metadata": {
        "id": "4xW5b9WnEsSd"
      },
      "source": [
        "Além das variáveis que observamos até aqui que representam uma entidade numérica, nós também temos variáveis que corresponde a uma coleção de objetos. Isto é, variáveis com múltiplos valores."
      ]
    },
    {
      "cell_type": "markdown",
      "metadata": {
        "id": "25XWT5iTEsSd"
      },
      "source": [
        "Essas variáveis são muito utilizadas quando precisamos armazenar grupos de informação específicos e tem múltiplicas aplicação nos ambientes de programação. Vamos ver as principais delas"
      ]
    },
    {
      "cell_type": "markdown",
      "metadata": {
        "id": "J5-TKMEeEsSd"
      },
      "source": [
        "---"
      ]
    },
    {
      "cell_type": "markdown",
      "metadata": {
        "id": "Jn8ZugV5EsSd"
      },
      "source": [
        "#### Listas"
      ]
    },
    {
      "cell_type": "markdown",
      "metadata": {
        "id": "PJFH7jrcEsSd"
      },
      "source": [
        "Python inclui diversas estruturas de dados compostas, usadas para agrupar outros valores. A mais versátil é list (lista), que pode ser escrita como uma lista de valores (itens) separados por vírgula, entre colchetes. Os valores contidos na lista não precisam ser todos do mesmo tipo."
      ]
    },
    {
      "cell_type": "code",
      "execution_count": null,
      "metadata": {
        "ExecuteTime": {
          "end_time": "2022-01-16T18:43:50.181154Z",
          "start_time": "2022-01-16T18:43:50.176188Z"
        },
        "id": "pGfih5Yj7RCm",
        "outputId": "33f9b5a4-af03-46ea-87bc-b7d9729e50d0"
      },
      "outputs": [
        {
          "data": {
            "text/plain": [
              "[0, 1, 2, 3, 4, 5]"
            ]
          },
          "execution_count": 168,
          "metadata": {},
          "output_type": "execute_result"
        }
      ],
      "source": [
        "lista = [0, 1, 2, 3, 4, 5]\n",
        "lista"
      ]
    },
    {
      "cell_type": "code",
      "execution_count": null,
      "metadata": {
        "ExecuteTime": {
          "end_time": "2022-01-16T18:44:02.658775Z",
          "start_time": "2022-01-16T18:44:02.654885Z"
        },
        "id": "yhgsvXKS7RCn",
        "outputId": "133ebed2-86e8-4a06-e739-342b237c5169"
      },
      "outputs": [
        {
          "data": {
            "text/plain": [
              "[0, 2.4, (3+1j)]"
            ]
          },
          "execution_count": 170,
          "metadata": {},
          "output_type": "execute_result"
        }
      ],
      "source": [
        "lista = [0, 2.4, 3 + 1j]\n",
        "lista"
      ]
    },
    {
      "cell_type": "markdown",
      "metadata": {
        "id": "_DTE3HztEsSd"
      },
      "source": [
        "As lista podem ser indexadas (subscritas), com o primeiro elemento como índice 0"
      ]
    },
    {
      "cell_type": "code",
      "execution_count": null,
      "metadata": {
        "ExecuteTime": {
          "end_time": "2022-01-16T18:45:33.923687Z",
          "start_time": "2022-01-16T18:45:33.918695Z"
        },
        "id": "FRgvXijJ7RCp",
        "outputId": "c52fb002-3031-4db1-ab6a-d469c726c62a"
      },
      "outputs": [
        {
          "name": "stdout",
          "output_type": "stream",
          "text": [
            "10\n",
            "50\n",
            "30\n"
          ]
        }
      ],
      "source": [
        "lista = [10, 20, 30, 40, 50]\n",
        "print(lista[0])\n",
        "print(lista[4])\n",
        "print(lista[2])"
      ]
    },
    {
      "cell_type": "code",
      "execution_count": null,
      "metadata": {
        "ExecuteTime": {
          "end_time": "2022-01-16T18:45:47.963812Z",
          "start_time": "2022-01-16T18:45:47.950159Z"
        },
        "id": "sOkck_gy7RCq",
        "outputId": "cf29898a-dde6-4345-9e1d-f07689dbf986"
      },
      "outputs": [
        {
          "ename": "IndexError",
          "evalue": "list index out of range",
          "output_type": "error",
          "traceback": [
            "\u001b[1;31m---------------------------------------------------------------------------\u001b[0m",
            "\u001b[1;31mIndexError\u001b[0m                                Traceback (most recent call last)",
            "Input \u001b[1;32mIn [173]\u001b[0m, in \u001b[0;36m<module>\u001b[1;34m\u001b[0m\n\u001b[1;32m----> 1\u001b[0m \u001b[43mlista\u001b[49m\u001b[43m[\u001b[49m\u001b[38;5;241;43m5\u001b[39;49m\u001b[43m]\u001b[49m\n",
            "\u001b[1;31mIndexError\u001b[0m: list index out of range"
          ]
        }
      ],
      "source": [
        "lista[5]"
      ]
    },
    {
      "cell_type": "markdown",
      "metadata": {
        "id": "MzsULmdhEsSd"
      },
      "source": [
        "Índices também podem ser números negativos para iniciar a contagem pela direita:"
      ]
    },
    {
      "cell_type": "code",
      "execution_count": null,
      "metadata": {
        "ExecuteTime": {
          "end_time": "2022-01-16T18:46:21.188302Z",
          "start_time": "2022-01-16T18:46:21.184338Z"
        },
        "id": "annpEJWd7RCt",
        "outputId": "3cd8eb62-7bc3-431f-88ad-29ad308fde2c"
      },
      "outputs": [
        {
          "name": "stdout",
          "output_type": "stream",
          "text": [
            "50\n",
            "40\n",
            "10\n"
          ]
        }
      ],
      "source": [
        "print(lista[-1])\n",
        "print(lista[-2])\n",
        "print(lista[-5])"
      ]
    },
    {
      "cell_type": "code",
      "execution_count": null,
      "metadata": {
        "ExecuteTime": {
          "end_time": "2022-01-16T18:46:32.524631Z",
          "start_time": "2022-01-16T18:46:32.510796Z"
        },
        "id": "vNoCclmc7RCu",
        "outputId": "20ff2fa1-202b-4dda-cbd1-2017dc429e3f"
      },
      "outputs": [
        {
          "ename": "IndexError",
          "evalue": "list index out of range",
          "output_type": "error",
          "traceback": [
            "\u001b[1;31m---------------------------------------------------------------------------\u001b[0m",
            "\u001b[1;31mIndexError\u001b[0m                                Traceback (most recent call last)",
            "Input \u001b[1;32mIn [175]\u001b[0m, in \u001b[0;36m<module>\u001b[1;34m\u001b[0m\n\u001b[1;32m----> 1\u001b[0m \u001b[43mlista\u001b[49m\u001b[43m[\u001b[49m\u001b[38;5;241;43m-\u001b[39;49m\u001b[38;5;241;43m7\u001b[39;49m\u001b[43m]\u001b[49m\n",
            "\u001b[1;31mIndexError\u001b[0m: list index out of range"
          ]
        }
      ],
      "source": [
        "lista[-7]"
      ]
    },
    {
      "cell_type": "markdown",
      "metadata": {
        "id": "l2ox1VSHEsSd"
      },
      "source": [
        "Note que dado que -0 é o mesmo que 0, índices negativos começam em -1.\n",
        "\n",
        "Além da indexação, o fatiamento também é permitido. Embora a indexação seja usada para obter elementos individuais, fatiar permite que você obtenha conjuntos de elementos:"
      ]
    },
    {
      "cell_type": "code",
      "execution_count": null,
      "metadata": {
        "ExecuteTime": {
          "end_time": "2022-01-16T18:47:33.652222Z",
          "start_time": "2022-01-16T18:47:33.647375Z"
        },
        "id": "tunU1Jw37RCv",
        "outputId": "e83ec82e-0cdd-49b4-e29a-49c4b771541c"
      },
      "outputs": [
        {
          "name": "stdout",
          "output_type": "stream",
          "text": [
            "[10, 20]\n",
            "[30, 40, 50]\n",
            "[10, 20]\n",
            "[30, 40, 50]\n"
          ]
        }
      ],
      "source": [
        "print(lista[0:2])\n",
        "print(lista[2:5])\n",
        "print(lista[:2])\n",
        "print(lista[2:])"
      ]
    },
    {
      "cell_type": "markdown",
      "metadata": {
        "id": "GZFVGYHnEsSe"
      },
      "source": [
        "Os índices do fatiamento possuem padrões úteis; um primeiro índice omitido padrão é zero, um segundo índice omitido é por padrão o tamanho da lista sendo fatiada:"
      ]
    },
    {
      "cell_type": "code",
      "execution_count": null,
      "metadata": {
        "ExecuteTime": {
          "end_time": "2022-01-16T18:49:13.026601Z",
          "start_time": "2022-01-16T18:49:13.022806Z"
        },
        "id": "gH_McWN17RCw",
        "outputId": "602637af-ace1-480b-eb14-e7de13f3e682"
      },
      "outputs": [
        {
          "name": "stdout",
          "output_type": "stream",
          "text": [
            "[10, 30, 50]\n",
            "[40, 50]\n",
            "[10, 30, 50]\n",
            "[50, 40, 30, 20, 10]\n"
          ]
        }
      ],
      "source": [
        "print(lista[0:5:2])\n",
        "print(lista[-2:])\n",
        "print(lista[0::2])\n",
        "print(lista[::-1])"
      ]
    },
    {
      "cell_type": "markdown",
      "metadata": {
        "id": "nTiY8GSREsSe"
      },
      "source": [
        "Observe como o início sempre está incluído, e o fim sempre é excluído. Isso garante que lista[:i] + lista[i:] seja sempre igual a lista:\n"
      ]
    },
    {
      "cell_type": "code",
      "execution_count": null,
      "metadata": {
        "ExecuteTime": {
          "end_time": "2022-01-16T18:49:35.683383Z",
          "start_time": "2022-01-16T18:49:35.679440Z"
        },
        "id": "nWOI4kdREsSe",
        "outputId": "838bc139-b435-4e52-a9b6-1803e9c17ce3"
      },
      "outputs": [
        {
          "name": "stdout",
          "output_type": "stream",
          "text": [
            "[10, 20, 30, 40, 50]\n",
            "[10, 20, 30, 40, 50]\n"
          ]
        }
      ],
      "source": [
        "print(lista[:2] + lista[2:])\n",
        "print(lista[:4] + lista[4:])"
      ]
    },
    {
      "cell_type": "markdown",
      "metadata": {
        "id": "nPGUbSOWEsSe"
      },
      "source": [
        "Uma maneira de lembrar como fatias funcionam é pensar que os índices indicam posições entre elementos, onde a borda esquerda do primeiro elemento é 0. Assim, a borda direita do último elemento de uma lista de comprimento n tem índice n, por exemplo:"
      ]
    },
    {
      "cell_type": "code",
      "execution_count": null,
      "metadata": {
        "ExecuteTime": {
          "end_time": "2022-01-16T18:52:08.867356Z",
          "start_time": "2022-01-16T18:52:08.862435Z"
        },
        "id": "JrGztcq6EsSe",
        "outputId": "b0959a55-6ed7-408e-e1ab-9c23df00e745"
      },
      "outputs": [
        {
          "name": "stdout",
          "output_type": "stream",
          "text": [
            "\n",
            " +---+---+---+---+---+---+\n",
            " | 0 | 1 | 2 | 3 | 4 | 5 |\n",
            " +---+---+---+---+---+---+\n",
            " 0   1   2   3   4   5   6\n",
            "-6  -5  -4  -3  -2  -1   \n",
            "\n"
          ]
        }
      ],
      "source": [
        "print(\n",
        "\"\"\"\n",
        " +---+---+---+---+---+---+\n",
        " | 0 | 1 | 2 | 3 | 4 | 5 |\n",
        " +---+---+---+---+---+---+\n",
        " 0   1   2   3   4   5   6\n",
        "-6  -5  -4  -3  -2  -1\n",
        "\"\"\"\n",
        ")"
      ]
    },
    {
      "cell_type": "markdown",
      "metadata": {
        "id": "kTgTtAAbEsSe"
      },
      "source": [
        "A primeira fileira de números indica a posição dos índices 0…6 na lista; a segunda fileira indica a posição dos respectivos índices negativos. Uma fatia de i a j consiste em todos os caracteres entre as bordas i e j, respectivamente.\n",
        "\n",
        "Para índices positivos, o comprimento da fatia é a diferença entre os índices, se ambos estão dentro dos limites da lista. Por exemplo, o comprimento de lista[1:3] é 2.\n",
        "\n",
        "A tentativa de usar um índice que seja muito grande resultará em um erro:"
      ]
    },
    {
      "cell_type": "code",
      "execution_count": null,
      "metadata": {
        "ExecuteTime": {
          "end_time": "2022-01-16T18:52:14.301299Z",
          "start_time": "2022-01-16T18:52:14.287554Z"
        },
        "id": "4lcSi62NEsSe",
        "outputId": "02031783-1bb5-4c31-b6c9-4c87ea4b1df0"
      },
      "outputs": [
        {
          "ename": "IndexError",
          "evalue": "list index out of range",
          "output_type": "error",
          "traceback": [
            "\u001b[1;31m---------------------------------------------------------------------------\u001b[0m",
            "\u001b[1;31mIndexError\u001b[0m                                Traceback (most recent call last)",
            "Input \u001b[1;32mIn [185]\u001b[0m, in \u001b[0;36m<module>\u001b[1;34m\u001b[0m\n\u001b[1;32m----> 1\u001b[0m \u001b[43mlista\u001b[49m\u001b[43m[\u001b[49m\u001b[38;5;241;43m42\u001b[39;49m\u001b[43m]\u001b[49m\n",
            "\u001b[1;31mIndexError\u001b[0m: list index out of range"
          ]
        }
      ],
      "source": [
        "lista[42]"
      ]
    },
    {
      "cell_type": "markdown",
      "metadata": {
        "id": "eLcXxfcfEsSe"
      },
      "source": [
        "No entanto, os índices de fatiamento fora do alcance são tratados graciosamente (N.d.T: o termo original “gracefully” indica robustez no tratamento de erros) quando usados para fatiamento. Um índice maior que o comprimento é trocado pelo comprimento, um limite superior menor que o limite inferior produz uma string vazia:"
      ]
    },
    {
      "cell_type": "code",
      "execution_count": null,
      "metadata": {
        "ExecuteTime": {
          "end_time": "2022-01-16T18:52:50.356631Z",
          "start_time": "2022-01-16T18:52:50.351868Z"
        },
        "id": "w2Of9jZVEsSe",
        "outputId": "904bd5fd-8d35-441b-f9df-3938442cac39"
      },
      "outputs": [
        {
          "name": "stdout",
          "output_type": "stream",
          "text": [
            "[30, 40, 50]\n",
            "[]\n"
          ]
        }
      ],
      "source": [
        "print(lista[2:42])\n",
        "print(lista[42:])"
      ]
    },
    {
      "cell_type": "markdown",
      "metadata": {
        "id": "Qv1eDAwGEsSe"
      },
      "source": [
        "O terceiro termo do fatiamento indica o passo a ser aplicado entre cada elemento"
      ]
    },
    {
      "cell_type": "code",
      "execution_count": null,
      "metadata": {
        "ExecuteTime": {
          "end_time": "2022-01-16T18:53:22.548878Z",
          "start_time": "2022-01-16T18:53:22.543936Z"
        },
        "id": "zoSl-hqSEsSe",
        "outputId": "bc5446b3-f98e-4ef3-f9e6-6446853d63a2"
      },
      "outputs": [
        {
          "data": {
            "text/plain": [
              "[10, 20, 30, 40, 50]"
            ]
          },
          "execution_count": 188,
          "metadata": {},
          "output_type": "execute_result"
        }
      ],
      "source": [
        "lista[0:5:1]"
      ]
    },
    {
      "cell_type": "code",
      "execution_count": null,
      "metadata": {
        "ExecuteTime": {
          "end_time": "2022-01-16T18:53:29.732957Z",
          "start_time": "2022-01-16T18:53:29.727016Z"
        },
        "id": "6gtROdqB7RC4",
        "outputId": "e4e474d7-3bff-44c4-900a-9f7a4eeb7f96"
      },
      "outputs": [
        {
          "data": {
            "text/plain": [
              "[10, 30, 50]"
            ]
          },
          "execution_count": 189,
          "metadata": {},
          "output_type": "execute_result"
        }
      ],
      "source": [
        "lista[0:5:2]"
      ]
    },
    {
      "cell_type": "code",
      "execution_count": null,
      "metadata": {
        "ExecuteTime": {
          "end_time": "2022-01-16T18:53:36.821508Z",
          "start_time": "2022-01-16T18:53:36.814493Z"
        },
        "id": "He1y45AT7RC5",
        "outputId": "93357100-a00b-4e08-be7e-dbc258e730b5"
      },
      "outputs": [
        {
          "data": {
            "text/plain": [
              "[50, 40, 30]"
            ]
          },
          "execution_count": 190,
          "metadata": {},
          "output_type": "execute_result"
        }
      ],
      "source": [
        "lista[-1:-4:-1]"
      ]
    },
    {
      "cell_type": "markdown",
      "metadata": {
        "id": "cZCffKYDEsSe"
      },
      "source": [
        "Listas também podem ser combinadas entre si utilizando os operadores + e *"
      ]
    },
    {
      "cell_type": "code",
      "execution_count": null,
      "metadata": {
        "ExecuteTime": {
          "end_time": "2022-01-16T18:54:52.469992Z",
          "start_time": "2022-01-16T18:54:52.464045Z"
        },
        "id": "duo3ClBxEsSe",
        "outputId": "276dda8e-2b25-46e8-e7b9-3ae3c6a3bf02"
      },
      "outputs": [
        {
          "data": {
            "text/plain": [
              "[1, 2, 3, 4, 5, 6]"
            ]
          },
          "execution_count": 192,
          "metadata": {},
          "output_type": "execute_result"
        }
      ],
      "source": [
        "lista1 = [1, 2, 3]\n",
        "lista2 = [4, 5, 6]\n",
        "lista3 = lista1 + lista2\n",
        "lista3"
      ]
    },
    {
      "cell_type": "code",
      "execution_count": null,
      "metadata": {
        "ExecuteTime": {
          "end_time": "2022-01-16T18:55:08.723727Z",
          "start_time": "2022-01-16T18:55:08.718774Z"
        },
        "id": "tKUctFHh7RC8",
        "outputId": "6d1dc2e9-00a4-41d7-c97a-84ecf2e82a2e"
      },
      "outputs": [
        {
          "data": {
            "text/plain": [
              "[1, 2, 3, 1, 2, 3, 1, 2, 3]"
            ]
          },
          "execution_count": 193,
          "metadata": {},
          "output_type": "execute_result"
        }
      ],
      "source": [
        "lista1 * 3"
      ]
    },
    {
      "cell_type": "markdown",
      "metadata": {
        "id": "l8RG431gEsSe"
      },
      "source": [
        "Listas também aceitam qualquer tipo de objeto incluindo outras listas"
      ]
    },
    {
      "cell_type": "code",
      "execution_count": null,
      "metadata": {
        "ExecuteTime": {
          "end_time": "2022-01-16T18:55:42.676720Z",
          "start_time": "2022-01-16T18:55:42.671761Z"
        },
        "id": "W2i0XAA9EsSf",
        "outputId": "9408e944-b5b6-465c-d967-3dbfe9249f95"
      },
      "outputs": [
        {
          "data": {
            "text/plain": [
              "[0, 2.4, (3+1j), [1, 2, 3]]"
            ]
          },
          "execution_count": 195,
          "metadata": {},
          "output_type": "execute_result"
        }
      ],
      "source": [
        "lista = [0, 2.4, 3 + 1j, [1, 2, 3]]\n",
        "lista"
      ]
    },
    {
      "cell_type": "code",
      "execution_count": null,
      "metadata": {
        "ExecuteTime": {
          "end_time": "2022-01-16T18:56:09.812428Z",
          "start_time": "2022-01-16T18:56:09.807512Z"
        },
        "id": "6Iokw32H7RC-",
        "outputId": "178218c3-df9d-44bc-fefd-7cb5b6f37457"
      },
      "outputs": [
        {
          "data": {
            "text/plain": [
              "2"
            ]
          },
          "execution_count": 197,
          "metadata": {},
          "output_type": "execute_result"
        }
      ],
      "source": [
        "lista[3][1]"
      ]
    },
    {
      "cell_type": "markdown",
      "metadata": {
        "id": "CR22TeojEsSf"
      },
      "source": [
        "Listas são objetos mútaveis na qual podemos alterar os valores de seus elementos utilizando a sintaxe de atribuição"
      ]
    },
    {
      "cell_type": "code",
      "execution_count": null,
      "metadata": {
        "ExecuteTime": {
          "end_time": "2022-01-16T18:56:43.893557Z",
          "start_time": "2022-01-16T18:56:43.887785Z"
        },
        "id": "b2XqrW4pEsSf",
        "outputId": "3ed8b019-57c9-4791-cdfe-a397de57fe36"
      },
      "outputs": [
        {
          "data": {
            "text/plain": [
              "[1, 2, 4]"
            ]
          },
          "execution_count": 198,
          "metadata": {},
          "output_type": "execute_result"
        }
      ],
      "source": [
        "lista = [1, 2, 3]\n",
        "lista[2] = 4\n",
        "lista"
      ]
    },
    {
      "cell_type": "markdown",
      "metadata": {
        "id": "K2be-YTaEsSf"
      },
      "source": [
        "Além disso, elas possuem múltiplos métodos para alterar seu conteúdo (https://docs.python.org/3/tutorial/datastructures.html), abaixo listamos os mais comuns"
      ]
    },
    {
      "cell_type": "markdown",
      "metadata": {
        "ExecuteTime": {
          "end_time": "2021-09-06T23:12:27.466539Z",
          "start_time": "2021-09-06T23:12:27.460555Z"
        },
        "id": "1jnUPQyIEsSf"
      },
      "source": [
        "APPEND: Adiciona um novo elemento ao final da lista"
      ]
    },
    {
      "cell_type": "code",
      "execution_count": null,
      "metadata": {
        "ExecuteTime": {
          "end_time": "2022-01-16T18:57:49.557238Z",
          "start_time": "2022-01-16T18:57:49.551458Z"
        },
        "id": "VSWsgUVWEsSf",
        "outputId": "28cb3b5a-fe14-43a1-fc08-4aadbea97e8c"
      },
      "outputs": [
        {
          "name": "stdout",
          "output_type": "stream",
          "text": [
            "[1, 2, 3]\n",
            "[1, 2, 3, 4]\n",
            "[1, 2, 3, 4, 5]\n"
          ]
        }
      ],
      "source": [
        "lista = [1, 2, 3]\n",
        "print(lista)\n",
        "lista.append(4)\n",
        "print(lista)\n",
        "lista.append(5)\n",
        "print(lista)"
      ]
    },
    {
      "cell_type": "markdown",
      "metadata": {
        "id": "VBcUq-P8EsSf"
      },
      "source": [
        "REMOVE: Remove a primeira ocorrência de um determinado elemento de uma lista"
      ]
    },
    {
      "cell_type": "code",
      "execution_count": null,
      "metadata": {
        "ExecuteTime": {
          "end_time": "2022-01-16T18:58:27.878263Z",
          "start_time": "2022-01-16T18:58:27.873315Z"
        },
        "id": "TUlwzxDDEsSf",
        "outputId": "5321c287-b83e-4257-d7d4-e97ebfd8ae73"
      },
      "outputs": [
        {
          "name": "stdout",
          "output_type": "stream",
          "text": [
            "[1, 2, 3]\n",
            "[1, 2]\n"
          ]
        }
      ],
      "source": [
        "lista = [1, 2, 3]\n",
        "print(lista)\n",
        "lista.remove(3)\n",
        "print(lista)"
      ]
    },
    {
      "cell_type": "code",
      "execution_count": null,
      "metadata": {
        "ExecuteTime": {
          "end_time": "2022-01-16T18:58:36.478059Z",
          "start_time": "2022-01-16T18:58:36.463336Z"
        },
        "id": "-irOO4_D7RDD",
        "outputId": "1e85bb58-bdcf-4fc7-b5a1-9aae1b06841a"
      },
      "outputs": [
        {
          "ename": "ValueError",
          "evalue": "list.remove(x): x not in list",
          "output_type": "error",
          "traceback": [
            "\u001b[1;31m---------------------------------------------------------------------------\u001b[0m",
            "\u001b[1;31mValueError\u001b[0m                                Traceback (most recent call last)",
            "Input \u001b[1;32mIn [202]\u001b[0m, in \u001b[0;36m<module>\u001b[1;34m\u001b[0m\n\u001b[1;32m----> 1\u001b[0m \u001b[43mlista\u001b[49m\u001b[38;5;241;43m.\u001b[39;49m\u001b[43mremove\u001b[49m\u001b[43m(\u001b[49m\u001b[38;5;241;43m3\u001b[39;49m\u001b[43m)\u001b[49m\n",
            "\u001b[1;31mValueError\u001b[0m: list.remove(x): x not in list"
          ]
        }
      ],
      "source": [
        "lista.remove(3)"
      ]
    },
    {
      "cell_type": "code",
      "execution_count": null,
      "metadata": {
        "ExecuteTime": {
          "end_time": "2022-01-16T18:59:06.917517Z",
          "start_time": "2022-01-16T18:59:06.912599Z"
        },
        "id": "dBfn5LlP7RDE",
        "outputId": "6753ba3b-b1a1-4c3e-c17e-faa6e2cbc9df"
      },
      "outputs": [
        {
          "name": "stdout",
          "output_type": "stream",
          "text": [
            "[1, 2, 3, 4, 5, 6, 3]\n",
            "[1, 2, 4, 5, 6, 3]\n"
          ]
        }
      ],
      "source": [
        "lista = [1, 2, 3, 4, 5, 6, 3]\n",
        "print(lista)\n",
        "lista.remove(3)\n",
        "print(lista)"
      ]
    },
    {
      "cell_type": "markdown",
      "metadata": {
        "id": "XWBg73X1EsSf"
      },
      "source": [
        "INSERT: Insere um novo elemento no indice selecionado da lista"
      ]
    },
    {
      "cell_type": "code",
      "execution_count": null,
      "metadata": {
        "ExecuteTime": {
          "end_time": "2022-01-16T18:59:57.446370Z",
          "start_time": "2022-01-16T18:59:57.441365Z"
        },
        "id": "FkAkK4XOEsSf",
        "outputId": "d13513fa-3d4f-4da0-94dc-07a87cdf6830"
      },
      "outputs": [
        {
          "name": "stdout",
          "output_type": "stream",
          "text": [
            "[1, 2, 3]\n",
            "[1, 1.1, 2, 3]\n"
          ]
        }
      ],
      "source": [
        "lista = [1, 2, 3]\n",
        "print(lista)\n",
        "lista.insert(1, 1.1)\n",
        "print(lista)"
      ]
    },
    {
      "cell_type": "markdown",
      "metadata": {
        "ExecuteTime": {
          "end_time": "2021-09-06T23:14:14.093013Z",
          "start_time": "2021-09-06T23:14:14.085038Z"
        },
        "id": "MokWB-O2EsSh"
      },
      "source": [
        "SORT: Ordena os elementos da lista"
      ]
    },
    {
      "cell_type": "code",
      "execution_count": null,
      "metadata": {
        "ExecuteTime": {
          "end_time": "2022-01-16T19:00:37.572801Z",
          "start_time": "2022-01-16T19:00:37.567849Z"
        },
        "id": "9vqEt_0gEsSh",
        "outputId": "abf56081-2431-41b0-94e2-e68c4713e40f"
      },
      "outputs": [
        {
          "name": "stdout",
          "output_type": "stream",
          "text": [
            "[1, 7, 4, 3, 9, 6]\n",
            "[1, 3, 4, 6, 7, 9]\n"
          ]
        }
      ],
      "source": [
        "lista = [1, 7, 4, 3, 9, 6]\n",
        "print(lista)\n",
        "lista.sort()\n",
        "print(lista)"
      ]
    },
    {
      "cell_type": "code",
      "execution_count": null,
      "metadata": {
        "ExecuteTime": {
          "end_time": "2022-01-16T19:01:03.711662Z",
          "start_time": "2022-01-16T19:01:03.695309Z"
        },
        "id": "acVZ7Oqh7RDH",
        "outputId": "298dd8c8-1737-457d-a40b-08737ac93e64"
      },
      "outputs": [
        {
          "name": "stdout",
          "output_type": "stream",
          "text": [
            "[1, 7, 4, 3, [9, 6]]\n"
          ]
        },
        {
          "ename": "TypeError",
          "evalue": "'<' not supported between instances of 'list' and 'int'",
          "output_type": "error",
          "traceback": [
            "\u001b[1;31m---------------------------------------------------------------------------\u001b[0m",
            "\u001b[1;31mTypeError\u001b[0m                                 Traceback (most recent call last)",
            "Input \u001b[1;32mIn [206]\u001b[0m, in \u001b[0;36m<module>\u001b[1;34m\u001b[0m\n\u001b[0;32m      1\u001b[0m lista \u001b[38;5;241m=\u001b[39m [\u001b[38;5;241m1\u001b[39m, \u001b[38;5;241m7\u001b[39m, \u001b[38;5;241m4\u001b[39m, \u001b[38;5;241m3\u001b[39m, [\u001b[38;5;241m9\u001b[39m, \u001b[38;5;241m6\u001b[39m]]\n\u001b[0;32m      2\u001b[0m \u001b[38;5;28mprint\u001b[39m(lista)\n\u001b[1;32m----> 3\u001b[0m \u001b[43mlista\u001b[49m\u001b[38;5;241;43m.\u001b[39;49m\u001b[43msort\u001b[49m\u001b[43m(\u001b[49m\u001b[43m)\u001b[49m\n\u001b[0;32m      4\u001b[0m \u001b[38;5;28mprint\u001b[39m(lista)\n",
            "\u001b[1;31mTypeError\u001b[0m: '<' not supported between instances of 'list' and 'int'"
          ]
        }
      ],
      "source": [
        "lista = [1, 7, 4, 3, [9, 6]]\n",
        "print(lista)\n",
        "lista.sort()\n",
        "print(lista)"
      ]
    },
    {
      "cell_type": "markdown",
      "metadata": {
        "id": "Xm_wlrPEEsSh"
      },
      "source": [
        "Assim como range, listas são objetos que podem ser percorridos com for loops"
      ]
    },
    {
      "cell_type": "code",
      "execution_count": null,
      "metadata": {
        "ExecuteTime": {
          "end_time": "2022-01-16T19:01:58.115498Z",
          "start_time": "2022-01-16T19:01:58.111489Z"
        },
        "id": "lTEE7YIeEsSh",
        "outputId": "fe9a2868-ca9c-48d1-8a6a-7e0017b801b0"
      },
      "outputs": [
        {
          "name": "stdout",
          "output_type": "stream",
          "text": [
            "1\n",
            "3\n",
            "4\n",
            "7\n",
            "[9, 6]\n"
          ]
        }
      ],
      "source": [
        "for i in lista:\n",
        "    print(i)"
      ]
    },
    {
      "cell_type": "markdown",
      "metadata": {
        "id": "eo7303tqEsSh"
      },
      "source": [
        "E nós também podemos checar o conteúdo de uma lista usando a expressão \"in\""
      ]
    },
    {
      "cell_type": "code",
      "execution_count": null,
      "metadata": {
        "ExecuteTime": {
          "end_time": "2022-01-16T19:02:29.331062Z",
          "start_time": "2022-01-16T19:02:29.327220Z"
        },
        "id": "_CwKL_EEEsSi",
        "outputId": "a6139c99-ca96-42b1-b6a8-0476af677c1c"
      },
      "outputs": [
        {
          "data": {
            "text/plain": [
              "True"
            ]
          },
          "execution_count": 209,
          "metadata": {},
          "output_type": "execute_result"
        }
      ],
      "source": [
        "3 in lista"
      ]
    },
    {
      "cell_type": "code",
      "execution_count": null,
      "metadata": {
        "ExecuteTime": {
          "end_time": "2022-01-16T19:02:39.109037Z",
          "start_time": "2022-01-16T19:02:39.104120Z"
        },
        "id": "rCHW0r8v7RDL",
        "outputId": "88b117ef-00f0-49db-cdb7-3d663445f894"
      },
      "outputs": [
        {
          "data": {
            "text/plain": [
              "False"
            ]
          },
          "execution_count": 210,
          "metadata": {},
          "output_type": "execute_result"
        }
      ],
      "source": [
        "6 in lista"
      ]
    },
    {
      "cell_type": "markdown",
      "metadata": {
        "id": "NWP1JAE0EsSi"
      },
      "source": [
        "A função embutida len() devolve o tamanho de uma lista:"
      ]
    },
    {
      "cell_type": "code",
      "execution_count": null,
      "metadata": {
        "ExecuteTime": {
          "end_time": "2022-01-16T19:03:14.084434Z",
          "start_time": "2022-01-16T19:03:14.080493Z"
        },
        "id": "DhILVhcwEsSi",
        "outputId": "91b71efc-9d5e-420f-a808-7f52ad69d7a6"
      },
      "outputs": [
        {
          "data": {
            "text/plain": [
              "5"
            ]
          },
          "execution_count": 211,
          "metadata": {},
          "output_type": "execute_result"
        }
      ],
      "source": [
        "len(lista)"
      ]
    },
    {
      "cell_type": "markdown",
      "metadata": {
        "id": "A-gP-CAjEsSi"
      },
      "source": [
        "---"
      ]
    },
    {
      "cell_type": "markdown",
      "metadata": {
        "id": "lYDnuWycEsSi"
      },
      "source": [
        "**Exercício 8**"
      ]
    },
    {
      "cell_type": "markdown",
      "metadata": {
        "id": "xaOwOZzrEsSi"
      },
      "source": [
        "Faça um programa que leia um número indeterminado de valores, correspondentes a notas, encerrando a entrada de dados quando for informado um valor igual a -1 (que não deve ser armazenado).\n",
        "\n",
        "Após esta entrada de dados, faça:\n",
        "1. Mostre a quantidade de valores que foram lidos;\n",
        "1. Exiba todos os valores na ordem em que foram informados;\n",
        "1. Exiba todos os valores na ordem inversa à que foram informados;\n",
        "1. Calcule e mostre a soma dos valores;\n",
        "1. Calcule e mostre a média dos valores;\n",
        "1. Calcule e mostre a quantidade de valores acima da média calculada;\n",
        "1. Calcule e mostre a quantidade de valores abaixo de sete;\n",
        "1. Encerre o programa com uma mensagem;"
      ]
    },
    {
      "cell_type": "code",
      "execution_count": null,
      "metadata": {
        "id": "J0kSYkFQEsSi",
        "solution2": "hidden",
        "solution2_first": true
      },
      "outputs": [],
      "source": []
    },
    {
      "cell_type": "code",
      "execution_count": null,
      "metadata": {
        "cellView": "form",
        "id": "fIsT5ETPEsSi",
        "solution2": "hidden"
      },
      "outputs": [],
      "source": [
        "#@title Resposta\n",
        "notas = []\n",
        "\n",
        "while True:\n",
        "    nota = float(input(\"Digite uma nota: \"))\n",
        "    notas.append(nota)\n",
        "    if nota == -1: break\n",
        "\n",
        "print(\"Foram lidos %i valores.\" % len(notas))\n",
        "\n",
        "print(\"\\nValores informados: \")\n",
        "for nota in notas:\n",
        "    print(nota)\n",
        "\n",
        "print(\"\\nValores informados (ordem inversa): \")\n",
        "notas.reverse()\n",
        "for nota in notas:\n",
        "    print(nota)\n",
        "\n",
        "soma = 0\n",
        "for nota in notas:\n",
        "    soma += nota\n",
        "print(\"\\nA soma de valores é\", soma)\n",
        "\n",
        "soma /= len(notas)\n",
        "print(\"\\nA média dos valores é\", soma)\n",
        "\n",
        "acima = 0\n",
        "for nota in notas:\n",
        "    if nota > soma:\n",
        "        acima += 1\n",
        "print(\"\\nNúmero de notas acima da média é\", acima)\n",
        "\n",
        "abaixo = 0\n",
        "for nota in notas:\n",
        "    if nota < 7:\n",
        "        abaixo += 1\n",
        "print(\"\\nNúmero de notas abaixo de 7 é\", abaixo)"
      ]
    },
    {
      "cell_type": "markdown",
      "metadata": {
        "id": "pT5FGc8lEsSi"
      },
      "source": [
        "---"
      ]
    },
    {
      "cell_type": "markdown",
      "metadata": {
        "id": "Iv3FReD2EsSi"
      },
      "source": [
        "#### Tuplas"
      ]
    },
    {
      "cell_type": "markdown",
      "metadata": {
        "id": "ezfLkEt8EsSi"
      },
      "source": [
        "Uma tupla consiste em uma sequência de valores separados por vírgulas, por exemplo:"
      ]
    },
    {
      "cell_type": "code",
      "execution_count": null,
      "metadata": {
        "ExecuteTime": {
          "end_time": "2022-01-16T19:24:08.694490Z",
          "start_time": "2022-01-16T19:24:08.689536Z"
        },
        "id": "tOE3Gjh4EsSj",
        "outputId": "b3cb281c-fc1d-4505-86b9-877312246d88"
      },
      "outputs": [
        {
          "data": {
            "text/plain": [
              "(1, 2, 3)"
            ]
          },
          "execution_count": 212,
          "metadata": {},
          "output_type": "execute_result"
        }
      ],
      "source": [
        "tupla = (1, 2, 3)\n",
        "tupla"
      ]
    },
    {
      "cell_type": "code",
      "execution_count": null,
      "metadata": {
        "ExecuteTime": {
          "end_time": "2022-01-16T19:24:15.044602Z",
          "start_time": "2022-01-16T19:24:15.040649Z"
        },
        "id": "s_3iGIgr7RDS",
        "outputId": "c76a38be-c01a-4729-a13c-235dbacc4394"
      },
      "outputs": [
        {
          "data": {
            "text/plain": [
              "(1, 2, 3)"
            ]
          },
          "execution_count": 213,
          "metadata": {},
          "output_type": "execute_result"
        }
      ],
      "source": [
        "tupla = 1, 2, 3\n",
        "tupla"
      ]
    },
    {
      "cell_type": "markdown",
      "metadata": {
        "id": "_NIemvOgEsSj"
      },
      "source": [
        "Como você pode ver no trecho acima, na saída do console as tuplas são sempre envolvidas por parênteses, assim tuplas aninhadas podem ser lidas corretamente. Na criação, tuplas podem ser envolvidas ou não por parênteses, desde que o contexto não exija os parênteses (como no caso da tupla dentro de uma expressão maior). Não é possível atribuir itens individuais de uma tupla, contudo é possível criar tuplas que contenham objetos mutáveis, como listas.\n"
      ]
    },
    {
      "cell_type": "code",
      "execution_count": null,
      "metadata": {
        "ExecuteTime": {
          "end_time": "2022-01-16T19:24:46.708738Z",
          "start_time": "2022-01-16T19:24:46.704762Z"
        },
        "id": "6-jw9-oDEsSj",
        "outputId": "11703396-8959-4afa-c3c2-f9c280505014"
      },
      "outputs": [
        {
          "data": {
            "text/plain": [
              "(1, 2, [3, 4, 5])"
            ]
          },
          "execution_count": 214,
          "metadata": {},
          "output_type": "execute_result"
        }
      ],
      "source": [
        "tupla = 1, 2, [3, 4, 5]\n",
        "tupla"
      ]
    },
    {
      "cell_type": "markdown",
      "metadata": {
        "id": "RmGBTLFIEsSj"
      },
      "source": [
        "Tuplas são muito similares a listas, entretanto são objetos imutaveis que ocupam menos memória e são mais eficientes computacionalmente"
      ]
    },
    {
      "cell_type": "code",
      "execution_count": null,
      "metadata": {
        "ExecuteTime": {
          "end_time": "2022-01-16T19:25:17.607859Z",
          "start_time": "2022-01-16T19:25:17.602981Z"
        },
        "id": "t0tjPusjEsSj",
        "outputId": "eb899ba8-0d77-456e-b703-dc1e85d766a8"
      },
      "outputs": [
        {
          "name": "stdout",
          "output_type": "stream",
          "text": [
            "1\n",
            "([3, 4, 5], 2, 1)\n",
            "True\n"
          ]
        }
      ],
      "source": [
        "print(tupla[0])\n",
        "print(tupla[::-1])\n",
        "print(1 in tupla)"
      ]
    },
    {
      "cell_type": "markdown",
      "metadata": {
        "id": "YeFBTcR-EsSj"
      },
      "source": [
        "\n",
        "Apesar de tuplas serem similares a listas, elas são frequentemente utilizadas em situações diferentes e com propósitos distintos. Tuplas são imutáveis, e usualmente contém uma sequência heterogênea de elementos que são acessados via desempacotamento (ver a seguir nessa seção) ou índice (ou mesmo por um atributo no caso de namedtuples). Listas são mutáveis, e seus elementos geralmente são homogêneos e são acessados iterando sobre a lista."
      ]
    },
    {
      "cell_type": "code",
      "execution_count": null,
      "metadata": {
        "ExecuteTime": {
          "end_time": "2022-01-16T19:26:06.782592Z",
          "start_time": "2022-01-16T19:26:06.767825Z"
        },
        "id": "9PCfP2zsEsSj",
        "outputId": "7d6a1256-c847-46d8-f6ed-033b255d716e"
      },
      "outputs": [
        {
          "ename": "TypeError",
          "evalue": "'tuple' object does not support item assignment",
          "output_type": "error",
          "traceback": [
            "\u001b[1;31m---------------------------------------------------------------------------\u001b[0m",
            "\u001b[1;31mTypeError\u001b[0m                                 Traceback (most recent call last)",
            "Input \u001b[1;32mIn [216]\u001b[0m, in \u001b[0;36m<module>\u001b[1;34m\u001b[0m\n\u001b[1;32m----> 1\u001b[0m tupla[\u001b[38;5;241m0\u001b[39m] \u001b[38;5;241m=\u001b[39m \u001b[38;5;241m7\u001b[39m\n",
            "\u001b[1;31mTypeError\u001b[0m: 'tuple' object does not support item assignment"
          ]
        }
      ],
      "source": [
        "tupla[0] = 7"
      ]
    },
    {
      "cell_type": "code",
      "execution_count": null,
      "metadata": {
        "ExecuteTime": {
          "end_time": "2022-01-16T19:26:56.054990Z",
          "start_time": "2022-01-16T19:26:56.049031Z"
        },
        "id": "wBZn7B-57RDh",
        "outputId": "2e168c08-3dcb-45c1-d1be-656dfecc0414"
      },
      "outputs": [
        {
          "data": {
            "text/plain": [
              "[1, 2, [3, 4, 5]]"
            ]
          },
          "execution_count": 217,
          "metadata": {},
          "output_type": "execute_result"
        }
      ],
      "source": [
        "lista = list(tupla)\n",
        "lista"
      ]
    },
    {
      "cell_type": "code",
      "execution_count": null,
      "metadata": {
        "ExecuteTime": {
          "end_time": "2022-01-16T19:27:13.876628Z",
          "start_time": "2022-01-16T19:27:13.871757Z"
        },
        "id": "Z7aeHsYS7RDh",
        "outputId": "beda0ccc-e7c0-483b-aaef-56acf685b6fa"
      },
      "outputs": [
        {
          "data": {
            "text/plain": [
              "(1, 2, [3, 4, 5])"
            ]
          },
          "execution_count": 219,
          "metadata": {},
          "output_type": "execute_result"
        }
      ],
      "source": [
        "tupla = tuple(lista)\n",
        "tupla"
      ]
    },
    {
      "cell_type": "markdown",
      "metadata": {
        "id": "LcXpBnMyEsSj"
      },
      "source": [
        "Um problema especial é a criação de tuplas contendo 0 ou 1 itens: a sintaxe usa certos truques para acomodar estes casos. Tuplas vazias são construídas por um par de parênteses vazios; uma tupla unitária é construída por um único valor e uma vírgula entre parênteses (não basta colocar um único valor entre parênteses). Feio, mas funciona. Por exemplo:"
      ]
    },
    {
      "cell_type": "code",
      "execution_count": null,
      "metadata": {
        "ExecuteTime": {
          "end_time": "2022-01-16T19:28:00.756834Z",
          "start_time": "2022-01-16T19:28:00.752027Z"
        },
        "id": "HB5e-hi5EsSj",
        "outputId": "293441b7-a5ae-4eb2-dcdc-6484b3606ac1"
      },
      "outputs": [
        {
          "data": {
            "text/plain": [
              "(1,)"
            ]
          },
          "execution_count": 222,
          "metadata": {},
          "output_type": "execute_result"
        }
      ],
      "source": [
        "tupla = (1, )\n",
        "tupla"
      ]
    },
    {
      "cell_type": "code",
      "execution_count": null,
      "metadata": {
        "ExecuteTime": {
          "end_time": "2022-01-16T19:28:20.308242Z",
          "start_time": "2022-01-16T19:28:20.303340Z"
        },
        "id": "_CGAUiR37RDk",
        "outputId": "2522d687-01d9-45ed-ce61-08c9584d8985"
      },
      "outputs": [
        {
          "data": {
            "text/plain": [
              "tuple"
            ]
          },
          "execution_count": 224,
          "metadata": {},
          "output_type": "execute_result"
        }
      ],
      "source": [
        "tupla = ()\n",
        "type(tupla)"
      ]
    },
    {
      "cell_type": "markdown",
      "metadata": {
        "id": "JsFvDGdoEsSj"
      },
      "source": [
        "---"
      ]
    },
    {
      "cell_type": "markdown",
      "metadata": {
        "id": "toq4xEzDEsSj"
      },
      "source": [
        "#### Dicionários"
      ]
    },
    {
      "cell_type": "markdown",
      "metadata": {
        "id": "Cv36zEcWEsSj"
      },
      "source": [
        "Outra estrutura de dados muito útil embutida em Python é o dicionário, cujo tipo é dict. Dicionários são também chamados de “memória associativa” ou “vetor associativo” em outras linguagens. Diferente de sequências que são indexadas por inteiros, dicionários são indexados por chaves (keys), que podem ser de qualquer tipo imutável (como strings e inteiros). Tuplas também podem ser chaves se contiverem apenas strings, inteiros ou outras tuplas. Se a tupla contiver, direta ou indiretamente, qualquer valor mutável, não poderá ser chave. Listas não podem ser usadas como chaves porque podem ser modificadas internamente pela atribuição em índices ou fatias, e por métodos como append() e extend().\n",
        "\n",
        "Um bom modelo mental é imaginar um dicionário como um conjunto não-ordenado de pares chave:valor, onde as chaves são únicas em uma dada instância do dicionário. Dicionários são delimitados por chaves: {}, e contém uma lista de pares chave:valor separada por vírgulas. Dessa forma também será exibido o conteúdo de um dicionário no console do Python. O dicionário vazio é {}."
      ]
    },
    {
      "cell_type": "code",
      "execution_count": null,
      "metadata": {
        "ExecuteTime": {
          "end_time": "2022-01-16T19:33:01.814455Z",
          "start_time": "2022-01-16T19:33:01.809504Z"
        },
        "id": "NRrrQ595EsSj",
        "outputId": "76eec884-184f-4c21-ef23-6e822425a52a"
      },
      "outputs": [
        {
          "data": {
            "text/plain": [
              "{'nome': 'Pedro', 'sobrenome': 'Forli', 'idade': 20}"
            ]
          },
          "execution_count": 225,
          "metadata": {},
          "output_type": "execute_result"
        }
      ],
      "source": [
        "dicionario = {\"nome\": \"Pedro\", \"sobrenome\": \"Forli\", \"idade\": 20}\n",
        "dicionario"
      ]
    },
    {
      "cell_type": "code",
      "execution_count": null,
      "metadata": {
        "ExecuteTime": {
          "end_time": "2022-01-16T19:33:11.605158Z",
          "start_time": "2022-01-16T19:33:11.600176Z"
        },
        "id": "JuKnVmMS7RDo",
        "outputId": "4f96767d-a6ea-4f0a-85a3-dbd724dd6dbd"
      },
      "outputs": [
        {
          "data": {
            "text/plain": [
              "'Pedro'"
            ]
          },
          "execution_count": 226,
          "metadata": {},
          "output_type": "execute_result"
        }
      ],
      "source": [
        "dicionario[\"nome\"]"
      ]
    },
    {
      "cell_type": "markdown",
      "metadata": {
        "id": "NyAmOejEEsSj"
      },
      "source": [
        "As principais operações em um dicionário são armazenar e recuperar valores a partir de chaves. Também é possível remover um par chave:valor com o comando del. Se você armazenar um valor utilizando uma chave já presente, o antigo valor será substituído pelo novo. Se tentar recuperar um valor usando uma chave inexistente, será gerado um erro."
      ]
    },
    {
      "cell_type": "code",
      "execution_count": null,
      "metadata": {
        "ExecuteTime": {
          "end_time": "2022-01-16T19:33:57.572995Z",
          "start_time": "2022-01-16T19:33:57.569077Z"
        },
        "id": "8enM6IJsEsSj",
        "outputId": "2b14ef52-2122-42c0-8bb9-8f099edbaaf3"
      },
      "outputs": [
        {
          "name": "stdout",
          "output_type": "stream",
          "text": [
            "{'nome': 'Pedro', 'sobrenome': 'Forli', 'idade': 20}\n",
            "{'nome': 'Pedro', 'sobrenome': 'Forli'}\n"
          ]
        }
      ],
      "source": [
        "print(dicionario)\n",
        "del dicionario[\"idade\"]\n",
        "print(dicionario)"
      ]
    },
    {
      "cell_type": "code",
      "execution_count": null,
      "metadata": {
        "ExecuteTime": {
          "end_time": "2022-01-16T19:34:11.221430Z",
          "start_time": "2022-01-16T19:34:11.216457Z"
        },
        "id": "CLM66haF7RDq",
        "outputId": "cdc1f3fb-9be1-4248-8539-7afa8ece5722"
      },
      "outputs": [
        {
          "data": {
            "text/plain": [
              "{'nome': 'Mateus', 'sobrenome': 'Forli'}"
            ]
          },
          "execution_count": 228,
          "metadata": {},
          "output_type": "execute_result"
        }
      ],
      "source": [
        "dicionario[\"nome\"] = \"Mateus\"\n",
        "dicionario"
      ]
    },
    {
      "cell_type": "code",
      "execution_count": null,
      "metadata": {
        "ExecuteTime": {
          "end_time": "2022-01-16T19:34:19.381095Z",
          "start_time": "2022-01-16T19:34:19.376243Z"
        },
        "id": "sw7QgWMw7RDq",
        "outputId": "ba953826-bc7f-4c12-e298-eaba6b247412"
      },
      "outputs": [
        {
          "data": {
            "text/plain": [
              "'Mateus'"
            ]
          },
          "execution_count": 229,
          "metadata": {},
          "output_type": "execute_result"
        }
      ],
      "source": [
        "dicionario[\"nome\"]"
      ]
    },
    {
      "cell_type": "code",
      "execution_count": null,
      "metadata": {
        "ExecuteTime": {
          "end_time": "2022-01-16T19:34:23.554707Z",
          "start_time": "2022-01-16T19:34:23.504522Z"
        },
        "id": "dKaLtpPD7RDr",
        "outputId": "ae155369-310e-46c0-d381-6e23b22ba7df"
      },
      "outputs": [
        {
          "ename": "KeyError",
          "evalue": "'idade'",
          "output_type": "error",
          "traceback": [
            "\u001b[1;31m---------------------------------------------------------------------------\u001b[0m",
            "\u001b[1;31mKeyError\u001b[0m                                  Traceback (most recent call last)",
            "Input \u001b[1;32mIn [230]\u001b[0m, in \u001b[0;36m<module>\u001b[1;34m\u001b[0m\n\u001b[1;32m----> 1\u001b[0m \u001b[43mdicionario\u001b[49m\u001b[43m[\u001b[49m\u001b[38;5;124;43m\"\u001b[39;49m\u001b[38;5;124;43midade\u001b[39;49m\u001b[38;5;124;43m\"\u001b[39;49m\u001b[43m]\u001b[49m\n",
            "\u001b[1;31mKeyError\u001b[0m: 'idade'"
          ]
        }
      ],
      "source": [
        "dicionario[\"idade\"]"
      ]
    },
    {
      "cell_type": "markdown",
      "metadata": {
        "id": "WwG0L2xmEsSk"
      },
      "source": [
        "Executar list(d) em um dicionário devolve a lista de todas as chaves presentes no dicionário, na ordem de inserção (se desejar ordená-las basta usar a função sorted(d)). Para verificar a existência de uma chave, use o operador in."
      ]
    },
    {
      "cell_type": "code",
      "execution_count": null,
      "metadata": {
        "ExecuteTime": {
          "end_time": "2022-01-16T19:35:22.709628Z",
          "start_time": "2022-01-16T19:35:22.705212Z"
        },
        "id": "iAw2h2G_EsSk",
        "outputId": "8cab4f04-7eee-47a2-cd90-934db96cb3a7"
      },
      "outputs": [
        {
          "data": {
            "text/plain": [
              "False"
            ]
          },
          "execution_count": 231,
          "metadata": {},
          "output_type": "execute_result"
        }
      ],
      "source": [
        "\"Mateus\" in dicionario"
      ]
    },
    {
      "cell_type": "code",
      "execution_count": null,
      "metadata": {
        "ExecuteTime": {
          "end_time": "2022-01-16T19:35:29.638047Z",
          "start_time": "2022-01-16T19:35:29.632203Z"
        },
        "id": "Wboc6UKs7RDt",
        "outputId": "791cd05c-2ba4-43d3-ed5b-d9ae16e56847"
      },
      "outputs": [
        {
          "data": {
            "text/plain": [
              "True"
            ]
          },
          "execution_count": 232,
          "metadata": {},
          "output_type": "execute_result"
        }
      ],
      "source": [
        "\"nome\" in dicionario"
      ]
    },
    {
      "cell_type": "code",
      "execution_count": null,
      "metadata": {
        "ExecuteTime": {
          "end_time": "2022-01-16T19:35:38.244117Z",
          "start_time": "2022-01-16T19:35:38.239334Z"
        },
        "id": "IdQC52Zn7RDu",
        "outputId": "2426171f-9b8e-445a-ce77-98e631d2f11f"
      },
      "outputs": [
        {
          "data": {
            "text/plain": [
              "['nome', 'sobrenome']"
            ]
          },
          "execution_count": 233,
          "metadata": {},
          "output_type": "execute_result"
        }
      ],
      "source": [
        "list(dicionario)"
      ]
    },
    {
      "cell_type": "code",
      "execution_count": null,
      "metadata": {
        "ExecuteTime": {
          "end_time": "2022-01-16T19:35:49.332060Z",
          "start_time": "2022-01-16T19:35:49.329080Z"
        },
        "id": "K5yo6HPB7RDu",
        "outputId": "a2cc7ff9-d69b-4c4a-ed16-a9a900bd8f5b"
      },
      "outputs": [
        {
          "data": {
            "text/plain": [
              "('nome', 'sobrenome')"
            ]
          },
          "execution_count": 235,
          "metadata": {},
          "output_type": "execute_result"
        }
      ],
      "source": [
        "tuple(dicionario)"
      ]
    },
    {
      "cell_type": "markdown",
      "metadata": {
        "id": "n8kOmamiEsSk"
      },
      "source": [
        "Dicionários, assim como listas, possuem métodos pré-definidos que ajudam a trabalhar com a estrutura"
      ]
    },
    {
      "cell_type": "markdown",
      "metadata": {
        "id": "nnoddv52EsSk"
      },
      "source": [
        "KEYS: Lista de chaves do dicionário"
      ]
    },
    {
      "cell_type": "code",
      "execution_count": null,
      "metadata": {
        "ExecuteTime": {
          "end_time": "2022-01-16T19:36:46.837341Z",
          "start_time": "2022-01-16T19:36:46.833342Z"
        },
        "id": "p7vqBtgFEsSk",
        "outputId": "6b66731d-c2c1-4018-f6f7-554e3c396671"
      },
      "outputs": [
        {
          "name": "stdout",
          "output_type": "stream",
          "text": [
            "nome\n",
            "sobrenome\n"
          ]
        }
      ],
      "source": [
        "for k in dicionario.keys():\n",
        "    print(k)"
      ]
    },
    {
      "cell_type": "code",
      "execution_count": null,
      "metadata": {
        "ExecuteTime": {
          "end_time": "2022-01-16T19:36:56.180513Z",
          "start_time": "2022-01-16T19:36:56.176564Z"
        },
        "id": "Vtwqd0AF7RDw",
        "outputId": "352dbb5e-145b-4904-9e28-96504aaa88b7"
      },
      "outputs": [
        {
          "data": {
            "text/plain": [
              "True"
            ]
          },
          "execution_count": 238,
          "metadata": {},
          "output_type": "execute_result"
        }
      ],
      "source": [
        "\"nome\" in dicionario.keys()"
      ]
    },
    {
      "cell_type": "code",
      "execution_count": null,
      "metadata": {
        "ExecuteTime": {
          "end_time": "2022-01-16T19:37:07.204023Z",
          "start_time": "2022-01-16T19:37:07.199190Z"
        },
        "id": "Urwx7gqp7RDw",
        "outputId": "48adb2a4-e0df-498b-8318-b315be17cc11"
      },
      "outputs": [
        {
          "name": "stdout",
          "output_type": "stream",
          "text": [
            "nome\n",
            "sobrenome\n"
          ]
        }
      ],
      "source": [
        "for k in dicionario:\n",
        "    print(k)"
      ]
    },
    {
      "cell_type": "markdown",
      "metadata": {
        "id": "RXTChLjmEsSk"
      },
      "source": [
        "VALUES: Lista de valores do dicionário"
      ]
    },
    {
      "cell_type": "code",
      "execution_count": null,
      "metadata": {
        "ExecuteTime": {
          "end_time": "2022-01-16T19:37:26.053537Z",
          "start_time": "2022-01-16T19:37:26.048622Z"
        },
        "id": "r8y2wZ_AEsSk",
        "outputId": "c3c0722f-62da-4786-ae3e-23409a5b5469"
      },
      "outputs": [
        {
          "data": {
            "text/plain": [
              "dict_values(['Mateus', 'Forli'])"
            ]
          },
          "execution_count": 240,
          "metadata": {},
          "output_type": "execute_result"
        }
      ],
      "source": [
        "dicionario.values()"
      ]
    },
    {
      "cell_type": "code",
      "execution_count": null,
      "metadata": {
        "ExecuteTime": {
          "end_time": "2022-01-16T19:37:36.997065Z",
          "start_time": "2022-01-16T19:37:36.991245Z"
        },
        "id": "LFlKmxL-7RDx",
        "outputId": "f8680cdb-a5ac-425e-9ba5-ca5d7db7f0d7"
      },
      "outputs": [
        {
          "data": {
            "text/plain": [
              "['Mateus', 'Forli']"
            ]
          },
          "execution_count": 241,
          "metadata": {},
          "output_type": "execute_result"
        }
      ],
      "source": [
        "list(dicionario.values())"
      ]
    },
    {
      "cell_type": "code",
      "execution_count": null,
      "metadata": {
        "ExecuteTime": {
          "end_time": "2022-01-16T19:37:41.908119Z",
          "start_time": "2022-01-16T19:37:41.904197Z"
        },
        "id": "adglV9Xn7RDy",
        "outputId": "9681664b-a87e-44ff-b823-b4776016e5f2"
      },
      "outputs": [
        {
          "data": {
            "text/plain": [
              "True"
            ]
          },
          "execution_count": 242,
          "metadata": {},
          "output_type": "execute_result"
        }
      ],
      "source": [
        "\"Mateus\" in dicionario.values()"
      ]
    },
    {
      "cell_type": "markdown",
      "metadata": {
        "id": "TRLid7baEsSk"
      },
      "source": [
        "ITEMS: Pares de chave e valor"
      ]
    },
    {
      "cell_type": "code",
      "execution_count": null,
      "metadata": {
        "ExecuteTime": {
          "end_time": "2022-01-16T19:38:01.653002Z",
          "start_time": "2022-01-16T19:38:01.648171Z"
        },
        "id": "GD8g6gdOEsSk",
        "outputId": "e49a9258-7260-4b66-fdca-ba4fcda7e5be"
      },
      "outputs": [
        {
          "data": {
            "text/plain": [
              "dict_items([('nome', 'Mateus'), ('sobrenome', 'Forli')])"
            ]
          },
          "execution_count": 243,
          "metadata": {},
          "output_type": "execute_result"
        }
      ],
      "source": [
        "dicionario.items()"
      ]
    },
    {
      "cell_type": "code",
      "execution_count": null,
      "metadata": {
        "ExecuteTime": {
          "end_time": "2022-01-16T19:38:41.479177Z",
          "start_time": "2022-01-16T19:38:41.474326Z"
        },
        "id": "Me-3msT97RDz",
        "outputId": "66ee912e-b5a7-48f7-e395-67262621a747"
      },
      "outputs": [
        {
          "name": "stdout",
          "output_type": "stream",
          "text": [
            "nome -> Mateus\n",
            "sobrenome -> Forli\n"
          ]
        }
      ],
      "source": [
        "for k, v in dicionario.items():\n",
        "    print(k, \"->\", v)"
      ]
    },
    {
      "cell_type": "markdown",
      "metadata": {
        "id": "VryaBHPlEsSk"
      },
      "source": [
        "GET: Obtém o valor do dicionário"
      ]
    },
    {
      "cell_type": "code",
      "execution_count": null,
      "metadata": {
        "ExecuteTime": {
          "end_time": "2022-01-16T19:39:05.093125Z",
          "start_time": "2022-01-16T19:39:05.088243Z"
        },
        "id": "jpRhy8V-EsSk",
        "outputId": "ac867f75-b24d-4aee-e056-ee6b2e5421ee"
      },
      "outputs": [
        {
          "data": {
            "text/plain": [
              "'Mateus'"
            ]
          },
          "execution_count": 245,
          "metadata": {},
          "output_type": "execute_result"
        }
      ],
      "source": [
        "dicionario[\"nome\"]"
      ]
    },
    {
      "cell_type": "code",
      "execution_count": null,
      "metadata": {
        "ExecuteTime": {
          "end_time": "2022-01-16T19:39:12.180799Z",
          "start_time": "2022-01-16T19:39:12.176463Z"
        },
        "id": "b8Stg0yD7RD1",
        "outputId": "4f063eab-30fe-4196-bb1e-42a77b37722c"
      },
      "outputs": [
        {
          "data": {
            "text/plain": [
              "'Mateus'"
            ]
          },
          "execution_count": 246,
          "metadata": {},
          "output_type": "execute_result"
        }
      ],
      "source": [
        "dicionario.get(\"nome\")"
      ]
    },
    {
      "cell_type": "code",
      "execution_count": null,
      "metadata": {
        "ExecuteTime": {
          "end_time": "2022-01-16T19:39:22.862774Z",
          "start_time": "2022-01-16T19:39:22.848941Z"
        },
        "id": "RiG896Es7RD1",
        "outputId": "71d4b4ff-f4db-4386-bfec-8bcb808567c9"
      },
      "outputs": [
        {
          "ename": "KeyError",
          "evalue": "'idade'",
          "output_type": "error",
          "traceback": [
            "\u001b[1;31m---------------------------------------------------------------------------\u001b[0m",
            "\u001b[1;31mKeyError\u001b[0m                                  Traceback (most recent call last)",
            "Input \u001b[1;32mIn [247]\u001b[0m, in \u001b[0;36m<module>\u001b[1;34m\u001b[0m\n\u001b[1;32m----> 1\u001b[0m \u001b[43mdicionario\u001b[49m\u001b[43m[\u001b[49m\u001b[38;5;124;43m\"\u001b[39;49m\u001b[38;5;124;43midade\u001b[39;49m\u001b[38;5;124;43m\"\u001b[39;49m\u001b[43m]\u001b[49m\n",
            "\u001b[1;31mKeyError\u001b[0m: 'idade'"
          ]
        }
      ],
      "source": [
        "dicionario[\"idade\"]"
      ]
    },
    {
      "cell_type": "code",
      "execution_count": null,
      "metadata": {
        "ExecuteTime": {
          "end_time": "2022-01-16T19:39:29.300515Z",
          "start_time": "2022-01-16T19:39:29.296555Z"
        },
        "id": "3bZvEzHW7RD2"
      },
      "outputs": [],
      "source": [
        "dicionario.get(\"idade\")"
      ]
    },
    {
      "cell_type": "markdown",
      "metadata": {
        "id": "nrTZ6XpiEsSk"
      },
      "source": [
        "---"
      ]
    },
    {
      "cell_type": "markdown",
      "metadata": {
        "id": "nyQRk1h4EsSk"
      },
      "source": [
        "**Exercício 9**"
      ]
    },
    {
      "cell_type": "markdown",
      "metadata": {
        "id": "zwKo34Y-EsSl"
      },
      "source": [
        "Escreva um programa que receba quantas entradas o usuário desejar e depois\n",
        "crie um novo contato para cada entrada (Nome, Telefone, Endereço, Email), e\n",
        "por fim imprima, em ordem alfabética, a agenda de contatos"
      ]
    },
    {
      "cell_type": "code",
      "execution_count": null,
      "metadata": {
        "id": "wuLJiKOPEsSl",
        "solution2": "hidden",
        "solution2_first": true
      },
      "outputs": [],
      "source": []
    },
    {
      "cell_type": "code",
      "execution_count": null,
      "metadata": {
        "cellView": "form",
        "id": "NAb_4YL9EsSl",
        "solution2": "hidden"
      },
      "outputs": [],
      "source": [
        "#@title Resposta\n",
        "nomes = []\n",
        "agenda = {}\n",
        "\n",
        "while True:\n",
        "    ordem = input('Deseja adicionar um novo contato(add) ou parar a execução(stop)').lower()\n",
        "\n",
        "    if not ordem.isalpha():\n",
        "        print(\"Digite apenas letras!\")\n",
        "\n",
        "    elif ordem.startswith('a'):\n",
        "        contato = {}\n",
        "\n",
        "\n",
        "        nome = input('Digite o nome do contato: ')\n",
        "        if not nome[0].isupper():\n",
        "            nome = nome[0].upper() + nome[1:]\n",
        "\n",
        "        nomes.append(nome)\n",
        "\n",
        "        tel = input('Digite o telefone do contato: ')\n",
        "        contato['Telefone'] = tel\n",
        "\n",
        "        end = input('Digite o endereço do contato: ')\n",
        "        contato['Endereço'] = end\n",
        "\n",
        "        email = input('Digite o Email do contato: ')\n",
        "        contato['Email'] = email\n",
        "\n",
        "        agenda[nome] = contato\n",
        "\n",
        "    elif ordem.startswith('s'):\n",
        "        break\n",
        "\n",
        "print('A G E N D A\\n')\n",
        "nomes.sort()\n",
        "for nome in nomes:\n",
        "    print('Nome: ', nome)\n",
        "    print('Telefone: ', agenda[nome]['Telefone'])\n",
        "    print('Endereço: ', agenda[nome]['Endereço'])\n",
        "    print('Email: ', agenda[nome]['Email'])\n",
        "    print()"
      ]
    },
    {
      "cell_type": "markdown",
      "metadata": {
        "id": "fBJNCYcNEsSl"
      },
      "source": [
        "---"
      ]
    },
    {
      "cell_type": "markdown",
      "metadata": {
        "id": "hkWrocc3EsSl"
      },
      "source": [
        "#### Sets"
      ]
    },
    {
      "cell_type": "markdown",
      "metadata": {
        "id": "Nx8jFmymEsSl"
      },
      "source": [
        "Python também inclui um tipo de dados para conjuntos, chamado set. Um conjunto é uma coleção desordenada de elementos, sem elementos repetidos. Usos comuns para conjuntos incluem a verificação eficiente da existência de objetos e a eliminação de itens duplicados. Conjuntos também suportam operações matemáticas como união, interseção, diferença e diferença simétrica.\n",
        "\n",
        "Chaves ou a função set() podem ser usados para criar conjuntos. Note: para criar um conjunto vazio você precisa usar set(), não {}; este último cria um dicionário vazio."
      ]
    },
    {
      "cell_type": "code",
      "execution_count": null,
      "metadata": {
        "ExecuteTime": {
          "end_time": "2022-01-16T19:42:28.598504Z",
          "start_time": "2022-01-16T19:42:28.593675Z"
        },
        "id": "eirMZ35vEsSl",
        "outputId": "29cfe764-37d3-493f-df8a-5584c401054e"
      },
      "outputs": [
        {
          "data": {
            "text/plain": [
              "{1, 2, 3}"
            ]
          },
          "execution_count": 249,
          "metadata": {},
          "output_type": "execute_result"
        }
      ],
      "source": [
        "conj = {1, 2, 3}\n",
        "conj"
      ]
    },
    {
      "cell_type": "code",
      "execution_count": null,
      "metadata": {
        "ExecuteTime": {
          "end_time": "2022-01-16T19:42:47.253702Z",
          "start_time": "2022-01-16T19:42:47.248809Z"
        },
        "id": "2wK5nbsY7RD8",
        "outputId": "bc4df9ef-d3a7-40e6-d36c-a1f551532d40"
      },
      "outputs": [
        {
          "data": {
            "text/plain": [
              "{1, 2, 3}"
            ]
          },
          "execution_count": 250,
          "metadata": {},
          "output_type": "execute_result"
        }
      ],
      "source": [
        "conj = set([1, 2, 3])\n",
        "conj"
      ]
    },
    {
      "cell_type": "code",
      "execution_count": null,
      "metadata": {
        "ExecuteTime": {
          "end_time": "2022-01-16T19:43:09.653787Z",
          "start_time": "2022-01-16T19:43:09.648847Z"
        },
        "id": "V4v1m1W-7RD8",
        "outputId": "3e961462-a71a-40e6-c6bc-72132b48cdaa"
      },
      "outputs": [
        {
          "data": {
            "text/plain": [
              "{1, 2, 3, 4, 5}"
            ]
          },
          "execution_count": 251,
          "metadata": {},
          "output_type": "execute_result"
        }
      ],
      "source": [
        "{1, 2, 3, 3, 3, 4, 5}"
      ]
    },
    {
      "cell_type": "code",
      "execution_count": null,
      "metadata": {
        "ExecuteTime": {
          "end_time": "2022-01-16T19:43:33.712607Z",
          "start_time": "2022-01-16T19:43:33.698224Z"
        },
        "id": "4Z72dDp87RD9",
        "outputId": "9b4fe76d-59ce-4517-d7aa-86ca90e144f3"
      },
      "outputs": [
        {
          "ename": "TypeError",
          "evalue": "'set' object is not subscriptable",
          "output_type": "error",
          "traceback": [
            "\u001b[1;31m---------------------------------------------------------------------------\u001b[0m",
            "\u001b[1;31mTypeError\u001b[0m                                 Traceback (most recent call last)",
            "Input \u001b[1;32mIn [252]\u001b[0m, in \u001b[0;36m<module>\u001b[1;34m\u001b[0m\n\u001b[1;32m----> 1\u001b[0m \u001b[43mconj\u001b[49m\u001b[43m[\u001b[49m\u001b[38;5;241;43m0\u001b[39;49m\u001b[43m]\u001b[49m\n",
            "\u001b[1;31mTypeError\u001b[0m: 'set' object is not subscriptable"
          ]
        }
      ],
      "source": [
        "conj[0]"
      ]
    },
    {
      "cell_type": "markdown",
      "metadata": {
        "id": "OfJSj7WpEsSl"
      },
      "source": [
        "Sets permitem calculos de conjuntos como intersecção, sub e superset"
      ]
    },
    {
      "cell_type": "code",
      "execution_count": null,
      "metadata": {
        "ExecuteTime": {
          "end_time": "2022-01-16T19:45:42.758233Z",
          "start_time": "2022-01-16T19:45:42.753275Z"
        },
        "id": "kM5D7Xv0EsSl",
        "outputId": "560aac0e-c04a-4059-e2eb-bceef2fd05f5"
      },
      "outputs": [
        {
          "name": "stdout",
          "output_type": "stream",
          "text": [
            "{1, 2}\n",
            "{3}\n",
            "True\n",
            "True\n"
          ]
        }
      ],
      "source": [
        "conj1 = {1, 2, 3}\n",
        "conj2 = {3, 4, 5}\n",
        "conj3 = {1, 2, 3, 4, 5}\n",
        "\n",
        "print(conj1 - conj2)\n",
        "print(conj1.intersection(conj2))\n",
        "print(conj3.issuperset(conj2))\n",
        "print(conj1.issubset(conj3))"
      ]
    },
    {
      "cell_type": "code",
      "execution_count": null,
      "metadata": {
        "ExecuteTime": {
          "end_time": "2022-01-16T19:46:19.286008Z",
          "start_time": "2022-01-16T19:46:19.281070Z"
        },
        "id": "zdOJa0Fr7RD_",
        "outputId": "e00fccc1-735b-451f-f4be-be7c044912ac"
      },
      "outputs": [
        {
          "data": {
            "text/plain": [
              "[1, 2, 3, 4, 5, 6, 7, 8]"
            ]
          },
          "execution_count": 258,
          "metadata": {},
          "output_type": "execute_result"
        }
      ],
      "source": [
        "list(set([1, 2, 3, 4, 5, 5, 6, 7, 8, 8]))"
      ]
    },
    {
      "cell_type": "markdown",
      "metadata": {
        "id": "t-JIVCx7EsSl"
      },
      "source": [
        "---"
      ]
    },
    {
      "cell_type": "markdown",
      "metadata": {
        "id": "_7ioi2vMEsSl"
      },
      "source": [
        "### Variáveis de Texto"
      ]
    },
    {
      "cell_type": "markdown",
      "metadata": {
        "id": "Hftc9eD6EsSl"
      },
      "source": [
        "Além de números, Python também pode manipular strings (sequências de caracteres), que podem ser expressas de diversas formas. Elas podem ser delimitadas por aspas simples ('...') ou duplas (\"...\") e teremos o mesmo resultado. \\ pode ser usada para escapar aspas:"
      ]
    },
    {
      "cell_type": "code",
      "execution_count": null,
      "metadata": {
        "ExecuteTime": {
          "end_time": "2022-01-16T21:12:13.655228Z",
          "start_time": "2022-01-16T21:12:13.650358Z"
        },
        "id": "DysQnEtu7REB",
        "outputId": "ff9287a5-a5da-4412-d4be-7a73066ba719"
      },
      "outputs": [
        {
          "data": {
            "text/plain": [
              "'Olá mundo'"
            ]
          },
          "execution_count": 265,
          "metadata": {},
          "output_type": "execute_result"
        }
      ],
      "source": [
        "\"Olá mundo\""
      ]
    },
    {
      "cell_type": "code",
      "execution_count": null,
      "metadata": {
        "ExecuteTime": {
          "end_time": "2022-01-16T21:12:24.581018Z",
          "start_time": "2022-01-16T21:12:24.578105Z"
        },
        "id": "s6gDFtGM7REC"
      },
      "outputs": [],
      "source": [
        "a = \"Olá mundo\""
      ]
    },
    {
      "cell_type": "code",
      "execution_count": null,
      "metadata": {
        "ExecuteTime": {
          "end_time": "2022-01-16T21:12:26.213902Z",
          "start_time": "2022-01-16T21:12:26.209036Z"
        },
        "id": "cyMkTdt57REC",
        "outputId": "5954383b-2071-46d3-b2a9-5cd100bd9dad"
      },
      "outputs": [
        {
          "data": {
            "text/plain": [
              "'Olá mundo'"
            ]
          },
          "execution_count": 267,
          "metadata": {},
          "output_type": "execute_result"
        }
      ],
      "source": [
        "a"
      ]
    },
    {
      "cell_type": "code",
      "execution_count": null,
      "metadata": {
        "ExecuteTime": {
          "end_time": "2022-01-16T21:13:38.133097Z",
          "start_time": "2022-01-16T21:13:38.128176Z"
        },
        "id": "foyBThwY7RED",
        "outputId": "24d7c753-ab3d-4914-e7ee-b72b77abb1d0"
      },
      "outputs": [
        {
          "data": {
            "text/plain": [
              "'Ele disse \"eu gosto de sorvete\"'"
            ]
          },
          "execution_count": 268,
          "metadata": {},
          "output_type": "execute_result"
        }
      ],
      "source": [
        "\"Ele disse \\\"eu gosto de sorvete\\\"\""
      ]
    },
    {
      "cell_type": "markdown",
      "metadata": {
        "id": "m1j7P64vEsSm"
      },
      "source": [
        "Na interpretação interativa, a string de saída é delimitada com aspas e caracteres especiais são escapados com barras invertidas. Embora isso possa às vezes parecer diferente da entrada (as aspas podem mudar), as duas strings são equivalentes. A string é delimitada com aspas duplas se a string contiver uma única aspa simples e nenhuma aspa dupla, caso contrário, ela é delimitada com aspas simples."
      ]
    },
    {
      "cell_type": "markdown",
      "metadata": {
        "id": "i07GXkUNEsSm"
      },
      "source": [
        "Se não quiseres que os caracteres sejam precedidos por \\ para serem interpretados como caracteres especiais, poderás usar strings raw (N.d.T: “crua” ou sem processamento de caracteres de escape) adicionando um r antes da primeira aspa:"
      ]
    },
    {
      "cell_type": "code",
      "execution_count": null,
      "metadata": {
        "ExecuteTime": {
          "end_time": "2022-01-16T21:14:48.165727Z",
          "start_time": "2022-01-16T21:14:48.161781Z"
        },
        "id": "O8QsJI4JEsSm",
        "outputId": "ed0f926d-0590-4348-81bf-e9d979eadb3a"
      },
      "outputs": [
        {
          "name": "stdout",
          "output_type": "stream",
          "text": [
            "C:\n",
            "eusa\n"
          ]
        }
      ],
      "source": [
        "print(\"C:\\neusa\")"
      ]
    },
    {
      "cell_type": "code",
      "execution_count": null,
      "metadata": {
        "ExecuteTime": {
          "end_time": "2022-01-16T21:14:54.069794Z",
          "start_time": "2022-01-16T21:14:54.065787Z"
        },
        "id": "ndafmoVi7REF",
        "outputId": "d8e835f1-a2bf-4e9f-b560-73871e05e19d"
      },
      "outputs": [
        {
          "name": "stdout",
          "output_type": "stream",
          "text": [
            "C:\\neusa\n"
          ]
        }
      ],
      "source": [
        "print(\"C:\\\\neusa\")"
      ]
    },
    {
      "cell_type": "code",
      "execution_count": null,
      "metadata": {
        "ExecuteTime": {
          "end_time": "2022-01-16T21:14:59.973373Z",
          "start_time": "2022-01-16T21:14:59.969430Z"
        },
        "id": "kgT_rvSY7REF",
        "outputId": "42a14b27-9647-4b39-ef30-e1f09fb04781"
      },
      "outputs": [
        {
          "name": "stdout",
          "output_type": "stream",
          "text": [
            "C:\\neusa\n"
          ]
        }
      ],
      "source": [
        "print(r\"C:\\neusa\")"
      ]
    },
    {
      "cell_type": "markdown",
      "metadata": {
        "id": "KHyaoAjTEsSm"
      },
      "source": [
        "As strings literais podem abranger várias linhas. Uma maneira é usar as aspas triplas: \"\"\"...\"\"\" ou '''...'''. O fim das linhas é incluído automaticamente na string, mas é possível evitar isso adicionando uma \\ no final. O seguinte exemplo:"
      ]
    },
    {
      "cell_type": "code",
      "execution_count": null,
      "metadata": {
        "ExecuteTime": {
          "end_time": "2022-01-16T21:16:14.934304Z",
          "start_time": "2022-01-16T21:16:14.929474Z"
        },
        "id": "b7qmdWuzEsSm",
        "outputId": "e4d89155-caa6-43b1-b118-c15c1150a28a"
      },
      "outputs": [
        {
          "data": {
            "text/plain": [
              "'Uma string com múltiplas\\nlinhas a ser mostrada'"
            ]
          },
          "execution_count": 275,
          "metadata": {},
          "output_type": "execute_result"
        }
      ],
      "source": [
        "\"\"\"\\\n",
        "Uma string com múltiplas\n",
        "linhas a ser mostrada\\\n",
        "\"\"\""
      ]
    },
    {
      "cell_type": "markdown",
      "metadata": {
        "ExecuteTime": {
          "end_time": "2021-09-07T12:35:45.857002Z",
          "start_time": "2021-09-07T12:35:45.844036Z"
        },
        "id": "MoPLCu2_EsSm"
      },
      "source": [
        "Strings podem ser concatenadas (coladas) com o operador +, e repetidas com *:"
      ]
    },
    {
      "cell_type": "code",
      "execution_count": null,
      "metadata": {
        "ExecuteTime": {
          "end_time": "2022-01-16T21:16:50.133111Z",
          "start_time": "2022-01-16T21:16:50.129273Z"
        },
        "id": "srGoQ-z0EsSm",
        "outputId": "2f80f79c-c3f3-45af-aaf0-e9cfbb26c363"
      },
      "outputs": [
        {
          "data": {
            "text/plain": [
              "'unununium'"
            ]
          },
          "execution_count": 277,
          "metadata": {},
          "output_type": "execute_result"
        }
      ],
      "source": [
        "3 * 'un' + 'ium'"
      ]
    },
    {
      "cell_type": "markdown",
      "metadata": {
        "id": "mPdN_P0BEsSm"
      },
      "source": [
        "Duas ou mais strings literais (ou seja, entre aspas) ao lado da outra são automaticamente concatenados."
      ]
    },
    {
      "cell_type": "code",
      "execution_count": null,
      "metadata": {
        "ExecuteTime": {
          "end_time": "2022-01-16T21:17:04.263033Z",
          "start_time": "2022-01-16T21:17:04.258255Z"
        },
        "id": "dDb9uG4-EsSm",
        "outputId": "3992de8b-81b2-4271-8732-ac281994f4b8"
      },
      "outputs": [
        {
          "data": {
            "text/plain": [
              "'Python'"
            ]
          },
          "execution_count": 278,
          "metadata": {},
          "output_type": "execute_result"
        }
      ],
      "source": [
        "'Py' 'thon'"
      ]
    },
    {
      "cell_type": "markdown",
      "metadata": {
        "id": "hg2-XS8GEsSm"
      },
      "source": [
        "Esse recurso é particularmente útil quando você quer quebrar strings longas:"
      ]
    },
    {
      "cell_type": "code",
      "execution_count": null,
      "metadata": {
        "ExecuteTime": {
          "end_time": "2022-01-16T21:17:45.351282Z",
          "start_time": "2022-01-16T21:17:45.346406Z"
        },
        "id": "WIS8eWopEsSn",
        "outputId": "bbaffb98-f77b-4859-bd82-9a7851cca8d2"
      },
      "outputs": [
        {
          "data": {
            "text/plain": [
              "'Olha, esse é um texto enorme que eu vou querer deixar entre múltiplas linhas para o meu código ser mais legível'"
            ]
          },
          "execution_count": 280,
          "metadata": {},
          "output_type": "execute_result"
        }
      ],
      "source": [
        "texto = (\n",
        "    \"Olha, esse é um texto enorme que eu vou querer deixar \"\n",
        "    \"entre múltiplas linhas para o meu código ser mais legível\"\n",
        ")\n",
        "texto"
      ]
    },
    {
      "cell_type": "markdown",
      "metadata": {
        "id": "P7hGs624EsSn"
      },
      "source": [
        "Isso só funciona com duas strings literais, não com variáveis ou expressões:"
      ]
    },
    {
      "cell_type": "code",
      "execution_count": null,
      "metadata": {
        "ExecuteTime": {
          "end_time": "2022-01-16T21:18:30.053004Z",
          "start_time": "2022-01-16T21:18:30.049044Z"
        },
        "id": "j3H7v4GwEsSn"
      },
      "outputs": [],
      "source": [
        "p1 = \"Py\"\n",
        "#p1 \"thon\""
      ]
    },
    {
      "cell_type": "markdown",
      "metadata": {
        "id": "OrA23oPhEsSn"
      },
      "source": [
        "Se você quiser concatenar variáveis ou uma variável e uma literal, use +:"
      ]
    },
    {
      "cell_type": "code",
      "execution_count": null,
      "metadata": {
        "ExecuteTime": {
          "end_time": "2022-01-16T21:18:31.092819Z",
          "start_time": "2022-01-16T21:18:31.087888Z"
        },
        "id": "UGA1NP1PEsSn",
        "outputId": "507584d7-03bc-44b0-b3b4-d91488e4f9b1"
      },
      "outputs": [
        {
          "data": {
            "text/plain": [
              "'Python'"
            ]
          },
          "execution_count": 286,
          "metadata": {},
          "output_type": "execute_result"
        }
      ],
      "source": [
        "p1 + \"thon\""
      ]
    },
    {
      "cell_type": "markdown",
      "metadata": {
        "id": "z5Nm6ZtlEsSn"
      },
      "source": [
        "As strings podem ser indexadas (subscritas), da mesma maneira que listas e tuplas"
      ]
    },
    {
      "cell_type": "code",
      "execution_count": null,
      "metadata": {
        "ExecuteTime": {
          "end_time": "2022-01-16T21:19:48.887457Z",
          "start_time": "2022-01-16T21:19:48.882987Z"
        },
        "id": "u4QY_V8GEsSn",
        "outputId": "bbdfbc23-9309-4f40-a30b-fd643bb81a9e"
      },
      "outputs": [
        {
          "name": "stdout",
          "output_type": "stream",
          "text": [
            "P\n",
            "n\n"
          ]
        }
      ],
      "source": [
        "[\"P\", \"y\", \"t\", \"h\", \"o\", \"n\"]\n",
        "p = \"Python\"\n",
        "print(p[0])\n",
        "print(p[5])"
      ]
    },
    {
      "cell_type": "code",
      "execution_count": null,
      "metadata": {
        "ExecuteTime": {
          "end_time": "2022-01-16T21:19:56.599062Z",
          "start_time": "2022-01-16T21:19:56.594204Z"
        },
        "id": "aqBOzBOg7REP",
        "outputId": "f7088f3a-847b-4def-e2b8-a28099fb7c79"
      },
      "outputs": [
        {
          "data": {
            "text/plain": [
              "'n'"
            ]
          },
          "execution_count": 291,
          "metadata": {},
          "output_type": "execute_result"
        }
      ],
      "source": [
        "p[-1]"
      ]
    },
    {
      "cell_type": "code",
      "execution_count": null,
      "metadata": {
        "ExecuteTime": {
          "end_time": "2022-01-16T21:19:59.989627Z",
          "start_time": "2022-01-16T21:19:59.985733Z"
        },
        "id": "OuR0tvXQ7REQ",
        "outputId": "e2a3ad88-6447-464a-a02c-12af5c0e3d7a"
      },
      "outputs": [
        {
          "data": {
            "text/plain": [
              "'yt'"
            ]
          },
          "execution_count": 292,
          "metadata": {},
          "output_type": "execute_result"
        }
      ],
      "source": [
        "p[1:3]"
      ]
    },
    {
      "cell_type": "code",
      "execution_count": null,
      "metadata": {
        "ExecuteTime": {
          "end_time": "2022-01-16T21:20:10.183212Z",
          "start_time": "2022-01-16T21:20:10.177387Z"
        },
        "id": "8DaHNg9Q7RER",
        "outputId": "17bad50a-ca43-4d46-cbda-fd3ee7dfde4c"
      },
      "outputs": [
        {
          "data": {
            "text/plain": [
              "'thonh'"
            ]
          },
          "execution_count": 293,
          "metadata": {},
          "output_type": "execute_result"
        }
      ],
      "source": [
        "p[2:] + p[3:4]"
      ]
    },
    {
      "cell_type": "code",
      "execution_count": null,
      "metadata": {
        "ExecuteTime": {
          "end_time": "2022-01-16T21:20:17.889557Z",
          "start_time": "2022-01-16T21:20:17.873809Z"
        },
        "id": "BR_vwx-M7RES",
        "outputId": "0a9218a7-bf0c-40e1-e428-b33d89a556fd"
      },
      "outputs": [
        {
          "ename": "IndexError",
          "evalue": "string index out of range",
          "output_type": "error",
          "traceback": [
            "\u001b[1;31m---------------------------------------------------------------------------\u001b[0m",
            "\u001b[1;31mIndexError\u001b[0m                                Traceback (most recent call last)",
            "Input \u001b[1;32mIn [294]\u001b[0m, in \u001b[0;36m<module>\u001b[1;34m\u001b[0m\n\u001b[1;32m----> 1\u001b[0m \u001b[43mp\u001b[49m\u001b[43m[\u001b[49m\u001b[38;5;241;43m42\u001b[39;49m\u001b[43m]\u001b[49m\n",
            "\u001b[1;31mIndexError\u001b[0m: string index out of range"
          ]
        }
      ],
      "source": [
        "p[42]"
      ]
    },
    {
      "cell_type": "code",
      "execution_count": null,
      "metadata": {
        "ExecuteTime": {
          "end_time": "2022-01-16T21:20:22.005621Z",
          "start_time": "2022-01-16T21:20:22.001618Z"
        },
        "id": "MRwcGrCH7RES",
        "outputId": "ec01b78d-5e11-4deb-d792-8f7b76f6b237"
      },
      "outputs": [
        {
          "data": {
            "text/plain": [
              "''"
            ]
          },
          "execution_count": 295,
          "metadata": {},
          "output_type": "execute_result"
        }
      ],
      "source": [
        "p[42:]"
      ]
    },
    {
      "cell_type": "code",
      "execution_count": null,
      "metadata": {
        "ExecuteTime": {
          "end_time": "2022-01-16T21:20:27.926959Z",
          "start_time": "2022-01-16T21:20:27.922038Z"
        },
        "id": "kgzJx_5e7RET",
        "outputId": "b1e11904-f662-4cc4-81f7-c78f03e4f117"
      },
      "outputs": [
        {
          "data": {
            "text/plain": [
              "'thon'"
            ]
          },
          "execution_count": 296,
          "metadata": {},
          "output_type": "execute_result"
        }
      ],
      "source": [
        "p[2:42]"
      ]
    },
    {
      "cell_type": "markdown",
      "metadata": {
        "id": "qjUtNV8ZEsSn"
      },
      "source": [
        "As strings do Python não podem ser alteradas — uma string é imutável. Portanto, atribuir a uma posição indexada na sequência resulta em um erro:"
      ]
    },
    {
      "cell_type": "code",
      "execution_count": null,
      "metadata": {
        "ExecuteTime": {
          "end_time": "2022-01-16T21:20:55.426119Z",
          "start_time": "2022-01-16T21:20:55.410776Z"
        },
        "id": "VzQJqvebEsSn",
        "outputId": "a7863455-94a3-4763-dc13-1ab068805376"
      },
      "outputs": [
        {
          "ename": "TypeError",
          "evalue": "'str' object does not support item assignment",
          "output_type": "error",
          "traceback": [
            "\u001b[1;31m---------------------------------------------------------------------------\u001b[0m",
            "\u001b[1;31mTypeError\u001b[0m                                 Traceback (most recent call last)",
            "Input \u001b[1;32mIn [297]\u001b[0m, in \u001b[0;36m<module>\u001b[1;34m\u001b[0m\n\u001b[1;32m----> 1\u001b[0m p[\u001b[38;5;241m0\u001b[39m] \u001b[38;5;241m=\u001b[39m \u001b[38;5;124m\"\u001b[39m\u001b[38;5;124mJ\u001b[39m\u001b[38;5;124m\"\u001b[39m\n",
            "\u001b[1;31mTypeError\u001b[0m: 'str' object does not support item assignment"
          ]
        }
      ],
      "source": [
        "p[0] = \"J\""
      ]
    },
    {
      "cell_type": "markdown",
      "metadata": {
        "id": "iGpWqZJvEsSn"
      },
      "source": [
        "Se você precisar de uma string diferente, deverá criar uma nova:"
      ]
    },
    {
      "cell_type": "code",
      "execution_count": null,
      "metadata": {
        "ExecuteTime": {
          "end_time": "2022-01-16T21:21:09.959550Z",
          "start_time": "2022-01-16T21:21:09.954630Z"
        },
        "id": "6-vPP9OGEsSn",
        "outputId": "f543c881-c16e-4ead-8050-8c3119131199"
      },
      "outputs": [
        {
          "data": {
            "text/plain": [
              "'Jython'"
            ]
          },
          "execution_count": 298,
          "metadata": {},
          "output_type": "execute_result"
        }
      ],
      "source": [
        "\"J\" + p[1:]"
      ]
    },
    {
      "cell_type": "markdown",
      "metadata": {
        "id": "vy-0p8Y5EsSn"
      },
      "source": [
        "A função embutida len() devolve o comprimento de uma string:"
      ]
    },
    {
      "cell_type": "code",
      "execution_count": null,
      "metadata": {
        "ExecuteTime": {
          "end_time": "2022-01-16T21:21:25.847314Z",
          "start_time": "2022-01-16T21:21:25.842372Z"
        },
        "id": "X5mXjMJHEsSn",
        "outputId": "09eabcff-68ca-4ef8-9c3c-04f1b755b825"
      },
      "outputs": [
        {
          "data": {
            "text/plain": [
              "6"
            ]
          },
          "execution_count": 299,
          "metadata": {},
          "output_type": "execute_result"
        }
      ],
      "source": [
        "len(p)"
      ]
    },
    {
      "cell_type": "markdown",
      "metadata": {
        "id": "XZ1w0q2hEsSn"
      },
      "source": [
        "Assim como todas as variáveis numéricas strings também possuem uma função que permite converter uma expressão em texto."
      ]
    },
    {
      "cell_type": "code",
      "execution_count": null,
      "metadata": {
        "ExecuteTime": {
          "end_time": "2022-01-16T21:21:52.631564Z",
          "start_time": "2022-01-16T21:21:52.626720Z"
        },
        "id": "3F9rFUHdEsSn",
        "outputId": "227531ce-30c3-44eb-c471-daaf0815ef0b"
      },
      "outputs": [
        {
          "data": {
            "text/plain": [
              "'[1, 2, 3]'"
            ]
          },
          "execution_count": 301,
          "metadata": {},
          "output_type": "execute_result"
        }
      ],
      "source": [
        "str([1, 2, 3])"
      ]
    },
    {
      "cell_type": "markdown",
      "metadata": {
        "id": "nqbdCf7KEsSn"
      },
      "source": [
        "Como já vimos, strings podem ser criadas a partir de outras variáveis apresentando formatações específicas. Há 4 principais tipos de sintaxe para isso:"
      ]
    },
    {
      "cell_type": "markdown",
      "metadata": {
        "id": "Jk8VzZkMEsSo"
      },
      "source": [
        "1) Operador %: A formatação que vimos no print com o uso do % para colocar inteiros e reais"
      ]
    },
    {
      "cell_type": "markdown",
      "metadata": {
        "id": "p90FtlXLEsSo"
      },
      "source": [
        "<img src=\"https://i.stack.imgur.com/j1NqG.png\" />"
      ]
    },
    {
      "cell_type": "code",
      "execution_count": null,
      "metadata": {
        "ExecuteTime": {
          "end_time": "2022-01-16T21:23:20.455271Z",
          "start_time": "2022-01-16T21:23:20.451304Z"
        },
        "id": "m6FZHov7EsSo",
        "outputId": "a18125c0-fdeb-480e-9254-b3b79026db16"
      },
      "outputs": [
        {
          "name": "stdout",
          "output_type": "stream",
          "text": [
            "Olá mundo 1\n"
          ]
        }
      ],
      "source": [
        "print(\"Olá %s %d\" % (\"mundo\", 1))"
      ]
    },
    {
      "cell_type": "markdown",
      "metadata": {
        "ExecuteTime": {
          "end_time": "2021-09-07T12:49:06.456626Z",
          "start_time": "2021-09-07T12:49:06.438675Z"
        },
        "id": "tbrRNApXEsSo"
      },
      "source": [
        "2) str.format: Utiliza a sintaxe do .format passando para a string o nome de variáveis específicas"
      ]
    },
    {
      "cell_type": "code",
      "execution_count": null,
      "metadata": {
        "ExecuteTime": {
          "end_time": "2022-01-16T21:25:51.368349Z",
          "start_time": "2022-01-16T21:25:51.362482Z"
        },
        "id": "wg_LE71GEsSo",
        "outputId": "d9ac29ad-905a-4e8d-d74e-bff8796489a5"
      },
      "outputs": [
        {
          "name": "stdout",
          "output_type": "stream",
          "text": [
            "Olá Pedro, há um erro 0xbadc0ffee!\n",
            "Olá Pedro, há um erro 0xbadc0ffee!\n"
          ]
        }
      ],
      "source": [
        "nome = \"Pedro\"\n",
        "errno = \"badc0ffee\"\n",
        "print(\"Olá {}, há um erro 0x{}!\".format(nome, errno))\n",
        "print(\"Olá {nome}, há um erro 0x{errno}!\".format(errno=errno, nome=nome))"
      ]
    },
    {
      "cell_type": "markdown",
      "metadata": {
        "id": "dM9djsJ5EsSo"
      },
      "source": [
        "3) f-strings: O formato que mais utilizaremos no curso, na qual ao colocar um \"f\" na frente da string podemos passar as variáveis diretamente para ela"
      ]
    },
    {
      "cell_type": "code",
      "execution_count": null,
      "metadata": {
        "ExecuteTime": {
          "end_time": "2022-01-16T21:27:07.477910Z",
          "start_time": "2022-01-16T21:27:07.474510Z"
        },
        "id": "YXzKV9NCEsSo",
        "outputId": "174b9abf-854a-472a-d429-9fe3640914cc"
      },
      "outputs": [
        {
          "name": "stdout",
          "output_type": "stream",
          "text": [
            "Olá, Pedro\n",
            "Olá, 7\n",
            "Olá Pedro, há um erro 0xbadc0ffee!\n"
          ]
        }
      ],
      "source": [
        "print(f\"Olá, {nome}\")\n",
        "print(f\"Olá, {1 + 2 * 3}\")\n",
        "print(f\"Olá {nome}, há um erro 0x{errno}!\")"
      ]
    },
    {
      "cell_type": "markdown",
      "metadata": {
        "id": "8hjCcWhaEsSo"
      },
      "source": [
        "4) Templates: Gera strings que esperam determinadas variáveis para serem utilizadas com template múltiplas vezes"
      ]
    },
    {
      "cell_type": "code",
      "execution_count": null,
      "metadata": {
        "ExecuteTime": {
          "end_time": "2022-01-16T21:29:03.546233Z",
          "start_time": "2022-01-16T21:29:03.539382Z"
        },
        "id": "qo_AqKsgEsSp",
        "outputId": "9ef5888d-a23a-4c82-8212-dfba5c5157cf"
      },
      "outputs": [
        {
          "name": "stdout",
          "output_type": "stream",
          "text": [
            "Olá, Pedro\n",
            "Olá Pedro, há um erro 0xbadc0ffee!\n"
          ]
        }
      ],
      "source": [
        "from string import Template\n",
        "\n",
        "s1 = Template(\"Olá, $nome\")\n",
        "s2 = Template(\"Olá $nome, há um erro 0x$errno!\")\n",
        "\n",
        "print(s1.substitute(nome=nome))\n",
        "print(s2.substitute(nome=nome, errno=errno))"
      ]
    },
    {
      "cell_type": "markdown",
      "metadata": {
        "id": "xpI2_7LlEsSp"
      },
      "source": [
        "Por fim, é importante destacar que há uma série de ferramentas pré-prontas para se trabalhar na manipulação de strings em python, os chamados métodos. Destacamos abaixo o mais utilizados"
      ]
    },
    {
      "cell_type": "markdown",
      "metadata": {
        "id": "b4qaEtdiEsSp"
      },
      "source": [
        "UPPER / LOWER: Converte um string para maiscula / minuscula"
      ]
    },
    {
      "cell_type": "code",
      "execution_count": null,
      "metadata": {
        "ExecuteTime": {
          "end_time": "2022-01-16T21:30:16.264137Z",
          "start_time": "2022-01-16T21:30:16.259754Z"
        },
        "id": "Ih8a53ToEsSp",
        "outputId": "ce634bc5-e42b-40fe-b9b4-2b312ce5f32c"
      },
      "outputs": [
        {
          "name": "stdout",
          "output_type": "stream",
          "text": [
            "olá mundo\n",
            "OLÁ MUNDO\n"
          ]
        }
      ],
      "source": [
        "s = \"Olá Mundo\"\n",
        "print(s.lower())\n",
        "print(s.upper())"
      ]
    },
    {
      "cell_type": "markdown",
      "metadata": {
        "id": "WMIy7x7ZEsSp"
      },
      "source": [
        "ISDIGIT: Checa se a string é numérica"
      ]
    },
    {
      "cell_type": "code",
      "execution_count": null,
      "metadata": {
        "ExecuteTime": {
          "end_time": "2022-01-16T21:30:37.495618Z",
          "start_time": "2022-01-16T21:30:37.491294Z"
        },
        "id": "-EKpkAfCEsSp",
        "outputId": "4cc36a33-4a7a-4c66-c081-521b74c5d246"
      },
      "outputs": [
        {
          "name": "stdout",
          "output_type": "stream",
          "text": [
            "True\n"
          ]
        }
      ],
      "source": [
        "s = \"123\"\n",
        "print(s.isdigit())"
      ]
    },
    {
      "cell_type": "markdown",
      "metadata": {
        "id": "l91PJH-KEsSp"
      },
      "source": [
        "SPLIT: Divide a string de acordo com um separador"
      ]
    },
    {
      "cell_type": "code",
      "execution_count": null,
      "metadata": {
        "ExecuteTime": {
          "end_time": "2022-01-16T21:31:10.408542Z",
          "start_time": "2022-01-16T21:31:10.402621Z"
        },
        "id": "Nn1j4em0EsSp",
        "outputId": "a1de0be9-3d6e-4d51-ce24-575db3e29fe2"
      },
      "outputs": [
        {
          "data": {
            "text/plain": [
              "['Olá', 'Mundo']"
            ]
          },
          "execution_count": 311,
          "metadata": {},
          "output_type": "execute_result"
        }
      ],
      "source": [
        "s = \"Olá Mundo\"\n",
        "s.split(\" \")"
      ]
    },
    {
      "cell_type": "markdown",
      "metadata": {
        "id": "gRXsqsy2EsSp"
      },
      "source": [
        "JOIN: Junta uma lista ou tupla de textos em um string usando uma string de junção"
      ]
    },
    {
      "cell_type": "code",
      "execution_count": null,
      "metadata": {
        "ExecuteTime": {
          "end_time": "2022-01-16T21:32:22.455525Z",
          "start_time": "2022-01-16T21:32:22.450530Z"
        },
        "id": "t3GlnF8TEsSp",
        "outputId": "974b1868-1987-4084-b59f-456e0ff7ca90"
      },
      "outputs": [
        {
          "name": "stdout",
          "output_type": "stream",
          "text": [
            "Olá Mundo\n",
            "Olá, Mundo\n",
            "Olá --> Mundo\n"
          ]
        }
      ],
      "source": [
        "l = ['Olá', 'Mundo']\n",
        "print(\" \".join(l))\n",
        "print(\", \".join(l))\n",
        "print(\" --> \".join(l))"
      ]
    },
    {
      "cell_type": "markdown",
      "metadata": {
        "id": "Xkkbd5ssEsSp"
      },
      "source": [
        "STRIP: Elimina caracteres vazios nos extremos da string"
      ]
    },
    {
      "cell_type": "code",
      "execution_count": null,
      "metadata": {
        "ExecuteTime": {
          "end_time": "2022-01-16T21:33:06.454934Z",
          "start_time": "2022-01-16T21:33:06.450015Z"
        },
        "id": "YEXqm0C0EsSp",
        "outputId": "9b942fd9-80d8-4d81-ddcd-48620fbc5a3f"
      },
      "outputs": [
        {
          "data": {
            "text/plain": [
              "' Olá Mundo   '"
            ]
          },
          "execution_count": 317,
          "metadata": {},
          "output_type": "execute_result"
        }
      ],
      "source": [
        "s = \" Olá Mundo   \"\n",
        "s"
      ]
    },
    {
      "cell_type": "code",
      "execution_count": null,
      "metadata": {
        "ExecuteTime": {
          "end_time": "2022-01-16T21:33:08.894888Z",
          "start_time": "2022-01-16T21:33:08.890020Z"
        },
        "id": "NcnXLDnG7REi",
        "outputId": "9b59a763-bd8a-4ecb-d9eb-3562dd1a3718"
      },
      "outputs": [
        {
          "data": {
            "text/plain": [
              "'Olá Mundo'"
            ]
          },
          "execution_count": 318,
          "metadata": {},
          "output_type": "execute_result"
        }
      ],
      "source": [
        "s.strip()"
      ]
    },
    {
      "cell_type": "markdown",
      "metadata": {
        "id": "pkzSkaXLEsSp"
      },
      "source": [
        "---"
      ]
    },
    {
      "cell_type": "markdown",
      "metadata": {
        "id": "i1Hc8J05EsSp"
      },
      "source": [
        "**Exercício 10**"
      ]
    },
    {
      "cell_type": "markdown",
      "metadata": {
        "id": "NfPYwsY9EsSp"
      },
      "source": [
        "Vamos criar um programa que reproduza a Cifra de Cesar.\n",
        "\n",
        "Este era um método utilizado pelos Romanos de criptografia de mensagens, na qual se codificava o valor de cada letra do alfabeto a um número e então, por meio de uma chave numérica, se deslocava as letras de acordo com o valor dessa chave.\n",
        "\n",
        "Por exemplo se codificassemos a = 1, b = 2, c = 3, ... a letra \"a\" codificada com chave 3, se tornaria \"d\", porque a=1 e d=4 (4 = 1 + 3).\n",
        "\n",
        "Escreva um programa que permita criptografar e descriptografar uma mensagem.\n",
        "\n",
        "Primeiro peça para o usuário informar se ele deseja criptografar ou descriptografar uma mensagem. Depois peça o valor da chave, obrigando-o a informar um valor entre 1 e 26. Em seguida, peça uma mensagem a ser traduzida e converta-a para minúsculo, também remova caracteres com acento ou \"ç\" da string. Por fim aplique o método da cifra para traduzir a mensagem.\n",
        "\n",
        "DICA: Pode ser útil olhar para as funções ord e chr."
      ]
    },
    {
      "cell_type": "code",
      "execution_count": null,
      "metadata": {
        "id": "CAmWjataEsSq",
        "solution2": "hidden",
        "solution2_first": true
      },
      "outputs": [],
      "source": []
    },
    {
      "cell_type": "code",
      "execution_count": null,
      "metadata": {
        "ExecuteTime": {
          "end_time": "2021-09-07T13:47:54.595733Z",
          "start_time": "2021-09-07T13:47:49.109223Z"
        },
        "cellView": "form",
        "id": "07X9rHcAEsSq",
        "solution2": "hidden"
      },
      "outputs": [],
      "source": [
        "#@title Resposta\n",
        "TAM_MAX_CH = 26\n",
        "\n",
        "# primeiro nós pegamos o modo a ser aplicado na string\n",
        "while True:\n",
        "    modo = input(\"Você deseja criptografar ou decriptografar? \").lower()\n",
        "    if modo in [\"criptografar\", \"c\", \"decriptografar\",  \"d\"]:\n",
        "        break\n",
        "    else:\n",
        "        print(\"Entre 'criptografar' ou 'c' ou 'decriptografar' ou 'd'.\")\n",
        "\n",
        "# depois pedimos a mensagem a ser processada\n",
        "mensagem = input(\"Entre sua mensagem: \").lower()\n",
        "\n",
        "# garante que a mensagem não tenha caractéres com acento ou ç\n",
        "orig = \"áàãâéèêíìîóòõôúùûç\"\n",
        "sub = \"aaaaeeeiiioooouuuc\"\n",
        "repl = dict(zip(orig, sub))\n",
        "for o, r in repl.items():\n",
        "    mensagem = mensagem.replace(o, r)\n",
        "\n",
        "# pedimos então a chave da criptografia\n",
        "chave = 0\n",
        "while True:\n",
        "    chave = int(input(f\"Entre o número da chave (1-{TAM_MAX_CH}): \"))\n",
        "    if 1 <= chave <= TAM_MAX_CH:\n",
        "        break\n",
        "    else:\n",
        "        print(f\"A chave deve estar entre 1 e {TAM_MAX_CH}\")\n",
        "\n",
        "# Nós então traduzimos a mensagem\n",
        "if modo[0] == \"d\":\n",
        "    chave *= -1\n",
        "\n",
        "traduzido = \"\"\n",
        "\n",
        "# para cada caracter na mensagem\n",
        "for simbolo in mensagem:\n",
        "    # nós verificamos se o caracter é alpha numérico\n",
        "    if simbolo.isalpha():\n",
        "        # se for nós pegamos a ordem do simbolo\n",
        "        num = ord(simbolo)\n",
        "\n",
        "        # então nós adicionamos o valor da chave a ordem\n",
        "        num += chave\n",
        "\n",
        "        # nós então garantimos que o simbolo não ultrapasse os\n",
        "        # valores de ordem entre A e Z\n",
        "        if num > ord(\"z\"):\n",
        "            num -= 26\n",
        "        elif num < ord(\"a\"):\n",
        "            num += 26\n",
        "\n",
        "        # convertemos o simbolo para um caracter e adicionamos\n",
        "        # a mensagem\n",
        "        traduzido += chr(num)\n",
        "    else:\n",
        "        traduzido += simbolo\n",
        "\n",
        "# imprime a mensagem traduzida\n",
        "print(traduzido)"
      ]
    },
    {
      "cell_type": "markdown",
      "metadata": {
        "id": "JcMSzxQ6EsSq"
      },
      "source": [
        "---"
      ]
    },
    {
      "cell_type": "markdown",
      "metadata": {
        "id": "oSBxuuesEsSq"
      },
      "source": [
        "## Módulos"
      ]
    },
    {
      "cell_type": "markdown",
      "metadata": {
        "id": "jRLk5DPBEsSq"
      },
      "source": [
        "Uma das maiores vantagens do python é sua modularidade e comunidade. Porque Python é uma linguagem aberta, há muitas pessoas que desenvolvem para a mesma, e muitas vezes sua vida fica muito mais fácil utilizando esse código pré escrito do que o reescrevendo."
      ]
    },
    {
      "cell_type": "markdown",
      "metadata": {
        "ExecuteTime": {
          "end_time": "2021-09-06T22:00:08.920354Z",
          "start_time": "2021-09-06T22:00:08.916365Z"
        },
        "id": "IHBirLgNEsSq"
      },
      "source": [
        "Essas bibliotecas são chamadas de módulo e podem ser importandas utilizando a sintexe do import"
      ]
    },
    {
      "cell_type": "code",
      "execution_count": null,
      "metadata": {
        "ExecuteTime": {
          "end_time": "2022-01-16T21:42:38.535451Z",
          "start_time": "2022-01-16T21:42:38.532187Z"
        },
        "id": "ZudItl8UEsSq"
      },
      "outputs": [],
      "source": [
        "import math"
      ]
    },
    {
      "cell_type": "markdown",
      "metadata": {
        "id": "a53ksJHkEsSq"
      },
      "source": [
        "Ao fazer isso podemos acessar as múltiplas funcionalidades daquele módulo utilizando a sintaxe do ponto"
      ]
    },
    {
      "cell_type": "code",
      "execution_count": null,
      "metadata": {
        "ExecuteTime": {
          "end_time": "2022-01-16T21:43:07.575705Z",
          "start_time": "2022-01-16T21:43:07.570732Z"
        },
        "id": "NsTJ6pyA7REo",
        "outputId": "094c5731-f160-45c8-e8ed-1740baf4bc2f"
      },
      "outputs": [
        {
          "data": {
            "text/plain": [
              "2.0"
            ]
          },
          "execution_count": 326,
          "metadata": {},
          "output_type": "execute_result"
        }
      ],
      "source": [
        "math.sqrt(4)"
      ]
    },
    {
      "cell_type": "code",
      "execution_count": null,
      "metadata": {
        "ExecuteTime": {
          "end_time": "2022-01-16T21:43:01.177390Z",
          "start_time": "2022-01-16T21:43:01.172472Z"
        },
        "id": "NEBpfpgXEsSq",
        "outputId": "f3f81acf-c041-4706-d694-6d5dc1a36c84"
      },
      "outputs": [
        {
          "data": {
            "text/plain": [
              "2.718281828459045"
            ]
          },
          "execution_count": 325,
          "metadata": {},
          "output_type": "execute_result"
        }
      ],
      "source": [
        "math.e"
      ]
    },
    {
      "cell_type": "markdown",
      "metadata": {
        "id": "rhBF3oCGEsSq"
      },
      "source": [
        "Além disso, podemos importar funções específicas de cada módulo utilizando a sintaxe do from"
      ]
    },
    {
      "cell_type": "code",
      "execution_count": null,
      "metadata": {
        "ExecuteTime": {
          "end_time": "2022-01-16T21:43:34.855996Z",
          "start_time": "2022-01-16T21:43:34.851034Z"
        },
        "id": "NTWsmzthEsSq",
        "outputId": "8ee05807-e6b9-40bf-cff8-3482dbf5b4ae"
      },
      "outputs": [
        {
          "data": {
            "text/plain": [
              "2.0"
            ]
          },
          "execution_count": 327,
          "metadata": {},
          "output_type": "execute_result"
        }
      ],
      "source": [
        "from math import sqrt\n",
        "sqrt(4)"
      ]
    },
    {
      "cell_type": "code",
      "execution_count": null,
      "metadata": {
        "ExecuteTime": {
          "end_time": "2022-01-16T21:43:58.664896Z",
          "start_time": "2022-01-16T21:43:58.660001Z"
        },
        "id": "0KLT7NVY7REr",
        "outputId": "6a24caf5-361d-4c03-9d89-66c1e83050ab"
      },
      "outputs": [
        {
          "data": {
            "text/plain": [
              "3"
            ]
          },
          "execution_count": 328,
          "metadata": {},
          "output_type": "execute_result"
        }
      ],
      "source": [
        "from math import sqrt, ceil\n",
        "ceil(2.1)"
      ]
    },
    {
      "cell_type": "markdown",
      "metadata": {
        "id": "tgqoZ4arEsSq"
      },
      "source": [
        "Caso já tenhamos váriaveis ou funções com os nomes desses módulos podemos renomear-los usando a expressão \"as\""
      ]
    },
    {
      "cell_type": "code",
      "execution_count": null,
      "metadata": {
        "ExecuteTime": {
          "end_time": "2022-01-16T21:44:29.752682Z",
          "start_time": "2022-01-16T21:44:29.748759Z"
        },
        "id": "ILRrU0PvEsSq",
        "outputId": "0bcbc955-151d-449b-c763-36eae1720aca"
      },
      "outputs": [
        {
          "data": {
            "text/plain": [
              "2.0"
            ]
          },
          "execution_count": 329,
          "metadata": {},
          "output_type": "execute_result"
        }
      ],
      "source": [
        "from math import sqrt as raiz\n",
        "raiz(4)"
      ]
    },
    {
      "cell_type": "code",
      "execution_count": null,
      "metadata": {
        "ExecuteTime": {
          "end_time": "2022-01-16T21:44:45.752519Z",
          "start_time": "2022-01-16T21:44:45.747016Z"
        },
        "id": "0Teth-QN7REt",
        "outputId": "c1fe9da0-e5ee-4055-ae0a-6364452dd20e"
      },
      "outputs": [
        {
          "data": {
            "text/plain": [
              "3"
            ]
          },
          "execution_count": 330,
          "metadata": {},
          "output_type": "execute_result"
        }
      ],
      "source": [
        "import math as matematica\n",
        "matematica.ceil(2.1)"
      ]
    },
    {
      "cell_type": "markdown",
      "metadata": {
        "id": "sQdjy4r-EsSq"
      },
      "source": [
        "---"
      ]
    },
    {
      "cell_type": "markdown",
      "metadata": {
        "id": "YrmtNPevEsSr"
      },
      "source": [
        "**Exercício 11**\n",
        "\n",
        "Escreva um programa para simular o jogo das portas. Faça um programa que tenha\n",
        "a saída como a seguinte:\n",
        "\n",
        "> <p>Olá, bem-vindo ao nosso programa! Vamos ver se você vai ganhar um carro ou não!</p>\n",
        "> <p>Escolha uma porta: 3</p>\n",
        "> <p>Você escolheu a porta 3, mas</p>\n",
        "> <p>eu lhe informo que na porta 2 há um bode.</p>\n",
        "> <p>Deseja trocar de porta (1 - Sim/ 0 - Não): 1</p>\n",
        "> <p>Ganhou um carro!</p>\n",
        "\n",
        "Sortei de forma aleatória a porta com o carro. Utilize o módulo random (https://docs.python.org/3/library/random.html) para isso."
      ]
    },
    {
      "cell_type": "code",
      "execution_count": null,
      "metadata": {
        "id": "jAdlZr1EEsSr",
        "solution2": "hidden",
        "solution2_first": true
      },
      "outputs": [],
      "source": []
    },
    {
      "cell_type": "code",
      "execution_count": null,
      "metadata": {
        "ExecuteTime": {
          "end_time": "2021-09-06T15:30:13.321560Z",
          "start_time": "2021-09-06T15:30:06.961962Z"
        },
        "cellView": "form",
        "id": "reo6As6jEsSr",
        "solution2": "hidden"
      },
      "outputs": [],
      "source": [
        "#@title Resposta\n",
        "import random\n",
        "\n",
        "print(\"Olá, bem-vindo ao nosso programa! Vamos ver se você vai ganhar um carro ou não!\")\n",
        "\n",
        "porta = int(input(\"Escolha uma porta: \"))\n",
        "# premio = random.choice([1, 2, 3])\n",
        "# premio = random.randrange(1, 4)\n",
        "premio = random.randint(1, 3)\n",
        "\n",
        "if premio != 1 and porta != 1:\n",
        "    bode = 1\n",
        "elif premio != 2 and porta != 2:\n",
        "    bode = 2\n",
        "else:\n",
        "    bode = 3\n",
        "\n",
        "print(\"Você escolheu a porta %i, mas\" % porta)\n",
        "print(\"eu lhe informo que na porta %i há um bode.\" % bode)\n",
        "\n",
        "decisão = int(input(\"Deseja trocar de porta (1 - Sim/ 0 - Não): \"))\n",
        "\n",
        "if decisão == 1:\n",
        "    if porta != 1 and bode != 1:\n",
        "        porta = 1\n",
        "    elif porta != 2 and bode != 2:\n",
        "        porta = 2\n",
        "    else:\n",
        "        porta = 3\n",
        "\n",
        "if porta == premio:\n",
        "    print(\"Ganhou um carro!\")\n",
        "else:\n",
        "    print(\"Não ganhou um carro...\")"
      ]
    },
    {
      "cell_type": "markdown",
      "metadata": {
        "id": "oDh12TqQEsSr"
      },
      "source": [
        "---"
      ]
    },
    {
      "cell_type": "markdown",
      "metadata": {
        "id": "Len7iJQcEsSr"
      },
      "source": [
        "## Funções"
      ]
    },
    {
      "cell_type": "markdown",
      "metadata": {
        "id": "z6GrjuUEEsSr"
      },
      "source": [
        "### Definição"
      ]
    },
    {
      "cell_type": "markdown",
      "metadata": {
        "id": "tCmGhBjHEsSr"
      },
      "source": [
        "A palavra reservada def inicia a definição de uma função. Ela deve ser seguida do nome da função e da lista de parâmetros formais entre parênteses. Os comandos que formam o corpo da função começam na linha seguinte e devem ser indentados."
      ]
    },
    {
      "cell_type": "markdown",
      "metadata": {
        "id": "wsRXV49fEsSr"
      },
      "source": [
        "<img src=\"https://bham-carpentries.github.io/2018-12-17-bham_python-novice-inflammation/fig/python-function.svg\" />"
      ]
    },
    {
      "cell_type": "code",
      "execution_count": null,
      "metadata": {
        "ExecuteTime": {
          "end_time": "2022-01-16T21:58:04.407486Z",
          "start_time": "2022-01-16T21:58:04.403020Z"
        },
        "id": "N89d0gy0EsSr"
      },
      "outputs": [],
      "source": [
        "def ola_mundo(nome):\n",
        "    texto_de_ola = f\"Olá {nome}! Prazer em te conhecer\"\n",
        "    print(texto_de_ola)"
      ]
    },
    {
      "cell_type": "code",
      "execution_count": null,
      "metadata": {
        "ExecuteTime": {
          "end_time": "2022-01-16T21:58:10.298106Z",
          "start_time": "2022-01-16T21:58:10.293130Z"
        },
        "id": "sfjUu3aX7REx",
        "outputId": "e5df1112-79e0-4507-8e29-1d1a3a503e61"
      },
      "outputs": [
        {
          "name": "stdout",
          "output_type": "stream",
          "text": [
            "Olá Pedro! Prazer em te conhecer\n"
          ]
        }
      ],
      "source": [
        "ola_mundo(\"Pedro\")"
      ]
    },
    {
      "cell_type": "code",
      "execution_count": null,
      "metadata": {
        "ExecuteTime": {
          "end_time": "2022-01-16T21:58:15.943053Z",
          "start_time": "2022-01-16T21:58:15.939045Z"
        },
        "id": "VMPMGUsl7REy",
        "outputId": "c4689c04-4bf9-45cb-cda2-67dc332fe363"
      },
      "outputs": [
        {
          "name": "stdout",
          "output_type": "stream",
          "text": [
            "Olá Mateus! Prazer em te conhecer\n"
          ]
        }
      ],
      "source": [
        "ola_mundo(\"Mateus\")"
      ]
    },
    {
      "cell_type": "markdown",
      "metadata": {
        "id": "AG0aEA-JEsSr"
      },
      "source": [
        "### Variáveis de Função"
      ]
    },
    {
      "cell_type": "markdown",
      "metadata": {
        "id": "oywluPlGEsSr"
      },
      "source": [
        "A execução de uma função cria uma nova tabela de símbolos para as variáveis locais da função. Mais precisamente, todas as atribuições de variáveis numa função são armazenadas na tabela de símbolos local; referências a variáveis são buscadas primeiro na tabela de símbolos local, em seguida na tabela de símbolos locais de funções delimitadoras ou circundantes, depois na tabela de símbolos global e, finalmente, na tabela de nomes da própria linguagem."
      ]
    },
    {
      "cell_type": "code",
      "execution_count": null,
      "metadata": {
        "ExecuteTime": {
          "end_time": "2022-01-16T21:59:03.143214Z",
          "start_time": "2022-01-16T21:59:03.139336Z"
        },
        "id": "GnWjmyoxEsSr",
        "outputId": "fa17004d-6f45-4397-af76-70808454e6cd"
      },
      "outputs": [
        {
          "name": "stdout",
          "output_type": "stream",
          "text": [
            "Olá Pedro! Prazer em te conhecer\n"
          ]
        }
      ],
      "source": [
        "ola_mundo(\"Pedro\")"
      ]
    },
    {
      "cell_type": "code",
      "execution_count": null,
      "metadata": {
        "ExecuteTime": {
          "end_time": "2022-01-16T21:59:18.657876Z",
          "start_time": "2022-01-16T21:59:18.644140Z"
        },
        "id": "gEoPRM_K7RE0",
        "outputId": "a9d532a0-e062-4349-8207-f82baeb06446"
      },
      "outputs": [
        {
          "ename": "NameError",
          "evalue": "name 'texto_de_ola' is not defined",
          "output_type": "error",
          "traceback": [
            "\u001b[1;31m---------------------------------------------------------------------------\u001b[0m",
            "\u001b[1;31mNameError\u001b[0m                                 Traceback (most recent call last)",
            "Input \u001b[1;32mIn [335]\u001b[0m, in \u001b[0;36m<module>\u001b[1;34m\u001b[0m\n\u001b[1;32m----> 1\u001b[0m \u001b[43mtexto_de_ola\u001b[49m\n",
            "\u001b[1;31mNameError\u001b[0m: name 'texto_de_ola' is not defined"
          ]
        }
      ],
      "source": [
        "texto_de_ola"
      ]
    },
    {
      "cell_type": "code",
      "execution_count": null,
      "metadata": {
        "ExecuteTime": {
          "end_time": "2022-01-16T22:00:08.503256Z",
          "start_time": "2022-01-16T22:00:08.498383Z"
        },
        "id": "rJdKYWlx7RE1",
        "outputId": "46651e5b-44be-42b9-d17b-de1645b8c911"
      },
      "outputs": [
        {
          "name": "stdout",
          "output_type": "stream",
          "text": [
            "Olá Pedro! Prazer em te conhecer\n"
          ]
        }
      ],
      "source": [
        "texto_de_ola = \"Olá Fulano! Prazer em te conhecer\"\n",
        "ola_mundo(\"Pedro\")"
      ]
    },
    {
      "cell_type": "code",
      "execution_count": null,
      "metadata": {
        "ExecuteTime": {
          "end_time": "2022-01-16T22:00:30.327146Z",
          "start_time": "2022-01-16T22:00:30.322326Z"
        },
        "id": "HyLJg0Lv7RE1",
        "outputId": "67d58f2c-4805-4bbd-fabb-b3e1075412af"
      },
      "outputs": [
        {
          "data": {
            "text/plain": [
              "'Olá Fulano! Prazer em te conhecer'"
            ]
          },
          "execution_count": 337,
          "metadata": {},
          "output_type": "execute_result"
        }
      ],
      "source": [
        "texto_de_ola"
      ]
    },
    {
      "cell_type": "code",
      "execution_count": null,
      "metadata": {
        "ExecuteTime": {
          "end_time": "2022-01-16T22:01:27.751341Z",
          "start_time": "2022-01-16T22:01:27.747383Z"
        },
        "id": "Jg3IraZO7RE2"
      },
      "outputs": [],
      "source": [
        "def ola_mundo(nome):\n",
        "    global texto_de_ola\n",
        "    print(texto_de_ola)\n",
        "\n",
        "    texto_de_ola = f\"Olá {nome}! Prazer em te conhecer\"\n",
        "    print(texto_de_ola)"
      ]
    },
    {
      "cell_type": "code",
      "execution_count": null,
      "metadata": {
        "ExecuteTime": {
          "end_time": "2022-01-16T22:01:31.863039Z",
          "start_time": "2022-01-16T22:01:31.859089Z"
        },
        "id": "rOlyE1Hx7RE2",
        "outputId": "fab3f447-08f1-4876-8ea7-8b4a47085edd"
      },
      "outputs": [
        {
          "name": "stdout",
          "output_type": "stream",
          "text": [
            "Olá Fulano! Prazer em te conhecer\n",
            "Olá Pedro! Prazer em te conhecer\n"
          ]
        }
      ],
      "source": [
        "ola_mundo(\"Pedro\")"
      ]
    },
    {
      "cell_type": "code",
      "execution_count": null,
      "metadata": {
        "ExecuteTime": {
          "end_time": "2022-01-16T22:01:39.783632Z",
          "start_time": "2022-01-16T22:01:39.778700Z"
        },
        "id": "fIueZKtv7RE3",
        "outputId": "4907dc23-dc6d-4a1d-f3a1-13b716876820"
      },
      "outputs": [
        {
          "data": {
            "text/plain": [
              "'Olá Pedro! Prazer em te conhecer'"
            ]
          },
          "execution_count": 340,
          "metadata": {},
          "output_type": "execute_result"
        }
      ],
      "source": [
        "texto_de_ola"
      ]
    },
    {
      "cell_type": "markdown",
      "metadata": {
        "id": "k3nBb8UsEsSs"
      },
      "source": [
        "### Argumentos"
      ]
    },
    {
      "cell_type": "markdown",
      "metadata": {
        "id": "TMt-BD9zEsSs"
      },
      "source": [
        "É possível definir funções com um número variável de argumentos. Existem três formas, que podem ser combinadas."
      ]
    },
    {
      "cell_type": "markdown",
      "metadata": {
        "id": "FUBj8IUKEsSs"
      },
      "source": [
        "**Argumentos com valor padrão**: A mais útil das três é especificar um valor padrão para um ou mais argumentos. Isso cria uma função que pode ser invocada com menos argumentos do que os que foram definidos. Por exemplo:"
      ]
    },
    {
      "cell_type": "code",
      "execution_count": null,
      "metadata": {
        "ExecuteTime": {
          "end_time": "2022-01-16T22:03:56.299426Z",
          "start_time": "2022-01-16T22:03:56.293519Z"
        },
        "id": "9fyNJuCxEsSs",
        "outputId": "8cc34687-a872-44ba-a894-774cd7d06dac"
      },
      "outputs": [
        {
          "name": "stdout",
          "output_type": "stream",
          "text": [
            "Olá Pedro Forli! Prazer em te conhecer\n",
            "Olá Mateus Forli! Prazer em te conhecer\n",
            "Olá Cristiano Ronaldo! Prazer em te conhecer\n",
            "Olá Mathias Viña! Prazer em te conhecer\n"
          ]
        }
      ],
      "source": [
        "def ola_mundo(nome, sobn=\"Forli\"):\n",
        "    texto_de_ola = f\"Olá {nome} {sobn}! Prazer em te conhecer\"\n",
        "    print(texto_de_ola)\n",
        "\n",
        "ola_mundo(\"Pedro\")\n",
        "ola_mundo(\"Mateus\")\n",
        "ola_mundo(\"Cristiano\", \"Ronaldo\")\n",
        "ola_mundo(\"Mathias\", sobn=\"Viña\")"
      ]
    },
    {
      "cell_type": "markdown",
      "metadata": {
        "id": "ltIFJZl5EsSs"
      },
      "source": [
        "Aviso importante: Valores padrões são avaliados apenas uma vez. Isso faz diferença quando o valor é um objeto mutável, como uma lista, dicionário, ou instâncias de classes. Por exemplo, a função a seguir acumula os argumentos passados, nas chamadas subsequentes:"
      ]
    },
    {
      "cell_type": "code",
      "execution_count": null,
      "metadata": {
        "ExecuteTime": {
          "end_time": "2022-01-16T22:05:25.719448Z",
          "start_time": "2022-01-16T22:05:25.715573Z"
        },
        "id": "kUk7O4eMEsSs",
        "outputId": "169280ea-baa8-4a98-a2c2-2b7ce5793d47"
      },
      "outputs": [
        {
          "name": "stdout",
          "output_type": "stream",
          "text": [
            "[1, 2, 3, 4]\n",
            "[1, 2, 3, 4, 5]\n"
          ]
        }
      ],
      "source": [
        "lista = [1, 2, 3, 4]\n",
        "def altera_lista(lista):\n",
        "    lista.append(5)\n",
        "print(lista)\n",
        "altera_lista(lista)\n",
        "print(lista)"
      ]
    },
    {
      "cell_type": "markdown",
      "metadata": {
        "id": "VAs9UGvREsSs"
      },
      "source": [
        "**Argumentos nomeados**: Funções também podem ser chamadas usando argumentos nomeados da forma chave=valor. Por exemplo, a função a seguir:"
      ]
    },
    {
      "cell_type": "code",
      "execution_count": null,
      "metadata": {
        "ExecuteTime": {
          "end_time": "2022-01-16T22:09:19.419009Z",
          "start_time": "2022-01-16T22:09:19.412263Z"
        },
        "id": "YzsEireuEsSs",
        "outputId": "bc5722bb-70f3-4e93-89b4-f2327d214473"
      },
      "outputs": [
        {
          "name": "stdout",
          "output_type": "stream",
          "text": [
            "Papai noel voou a 1000 km/h para me dar um chocalho de cor azul\n",
            "Papai noel correu a 1000 km/h para me dar um uno de cor azul\n",
            "Papai noel voou a 1000 km/h para me dar um chocalho de cor azul\n",
            "Papai noel correu a 1000 km/h para me dar um chocalho de cor azul\n",
            "Papai noel correu a 1000 km/h para me dar um chocalho de cor azul\n",
            "Papai noel voou a 1000 km/h para me dar um chocalho de cor vermelha\n"
          ]
        }
      ],
      "source": [
        "def papai_noel(vel, acao=\"voou\", presente=\"chocalho\", cor=\"azul\"):\n",
        "    print(\n",
        "        f\"Papai noel {acao}\"\n",
        "        f\" a {vel} km/h\"\n",
        "        f\" para me dar um {presente}\"\n",
        "        f\" de cor {cor}\"\n",
        "    )\n",
        "\n",
        "papai_noel(1000)\n",
        "papai_noel(1000, \"correu\", \"uno\")\n",
        "papai_noel(vel=1000)\n",
        "papai_noel(vel=1000, acao=\"correu\")\n",
        "papai_noel(acao=\"correu\", vel=1000)\n",
        "papai_noel(1000, cor=\"vermelha\")"
      ]
    },
    {
      "cell_type": "code",
      "execution_count": null,
      "metadata": {
        "ExecuteTime": {
          "end_time": "2022-01-16T22:09:54.961693Z",
          "start_time": "2022-01-16T22:09:54.946934Z"
        },
        "id": "BUsEIMc27RE8",
        "outputId": "f7ee42f3-9d4d-4659-ae2d-2cac42fb0fa3"
      },
      "outputs": [
        {
          "ename": "TypeError",
          "evalue": "papai_noel() missing 1 required positional argument: 'vel'",
          "output_type": "error",
          "traceback": [
            "\u001b[1;31m---------------------------------------------------------------------------\u001b[0m",
            "\u001b[1;31mTypeError\u001b[0m                                 Traceback (most recent call last)",
            "Input \u001b[1;32mIn [353]\u001b[0m, in \u001b[0;36m<module>\u001b[1;34m\u001b[0m\n\u001b[1;32m----> 1\u001b[0m \u001b[43mpapai_noel\u001b[49m\u001b[43m(\u001b[49m\u001b[43m)\u001b[49m\n",
            "\u001b[1;31mTypeError\u001b[0m: papai_noel() missing 1 required positional argument: 'vel'"
          ]
        }
      ],
      "source": [
        "papai_noel()"
      ]
    },
    {
      "cell_type": "code",
      "execution_count": null,
      "metadata": {
        "ExecuteTime": {
          "end_time": "2022-01-16T22:10:19.800977Z",
          "start_time": "2022-01-16T22:10:19.796985Z"
        },
        "id": "0FhOCiM47RE9",
        "outputId": "d638e4fb-ef6a-4934-82f3-b12c09180cdd"
      },
      "outputs": [
        {
          "ename": "SyntaxError",
          "evalue": "positional argument follows keyword argument (4122966104.py, line 1)",
          "output_type": "error",
          "traceback": [
            "\u001b[1;36m  Input \u001b[1;32mIn [354]\u001b[1;36m\u001b[0m\n\u001b[1;33m    papai_noel(vel=5, \"correu\")\u001b[0m\n\u001b[1;37m                      ^\u001b[0m\n\u001b[1;31mSyntaxError\u001b[0m\u001b[1;31m:\u001b[0m positional argument follows keyword argument\n"
          ]
        }
      ],
      "source": [
        "papai_noel(vel=5, \"correu\")"
      ]
    },
    {
      "cell_type": "code",
      "execution_count": null,
      "metadata": {
        "ExecuteTime": {
          "end_time": "2022-01-16T22:10:43.714230Z",
          "start_time": "2022-01-16T22:10:43.700048Z"
        },
        "id": "U8k4o3GX7RE9",
        "outputId": "b181f624-efab-4268-9707-fd4066a708a6"
      },
      "outputs": [
        {
          "ename": "TypeError",
          "evalue": "papai_noel() got multiple values for argument 'vel'",
          "output_type": "error",
          "traceback": [
            "\u001b[1;31m---------------------------------------------------------------------------\u001b[0m",
            "\u001b[1;31mTypeError\u001b[0m                                 Traceback (most recent call last)",
            "Input \u001b[1;32mIn [355]\u001b[0m, in \u001b[0;36m<module>\u001b[1;34m\u001b[0m\n\u001b[1;32m----> 1\u001b[0m \u001b[43mpapai_noel\u001b[49m\u001b[43m(\u001b[49m\u001b[38;5;124;43m\"\u001b[39;49m\u001b[38;5;124;43mcorreu\u001b[39;49m\u001b[38;5;124;43m\"\u001b[39;49m\u001b[43m,\u001b[49m\u001b[43m \u001b[49m\u001b[43mvel\u001b[49m\u001b[38;5;241;43m=\u001b[39;49m\u001b[38;5;241;43m5\u001b[39;49m\u001b[43m)\u001b[49m\n",
            "\u001b[1;31mTypeError\u001b[0m: papai_noel() got multiple values for argument 'vel'"
          ]
        }
      ],
      "source": [
        "papai_noel(\"correu\", vel=5)"
      ]
    },
    {
      "cell_type": "code",
      "execution_count": null,
      "metadata": {
        "ExecuteTime": {
          "end_time": "2022-01-16T22:11:06.325248Z",
          "start_time": "2022-01-16T22:11:06.307979Z"
        },
        "id": "_j71b2nS7RE-",
        "outputId": "c213b6cf-1fe1-4d96-ede6-cadf51cc5033"
      },
      "outputs": [
        {
          "ename": "TypeError",
          "evalue": "papai_noel() got an unexpected keyword argument 'comida'",
          "output_type": "error",
          "traceback": [
            "\u001b[1;31m---------------------------------------------------------------------------\u001b[0m",
            "\u001b[1;31mTypeError\u001b[0m                                 Traceback (most recent call last)",
            "Input \u001b[1;32mIn [356]\u001b[0m, in \u001b[0;36m<module>\u001b[1;34m\u001b[0m\n\u001b[1;32m----> 1\u001b[0m \u001b[43mpapai_noel\u001b[49m\u001b[43m(\u001b[49m\u001b[43mvel\u001b[49m\u001b[38;5;241;43m=\u001b[39;49m\u001b[38;5;241;43m5\u001b[39;49m\u001b[43m,\u001b[49m\u001b[43m \u001b[49m\u001b[43mcomida\u001b[49m\u001b[38;5;241;43m=\u001b[39;49m\u001b[38;5;124;43m\"\u001b[39;49m\u001b[38;5;124;43mbiscoito\u001b[39;49m\u001b[38;5;124;43m\"\u001b[39;49m\u001b[43m)\u001b[49m\n",
            "\u001b[1;31mTypeError\u001b[0m: papai_noel() got an unexpected keyword argument 'comida'"
          ]
        }
      ],
      "source": [
        "papai_noel(vel=5, comida=\"biscoito\")"
      ]
    },
    {
      "cell_type": "markdown",
      "metadata": {
        "id": "A4KE1Bf4EsSs"
      },
      "source": [
        "Em uma chamada de função, argumentos nomeados devem vir depois dos argumentos posicionais. Todos os argumentos nomeados passados devem corresponder com argumentos aceitos pela função (ex. comida não é um argumento nomeado válido para a função papai_noel), mas sua ordem é irrelevante. Isto também inclui argumentos obrigatórios (ex.: papai_noel(vel=1000) funciona). Nenhum argumento pode receber mais de um valor. Eis um exemplo que não funciona devido a esta restrição:"
      ]
    },
    {
      "cell_type": "code",
      "execution_count": null,
      "metadata": {
        "ExecuteTime": {
          "end_time": "2022-01-16T22:36:24.013274Z",
          "start_time": "2022-01-16T22:36:23.986196Z"
        },
        "id": "uC0alrGCEsSs",
        "outputId": "62d49396-294a-42a9-c464-e74fdf216f2e"
      },
      "outputs": [
        {
          "ename": "TypeError",
          "evalue": "function() got multiple values for argument 'a'",
          "output_type": "error",
          "traceback": [
            "\u001b[1;31m---------------------------------------------------------------------------\u001b[0m",
            "\u001b[1;31mTypeError\u001b[0m                                 Traceback (most recent call last)",
            "Input \u001b[1;32mIn [357]\u001b[0m, in \u001b[0;36m<module>\u001b[1;34m\u001b[0m\n\u001b[0;32m      1\u001b[0m \u001b[38;5;28;01mdef\u001b[39;00m \u001b[38;5;21mfunction\u001b[39m(a):\n\u001b[0;32m      2\u001b[0m     \u001b[38;5;28;01mpass\u001b[39;00m\n\u001b[1;32m----> 4\u001b[0m \u001b[43mfunction\u001b[49m\u001b[43m(\u001b[49m\u001b[38;5;241;43m0\u001b[39;49m\u001b[43m,\u001b[49m\u001b[43m \u001b[49m\u001b[43ma\u001b[49m\u001b[38;5;241;43m=\u001b[39;49m\u001b[38;5;241;43m0\u001b[39;49m\u001b[43m)\u001b[49m\n",
            "\u001b[1;31mTypeError\u001b[0m: function() got multiple values for argument 'a'"
          ]
        }
      ],
      "source": [
        "def function(a):\n",
        "    pass\n",
        "\n",
        "function(0, a=0)"
      ]
    },
    {
      "cell_type": "markdown",
      "metadata": {
        "id": "IobA5gRFEsSs"
      },
      "source": [
        "Quando um último parâmetro formal no formato \\*\\*nome está presente, ele recebe um dicionário (veja Tipo mapeamento — dict) contendo todos os argumentos nomeados, exceto aqueles que correspondem a um parâmetro formal. Isto pode ser combinado com um parâmetro formal no formato \\*nome (descrito na próxima subseção) que recebe uma tupla contendo os argumentos posicionais, além da lista de parâmetros formais. (\\*nome deve ocorrer antes de \\*\\*nome.) Por exemplo, se definirmos uma função assim:"
      ]
    },
    {
      "cell_type": "code",
      "execution_count": null,
      "metadata": {
        "ExecuteTime": {
          "end_time": "2022-01-16T22:41:03.151744Z",
          "start_time": "2022-01-16T22:41:03.143748Z"
        },
        "id": "bJ_OvvooEsSs",
        "outputId": "d279f0f6-2ff0-425c-8baf-71311e687b82"
      },
      "outputs": [
        {
          "name": "stdout",
          "output_type": "stream",
          "text": [
            "Você tem do tipo Prato ?\n",
            "Foi mal, mas acabou todo queijo Prato\n",
            "É bem procurado este queijo.\n",
            "A galera come pra caramba, mas você pode ver com:\n",
            "----------------------------------------\n",
            "loja : Alegria do Queijo\n",
            "dono : Fernando Cabra\n",
            "rua : Cheddar com Faria Lima\n"
          ]
        }
      ],
      "source": [
        "def loja_de_queijo(tipo, *args, **kwargs):\n",
        "    print(\"Você tem do tipo\", tipo, \"?\")\n",
        "    print(\"Foi mal, mas acabou todo queijo\", tipo)\n",
        "\n",
        "    for arg in args:\n",
        "        print(arg)\n",
        "    print(\"-\" * 40)\n",
        "\n",
        "    for kw in kwargs:\n",
        "        print(kw, \":\", kwargs[kw])\n",
        "\n",
        "loja_de_queijo(\n",
        "    \"Prato\",\n",
        "    \"É bem procurado este queijo.\",\n",
        "    \"A galera come pra caramba, mas você pode ver com:\",\n",
        "    loja=\"Alegria do Queijo\",\n",
        "    dono=\"Fernando Cabra\",\n",
        "    rua=\"Cheddar com Faria Lima\"\n",
        ")"
      ]
    },
    {
      "cell_type": "code",
      "execution_count": null,
      "metadata": {
        "ExecuteTime": {
          "end_time": "2022-01-16T22:41:53.231340Z",
          "start_time": "2022-01-16T22:41:53.221985Z"
        },
        "id": "66rj73YU7RFB",
        "outputId": "0bff02a7-39a4-40f5-f6df-4bcfe40cc8b4"
      },
      "outputs": [
        {
          "name": "stdout",
          "output_type": "stream",
          "text": [
            "Você tem do tipo Parto ?\n",
            "Foi mal, mas acabou todo queijo Parto\n",
            "1\n",
            "2\n",
            "3\n",
            "4\n",
            "5\n",
            "----------------------------------------\n",
            "nome : Mateus\n",
            "sobrenome : Forli\n"
          ]
        }
      ],
      "source": [
        "loja_de_queijo(\"Prato\", *lista, **dicionario)"
      ]
    },
    {
      "cell_type": "markdown",
      "metadata": {
        "id": "boN8xzvtEsSt"
      },
      "source": [
        "**Parâmetros especiais**: Por padrão, argumentos podem ser passadas para uma função Python tanto por posição quanto explicitamente pelo nome. Para uma melhor legibilidade e desempenho, faz sentido restringir a maneira pelo qual argumentos possam ser passados, assim um desenvolvedor precisa apenas olhar para a definição da função para determinar se os itens são passados por posição, por posição e nome, ou por nome.\n",
        "\n",
        "A definição de uma função pode parecer com:"
      ]
    },
    {
      "cell_type": "raw",
      "metadata": {
        "id": "ZG37EnDqEsSt"
      },
      "source": [
        "def f(pos1, pos2, /, pos_or_kwd, *, kwd1, kwd2):\n",
        "      -----------    ----------     ----------\n",
        "        |             |                  |\n",
        "        |        Positional or keyword   |\n",
        "        |                                - Keyword only\n",
        "         -- Positional only"
      ]
    },
    {
      "cell_type": "markdown",
      "metadata": {
        "id": "-MC8Lp2qEsSt"
      },
      "source": [
        "*Argumentos posicional-ou-nomeados*: Se / e * não estão presentes na definição da função, argumentos podem ser passados para uma função por posição ou por nome.\n",
        "\n",
        "*Parâmetros somente-posicionais*: Olhando com um pouco mais de detalhes, é possível definir certos parâmetros como somente-posicional. Se somente-posicional, a ordem do parâmetro importa, e os parâmetros não podem ser passados por nome. Parâmetros somente-posicional são colocados antes de / (barra). A / é usada para logicamente separar os argumentos somente-posicional dos demais parâmetros. Se não existe uma / na definição da função, não existe parâmetros somente-posicionais.\n",
        "\n",
        "Parâmetros após a / podem ser posicional-ou-nomeado ou somente-nomeado.\n",
        "\n",
        "*Argumentos somente-nomeados*: Para definir parâmetros como somente-nomeado, indicando que o parâmetro deve ser passado por argumento nomeado, colocamos um * na lista de argumentos imediatamente antes do primeiro parâmetro somente-nomeado."
      ]
    },
    {
      "cell_type": "code",
      "execution_count": null,
      "metadata": {
        "ExecuteTime": {
          "end_time": "2022-01-16T22:46:24.749604Z",
          "start_time": "2022-01-16T22:46:24.742755Z"
        },
        "id": "D5qlT8ROEsSt"
      },
      "outputs": [],
      "source": [
        "def funcao_normal(arg):\n",
        "    print(arg)\n",
        "\n",
        "def somente_posicional(arg, /):\n",
        "    print(arg)\n",
        "\n",
        "def somente_chaveado(*, arg):\n",
        "    print(arg)\n",
        "\n",
        "def combinado(pos, /, normal, *, chave):\n",
        "    print(pos, normal, chave)"
      ]
    },
    {
      "cell_type": "code",
      "execution_count": null,
      "metadata": {
        "ExecuteTime": {
          "end_time": "2022-01-16T22:46:43.595751Z",
          "start_time": "2022-01-16T22:46:43.589819Z"
        },
        "id": "HR0v5Pfj7RFF",
        "outputId": "4424b64e-1bb9-42a8-c88d-ff8c7edaf3eb"
      },
      "outputs": [
        {
          "name": "stdout",
          "output_type": "stream",
          "text": [
            "1\n",
            "1\n"
          ]
        }
      ],
      "source": [
        "funcao_normal(1)\n",
        "funcao_normal(arg=1)"
      ]
    },
    {
      "cell_type": "code",
      "execution_count": null,
      "metadata": {
        "ExecuteTime": {
          "end_time": "2022-01-16T22:47:06.666486Z",
          "start_time": "2022-01-16T22:47:06.643004Z"
        },
        "id": "Q1HUlXeD7RFG",
        "outputId": "3f287c5f-7ebb-4250-8199-5f645f8588a5"
      },
      "outputs": [
        {
          "name": "stdout",
          "output_type": "stream",
          "text": [
            "1\n"
          ]
        },
        {
          "ename": "TypeError",
          "evalue": "somente_posicional() got some positional-only arguments passed as keyword arguments: 'arg'",
          "output_type": "error",
          "traceback": [
            "\u001b[1;31m---------------------------------------------------------------------------\u001b[0m",
            "\u001b[1;31mTypeError\u001b[0m                                 Traceback (most recent call last)",
            "Input \u001b[1;32mIn [368]\u001b[0m, in \u001b[0;36m<module>\u001b[1;34m\u001b[0m\n\u001b[0;32m      1\u001b[0m somente_posicional(\u001b[38;5;241m1\u001b[39m)\n\u001b[1;32m----> 2\u001b[0m \u001b[43msomente_posicional\u001b[49m\u001b[43m(\u001b[49m\u001b[43marg\u001b[49m\u001b[38;5;241;43m=\u001b[39;49m\u001b[38;5;241;43m1\u001b[39;49m\u001b[43m)\u001b[49m\n",
            "\u001b[1;31mTypeError\u001b[0m: somente_posicional() got some positional-only arguments passed as keyword arguments: 'arg'"
          ]
        }
      ],
      "source": [
        "somente_posicional(1)\n",
        "somente_posicional(arg=1)"
      ]
    },
    {
      "cell_type": "code",
      "execution_count": null,
      "metadata": {
        "ExecuteTime": {
          "end_time": "2022-01-16T22:47:35.448804Z",
          "start_time": "2022-01-16T22:47:35.428254Z"
        },
        "id": "X8ckIyIR7RFG",
        "outputId": "e8bcef12-9adf-4211-dca7-8f20d751adf0"
      },
      "outputs": [
        {
          "name": "stdout",
          "output_type": "stream",
          "text": [
            "1\n"
          ]
        },
        {
          "ename": "TypeError",
          "evalue": "somente_chaveado() takes 0 positional arguments but 1 was given",
          "output_type": "error",
          "traceback": [
            "\u001b[1;31m---------------------------------------------------------------------------\u001b[0m",
            "\u001b[1;31mTypeError\u001b[0m                                 Traceback (most recent call last)",
            "Input \u001b[1;32mIn [369]\u001b[0m, in \u001b[0;36m<module>\u001b[1;34m\u001b[0m\n\u001b[0;32m      1\u001b[0m somente_chaveado(arg\u001b[38;5;241m=\u001b[39m\u001b[38;5;241m1\u001b[39m)\n\u001b[1;32m----> 2\u001b[0m \u001b[43msomente_chaveado\u001b[49m\u001b[43m(\u001b[49m\u001b[38;5;241;43m1\u001b[39;49m\u001b[43m)\u001b[49m\n",
            "\u001b[1;31mTypeError\u001b[0m: somente_chaveado() takes 0 positional arguments but 1 was given"
          ]
        }
      ],
      "source": [
        "somente_chaveado(arg=1)\n",
        "somente_chaveado(1)"
      ]
    },
    {
      "cell_type": "code",
      "execution_count": null,
      "metadata": {
        "ExecuteTime": {
          "end_time": "2022-01-16T22:48:08.448941Z",
          "start_time": "2022-01-16T22:48:08.441046Z"
        },
        "id": "snYDdRX37RFH",
        "outputId": "9a23d51a-be71-4396-bae5-d6676534f877"
      },
      "outputs": [
        {
          "name": "stdout",
          "output_type": "stream",
          "text": [
            "1 3 chave\n"
          ]
        }
      ],
      "source": [
        "combinado(1, normal=3, chave=\"chave\")"
      ]
    },
    {
      "cell_type": "markdown",
      "metadata": {
        "id": "n5i8-4d8EsSt"
      },
      "source": [
        "### Retorno"
      ]
    },
    {
      "cell_type": "markdown",
      "metadata": {
        "id": "k8Pqhx_4EsSt"
      },
      "source": [
        "É fácil escrever uma função que retorna o texto ao invés de exibi-los:"
      ]
    },
    {
      "cell_type": "code",
      "execution_count": null,
      "metadata": {
        "ExecuteTime": {
          "end_time": "2022-01-16T22:49:24.607051Z",
          "start_time": "2022-01-16T22:49:24.598371Z"
        },
        "id": "fiokimK8EsSt",
        "outputId": "e71e88e1-78e1-454f-91bb-6afbbd43f583"
      },
      "outputs": [
        {
          "data": {
            "text/plain": [
              "'Olá Pedro! Prazer em te conhecer'"
            ]
          },
          "execution_count": 371,
          "metadata": {},
          "output_type": "execute_result"
        }
      ],
      "source": [
        "def ola_mundo(nome):\n",
        "    return f\"Olá {nome}! Prazer em te conhecer\"\n",
        "\n",
        "texto = ola_mundo(\"Pedro\")\n",
        "texto"
      ]
    },
    {
      "cell_type": "code",
      "execution_count": null,
      "metadata": {
        "ExecuteTime": {
          "end_time": "2022-01-16T22:50:02.281352Z",
          "start_time": "2022-01-16T22:50:02.274604Z"
        },
        "id": "FsQcLdyR7RFJ",
        "outputId": "43406ea4-06f6-492d-8ed7-e8a79a8e534b"
      },
      "outputs": [
        {
          "data": {
            "text/plain": [
              "False"
            ]
          },
          "execution_count": 374,
          "metadata": {},
          "output_type": "execute_result"
        }
      ],
      "source": [
        "1 == None"
      ]
    },
    {
      "cell_type": "markdown",
      "metadata": {
        "id": "gH9CczlDEsSt"
      },
      "source": [
        "A instrução return finaliza a execução e retorna um valor da função. return sem qualquer expressão como argumento retorna None. Atingir o final da função também retorna None."
      ]
    },
    {
      "cell_type": "markdown",
      "metadata": {
        "id": "mOFhfeyEEsSt"
      },
      "source": [
        "A instrução também pode retornar múltiplos valores ao invés de apenas um, gerando uma tupla como resultado"
      ]
    },
    {
      "cell_type": "code",
      "execution_count": null,
      "metadata": {
        "ExecuteTime": {
          "end_time": "2022-01-16T22:51:06.457593Z",
          "start_time": "2022-01-16T22:51:06.450248Z"
        },
        "id": "4eE5H2HjEsSt",
        "outputId": "a737df91-6be8-4b5e-d132-e6cf800e64fe"
      },
      "outputs": [
        {
          "name": "stdout",
          "output_type": "stream",
          "text": [
            "(15, -5, 50)\n",
            "(15, -5, 50)\n",
            "15 -5 50\n"
          ]
        }
      ],
      "source": [
        "def operacoes(a, b):\n",
        "    return a + b, a - b, a * b\n",
        "\n",
        "print(operacoes(5, 10))\n",
        "v = operacoes(5, 10)\n",
        "print(v)\n",
        "v1, v2, v3 = operacoes(5, 10)\n",
        "print(v1, v2, v3)"
      ]
    },
    {
      "cell_type": "markdown",
      "metadata": {
        "id": "7ctdKBUoEsSt"
      },
      "source": [
        "### Docstring"
      ]
    },
    {
      "cell_type": "markdown",
      "metadata": {
        "id": "ibUhkzMlEsSt"
      },
      "source": [
        "Opcionalmente, a primeira linha do corpo da função pode ser uma literal string, cujo propósito é documentar a função. Se presente, essa string chama-se docstring. (Há mais informação sobre docstrings na seção Strings de documentação.) Existem ferramentas que utilizam docstrings para produzir automaticamente documentação online ou para imprimir, ou ainda, permitir que o usuário navegue interativamente pelo código. É uma boa prática incluir sempre docstrings em suas funções, portanto, tente fazer disso um hábito."
      ]
    },
    {
      "cell_type": "code",
      "execution_count": null,
      "metadata": {
        "ExecuteTime": {
          "end_time": "2022-01-16T22:52:56.687150Z",
          "start_time": "2022-01-16T22:52:56.680215Z"
        },
        "id": "MnNZmM6eEsSt"
      },
      "outputs": [],
      "source": [
        "def ola_mundo(nome):\n",
        "    \"\"\"\n",
        "    Imprime uma mensagem de olá com o nome da pessoa\n",
        "\n",
        "    :param nome: nome da pessoa a ser impresso\n",
        "    \"\"\"\n",
        "    texto_de_ola = f\"Olá {nome}! Prazer em te conhecer\"\n",
        "    print(texto_de_ola)"
      ]
    },
    {
      "cell_type": "code",
      "execution_count": null,
      "metadata": {
        "id": "nAlahIdZ7RFN"
      },
      "outputs": [],
      "source": [
        "ola_mundo()"
      ]
    },
    {
      "cell_type": "code",
      "execution_count": null,
      "metadata": {
        "ExecuteTime": {
          "end_time": "2022-01-16T22:53:24.074987Z",
          "start_time": "2022-01-16T22:53:24.067040Z"
        },
        "id": "aoUR-b1u7RFO",
        "outputId": "3516b757-c19e-4153-c39f-996445d25675"
      },
      "outputs": [
        {
          "data": {
            "text/plain": [
              "'\\n    Imprime uma mensagem de olá com o nome da pessoa\\n    \\n    :param nome: nome da pessoa a ser impresso\\n    '"
            ]
          },
          "execution_count": 378,
          "metadata": {},
          "output_type": "execute_result"
        }
      ],
      "source": [
        "ola_mundo.__doc__"
      ]
    },
    {
      "cell_type": "markdown",
      "metadata": {
        "id": "BT_40OuZEsSt"
      },
      "source": [
        "Em particular o padrão de documentação que utilizaremos é o Sphinx (https://www.sphinx-doc.org/en/master/).\n",
        "\n",
        "Sphinx usa a sintaxe de palavra-chave (palavra reservada), que a maioria das linguagens de programação fazem. As palavras-chave mais importantes são:\n",
        "\n",
        "- *param* e *type*: O valor do parâmetro e o tipo de variável.\n",
        "- *return* e *rtype*: o valor de retorno e seu tipo.\n",
        "- *:raise* : Descreve todos os erros que são levantados pelo código.\n",
        "- *.. seealso::*: Leituras adicionais.\n",
        "- *.. notes::*: Adicionar uma nota.\n",
        "- *.. warning::*: Adicionar um aviso."
      ]
    },
    {
      "cell_type": "code",
      "execution_count": null,
      "metadata": {
        "id": "EVNBdecNEsSt"
      },
      "outputs": [],
      "source": [
        "def multiplica(a, b, c=1):\n",
        "    \"\"\"\n",
        "    Retorna a multiplicação de todos os argumentos da função\n",
        "\n",
        "    :param a: argumento 1\n",
        "    :type a: int\n",
        "    :param b: argumento 2\n",
        "    :type b: int\n",
        "    :param c: argumento 3, padrão 0\n",
        "    :type c: int, opcional\n",
        "    :raises ValueError: se a == b\n",
        "\n",
        "    :rtype: int\n",
        "    :return: multiplicação de todos os argumentos\n",
        "    \"\"\"\n",
        "    if a == b:\n",
        "        raise ValueError(\"arg1 deve ser diferente de arg2\")\n",
        "    return a * b * c"
      ]
    },
    {
      "cell_type": "markdown",
      "metadata": {
        "id": "kYEUvyU5EsSu"
      },
      "source": [
        "Para mais detalhes veja https://sphinx-rtd-tutorial.readthedocs.io/en/latest/docstrings.html"
      ]
    },
    {
      "cell_type": "markdown",
      "metadata": {
        "id": "ID71GCTAEsSu"
      },
      "source": [
        "### Type hint"
      ]
    },
    {
      "cell_type": "markdown",
      "metadata": {
        "id": "xJTiOhe6EsSu"
      },
      "source": [
        "Em Python utiliza-se tipagem dinâmica, na qual os tipos de variáveis são atribuidos no momento da execução do código. Por exemplo, quando definimos a função ola_mundo, a príncipio não informamos qual era o tipo da variavel \"nome\", mas de alguma maneira, em algum momento, a linguagem conseguiu inferir que nome deveria ser do tipo \"string\" e com isso executar os blocos de código de acordo.\n",
        "\n",
        "Podemos, por outro lado, colocar de forma explícita o tipo de uma determinada variável utilizando o \"type hint\". Como o nome implica (type hint = dica de tipo) esta especificação não forçará a linguagem a utilizar um determinado tipo para uma variável, mas ajudará na documentação e em verificações do código, e serão muito utilizados no nosso código"
      ]
    },
    {
      "cell_type": "code",
      "execution_count": null,
      "metadata": {
        "ExecuteTime": {
          "end_time": "2022-01-16T22:58:24.477546Z",
          "start_time": "2022-01-16T22:58:24.473042Z"
        },
        "id": "HucAx-W5EsSu",
        "outputId": "c06172de-0377-4b34-ac32-6d8bdcd1e9c0"
      },
      "outputs": [
        {
          "name": "stdout",
          "output_type": "stream",
          "text": [
            "Olá Pedro! Prazer em te conhecer\n"
          ]
        }
      ],
      "source": [
        "ola_mundo(\"Pedro\")"
      ]
    },
    {
      "cell_type": "code",
      "execution_count": null,
      "metadata": {
        "ExecuteTime": {
          "end_time": "2022-01-16T22:58:33.911790Z",
          "start_time": "2022-01-16T22:58:33.904933Z"
        },
        "id": "ekWbCCju7RFR",
        "outputId": "cc612ee7-91d1-4318-bfcd-24756b378f6f"
      },
      "outputs": [
        {
          "name": "stdout",
          "output_type": "stream",
          "text": [
            "Olá (2+3j)! Prazer em te conhecer\n"
          ]
        }
      ],
      "source": [
        "ola_mundo(2 + 3j)"
      ]
    },
    {
      "cell_type": "code",
      "execution_count": null,
      "metadata": {
        "ExecuteTime": {
          "end_time": "2022-01-16T23:00:24.427827Z",
          "start_time": "2022-01-16T23:00:24.422349Z"
        },
        "id": "o00s6q6C7RFS"
      },
      "outputs": [],
      "source": [
        "def ola_mundo(nome: str) -> None:\n",
        "    \"\"\"\n",
        "    Imprime uma mensagem de olá com o nome da pessoa\n",
        "\n",
        "    :param nome: nome da pessoa a ser impresso\n",
        "    :type nome: str\n",
        "    \"\"\"\n",
        "    texto_de_ola = f\"Olá {nome}! Prazer em te conhecer\"\n",
        "    print(texto_de_ola)"
      ]
    },
    {
      "cell_type": "code",
      "execution_count": null,
      "metadata": {
        "ExecuteTime": {
          "end_time": "2022-01-16T23:01:07.258346Z",
          "start_time": "2022-01-16T23:01:07.251474Z"
        },
        "id": "ntyJbWiU7RFS"
      },
      "outputs": [],
      "source": [
        "import typing"
      ]
    },
    {
      "cell_type": "code",
      "execution_count": null,
      "metadata": {
        "ExecuteTime": {
          "end_time": "2022-01-16T23:00:30.551644Z",
          "start_time": "2022-01-16T23:00:30.545738Z"
        },
        "id": "n37Mw2Tq7RFT",
        "outputId": "2d2d49d2-c432-4b61-a1b1-998775910df1"
      },
      "outputs": [
        {
          "name": "stdout",
          "output_type": "stream",
          "text": [
            "Olá (2+3j)! Prazer em te conhecer\n"
          ]
        }
      ],
      "source": [
        "ola_mundo(2 + 3j)"
      ]
    },
    {
      "cell_type": "markdown",
      "metadata": {
        "id": "aAwnxHspEsSu"
      },
      "source": [
        "Para mais detalhes https://diogommartins.medium.com/python-3-e-type-hints-40e80a9e8214"
      ]
    },
    {
      "cell_type": "markdown",
      "metadata": {
        "id": "Q15hjwtjEsSu"
      },
      "source": [
        "### Funções anônimas"
      ]
    },
    {
      "cell_type": "markdown",
      "metadata": {
        "id": "VN8ydeltEsSu"
      },
      "source": [
        "Pequenas funções anônimas podem ser criadas com a palavra-chave lambda. Esta função retorna a soma de seus dois argumentos: lambda a, b: a+b. As funções lambda podem ser usadas sempre que objetos função forem necessários. Eles são sintaticamente restritos a uma única expressão. Semanticamente, eles são apenas açúcar sintático para uma definição de função normal. Como definições de funções aninhadas, as funções lambda podem referenciar variáveis contidas no escopo:"
      ]
    },
    {
      "cell_type": "code",
      "execution_count": null,
      "metadata": {
        "ExecuteTime": {
          "end_time": "2022-01-16T23:02:40.992566Z",
          "start_time": "2022-01-16T23:02:40.983678Z"
        },
        "id": "71mudldZEsSu",
        "outputId": "874cb9d8-2e70-47dd-d7f9-0dedf9f9a48b"
      },
      "outputs": [
        {
          "data": {
            "text/plain": [
              "11"
            ]
          },
          "execution_count": 384,
          "metadata": {},
          "output_type": "execute_result"
        }
      ],
      "source": [
        "def cria_incrementador(n):\n",
        "    return n + 1\n",
        "cria_incrementador(10)"
      ]
    },
    {
      "cell_type": "code",
      "execution_count": null,
      "metadata": {
        "ExecuteTime": {
          "end_time": "2022-01-16T23:02:49.450870Z",
          "start_time": "2022-01-16T23:02:49.441956Z"
        },
        "id": "k3v5_wZF7RFV",
        "outputId": "9a9fe090-6c11-48fe-ef34-9406500e105e"
      },
      "outputs": [
        {
          "data": {
            "text/plain": [
              "11"
            ]
          },
          "execution_count": 385,
          "metadata": {},
          "output_type": "execute_result"
        }
      ],
      "source": [
        "cria_incrementador = lambda n: n + 1\n",
        "cria_incrementador(10)"
      ]
    },
    {
      "cell_type": "code",
      "execution_count": null,
      "metadata": {
        "ExecuteTime": {
          "end_time": "2022-01-16T23:04:21.864900Z",
          "start_time": "2022-01-16T23:04:21.859901Z"
        },
        "id": "QpyoXsFt7RFW",
        "outputId": "7917f805-80d6-4ee2-8b3e-175ebd53a219"
      },
      "outputs": [
        {
          "name": "stdout",
          "output_type": "stream",
          "text": [
            "1\n",
            "42\n"
          ]
        }
      ],
      "source": [
        "def cria_incrementador(n):\n",
        "    return lambda x: x + n\n",
        "\n",
        "f1 = cria_incrementador(1)\n",
        "f2 = cria_incrementador(42)\n",
        "\n",
        "print(f1(0))\n",
        "print(f2(0))"
      ]
    },
    {
      "cell_type": "markdown",
      "metadata": {
        "id": "OsD0Qam4EsSu"
      },
      "source": [
        "O exemplo acima usa uma expressão lambda para retornar uma função. Outro uso é passar uma pequena função como um argumento:"
      ]
    },
    {
      "cell_type": "code",
      "execution_count": null,
      "metadata": {
        "ExecuteTime": {
          "end_time": "2022-01-16T23:12:40.570361Z",
          "start_time": "2022-01-16T23:12:40.565368Z"
        },
        "id": "GFsCax7aEsSu",
        "outputId": "98d22ad6-20ad-47ff-913c-119576a07664"
      },
      "outputs": [
        {
          "data": {
            "text/plain": [
              "[(2, 'dois'), (4, 'quatro'), (3, 'três'), (1, 'um')]"
            ]
          },
          "execution_count": 394,
          "metadata": {},
          "output_type": "execute_result"
        }
      ],
      "source": [
        "pares = [(2, \"dois\"), (4, \"quatro\"), (1, \"um\"),  (3, \"três\")]\n",
        "pares.sort(key=lambda par: par[1])\n",
        "pares"
      ]
    },
    {
      "cell_type": "markdown",
      "metadata": {
        "id": "_tXQj-AlEsSu"
      },
      "source": [
        "---"
      ]
    },
    {
      "cell_type": "markdown",
      "metadata": {
        "id": "T4Yq3nmOEsSv"
      },
      "source": [
        "**Exercício 12**"
      ]
    },
    {
      "cell_type": "markdown",
      "metadata": {
        "id": "rL1UUxxxEsSv"
      },
      "source": [
        "No jogo dos 15 o objetivo é receber uma matriz com números de 1 a 15 ordenados de forma aleatória e ir trocando as peças até que se consiga obter um tabuleiro com os números ordenados.\n",
        "\n",
        "<img src=\"https://images-na.ssl-images-amazon.com/images/I/8107cskBQ3L.png\" width=200 height=150 />\n",
        "\n",
        "Neste exercício iremos reproduzir o jogo dos 15 através da construção de funções específicas. Você já começa com algumas funções pré-definidas, como gera_matriz, mas precisará completar as demais:\n",
        "\n",
        "1. troca_elemento: Troca os elementos de uma matriz de itens\n",
        "1. verifica_se_venceu: Recebe uma matriz 4x4 e verifica se os números estão ordenados de forma que o jogador venceu\n",
        "1. verifica_jogada: Verifica se a jogada escolhida pelo usuário é válida\n",
        "\n",
        "Você pode fazer quantas funções adcionais quanto quiser\n",
        "\n",
        "Organize o seu jogo dentro da função main. Dê para o usuário a toda rodada a opção de desistir(0) ou de inserir uma posição(1), a posição inserida será feita colocando a linha e coluna da matriz, por exemplo 11 significa que\n",
        "estamos nos referenciando ao elemento da linha 1 coluna 1, 32 se referencia ao elemento da linha 3 coluna 2"
      ]
    },
    {
      "cell_type": "code",
      "execution_count": null,
      "metadata": {
        "id": "LZM5KnKrHMwh",
        "solution2": "hidden",
        "solution2_first": true
      },
      "outputs": [],
      "source": [
        "import random\n",
        "import typing\n",
        "import time\n",
        "from IPython.display import clear_output\n",
        "\n",
        "\n",
        "def gera_matriz() -> typing.List[typing.List[int]]:\n",
        "    \"\"\"\n",
        "    Gera uma matriz 4x4 com elementos em posições aleatórias\n",
        "    entre 0 e 15\n",
        "\n",
        "    :return: matriz 4x4 com valores entre 0 e 15\n",
        "    \"\"\"\n",
        "    matriz = list()\n",
        "    lista = list(range(16))\n",
        "    for j in range(4):\n",
        "        linha = []\n",
        "        for i in range(4):\n",
        "            x = random.choice(lista)\n",
        "            linha.append(x)\n",
        "            lista.remove(x)\n",
        "        matriz.append(linha)\n",
        "    return matriz\n",
        "\n",
        "\n",
        "def acha_pos_zero(matriz: typing.List[typing.List[int]]) -> int:\n",
        "    \"\"\"\n",
        "    Função que procura e devolve a posição do zero da matriz (espaço vazio)\n",
        "\n",
        "    :param matriz: matriz com os elementos do jogo\n",
        "    :return: posição do elemento 0\n",
        "    \"\"\"\n",
        "    for i in range(len(matriz)):\n",
        "        for j in range(len(matriz[0])):\n",
        "            if matriz[i][j] == 0:\n",
        "                return (i + 1) * 10 + j + 1\n",
        "\n",
        "\n",
        "def imprime_jogo(\n",
        "    matriz: typing.List[typing.List[int]]\n",
        ") -> None:\n",
        "    \"\"\"\n",
        "    Imprime o estado atual do tabuleiro\n",
        "\n",
        "    :param matriz: matriz com os elementos do jogo\n",
        "    \"\"\"\n",
        "    for i in range(4):\n",
        "        print(\"+------+------+------+------+\")\n",
        "        for j in range(4):\n",
        "            print(\"+  %02d \" % matriz[i][j], end=\" \")\n",
        "        print(\"+\")\n",
        "    print(\"+------+------+------+------+\")\n",
        "\n",
        "\n",
        "def troca_elemento(\n",
        "    pos1: int,\n",
        "    pos2: int,\n",
        "    matriz: typing.List[typing.List[int]]\n",
        ") -> None:\n",
        "    \"\"\"\n",
        "    Dada uma matriz (listas de listas) de tamanho 4x4 troque os\n",
        "    elementos contidos na posição 1 com o elemento da posição 2,\n",
        "    na qual os elementos são representados por um número inteiro\n",
        "    cujo valor correponde a linha e coluna do elemento.\n",
        "\n",
        "    Por exemplo pos1 = 11 -> elemento da primeira linha e primeira coluna\n",
        "\n",
        "    Assim, se pos1 = 11, pos2 = 12 e\n",
        "    matriz =\n",
        "        1  2  3  4\n",
        "        5  6  7  8\n",
        "        9 10 11 12\n",
        "\n",
        "    Queremos obter\n",
        "        2  1  3  4\n",
        "        5  6  7  8\n",
        "        9 10 11 12\n",
        "\n",
        "    As mudanças da matriz devem ser feitas dentro da função, sem necessidade\n",
        "    de retornar uma nova matriz\n",
        "\n",
        "    :param pos1: número inteiro da posição 1\n",
        "    :param pos2: número inteiro da posição 2\n",
        "    :param matriz: matriz de elementos\n",
        "    \"\"\"\n",
        "    pass\n",
        "\n",
        "\n",
        "def verifica_jogada(pos: int, zero_pos: int) -> bool:\n",
        "    \"\"\"\n",
        "    Verifca se a jogada selecionada é valida\n",
        "\n",
        "    :param pos: posição do elemento a ser trocado\n",
        "    :param zero_pos: posição do elemento 0\n",
        "    :return: True se a jogada é válida\n",
        "    \"\"\"\n",
        "    pass\n",
        "\n",
        "\n",
        "def verifica_se_venceu(matriz: typing.List[typing.List[int]]) -> bool:\n",
        "    \"\"\"\n",
        "    Verifica se o jogador venceu o jogo\n",
        "\n",
        "    :param matriz: matriz com os elementos do jogo\n",
        "    :return: True se o jogador venceu\n",
        "    \"\"\"\n",
        "    pass\n",
        "\n",
        "\n",
        "def main() -> None:\n",
        "    \"\"\"\n",
        "    Função principal do jogo\n",
        "    \"\"\"\n",
        "    # inicializa o jogo\n",
        "    jogo = gera_matriz()\n",
        "    zero_pos = acha_pos_zero(jogo)\n",
        "    jogando = True\n",
        "    venceu = False\n",
        "\n",
        "    # cria o loop principal do jogo\n",
        "    while jogando:\n",
        "        # imprime o estado do jogo\n",
        "        clear_output(wait=True)\n",
        "        time.sleep(0.3)\n",
        "        imprime_jogo(jogo)\n",
        "        time.sleep(0.3)\n",
        "\n",
        "        # pede a posição até obter uma posição válida\n",
        "        pos = int(input(\"Digite a posição do elemento que você deseja trocar: \"))\n",
        "        while not verifica_jogada(pos, zero_pos):\n",
        "            print(\"Entrada inválida. Digite novamente\")\n",
        "            pos = int(input(\"Digite a posição do elemento que você deseja trocar: \"))\n",
        "\n",
        "        # executa a troca de elementos\n",
        "        troca_elemento(pos, zero_pos, jogo)\n",
        "        zero_pos = pos\n",
        "\n",
        "        # verifica se o usuário venceu o jogo\n",
        "        venceu = verifica_se_venceu(jogo)\n",
        "        jogando = not venceu\n",
        "\n",
        "    # imprime o resultado do jogo\n",
        "    if venceu:\n",
        "        print(\"Parabens, você venceu!!!\")\n",
        "    else:\n",
        "        print(\"Obrigado por jogar.\")\n",
        "\n",
        "main()"
      ]
    },
    {
      "cell_type": "code",
      "execution_count": null,
      "metadata": {
        "ExecuteTime": {
          "end_time": "2021-09-07T14:53:20.466438Z",
          "start_time": "2021-09-07T14:46:09.912774Z"
        },
        "cellView": "form",
        "id": "-T3YnFi7EsSv",
        "solution2": "hidden"
      },
      "outputs": [],
      "source": [
        "#@title Resposta\n",
        "import random\n",
        "import typing\n",
        "import time\n",
        "from IPython.display import clear_output\n",
        "\n",
        "\n",
        "def gera_matriz() -> typing.List[typing.List[int]]:\n",
        "    \"\"\"\n",
        "    Gera uma matriz 4x4 com elementos em posições aleatórias\n",
        "    entre 0 e 15\n",
        "\n",
        "    :return: matriz 4x4 com valores entre 0 e 15\n",
        "    \"\"\"\n",
        "    matriz = list()\n",
        "    lista = list(range(16))\n",
        "    for j in range(4):\n",
        "        linha = []\n",
        "        for i in range(4):\n",
        "            x = random.choice(lista)\n",
        "            linha.append(x)\n",
        "            lista.remove(x)\n",
        "        matriz.append(linha)\n",
        "    return matriz\n",
        "\n",
        "\n",
        "def acha_pos_zero(matriz: typing.List[typing.List[int]]) -> int:\n",
        "    \"\"\"\n",
        "    Função que procura e devolve a posição do zero da matriz (espaço vazio)\n",
        "\n",
        "    :param matriz: matriz com os elementos do jogo\n",
        "    :return: posição do elemento 0\n",
        "    \"\"\"\n",
        "    for i in range(len(matriz)):\n",
        "        for j in range(len(matriz[0])):\n",
        "            if matriz[i][j] == 0:\n",
        "                return (i + 1) * 10 + j + 1\n",
        "\n",
        "\n",
        "def imprime_jogo(\n",
        "    matriz: typing.List[typing.List[int]]\n",
        ") -> None:\n",
        "    \"\"\"\n",
        "    Imprime o estado atual do tabuleiro\n",
        "\n",
        "    :param matriz: matriz com os elementos do jogo\n",
        "    \"\"\"\n",
        "    for i in range(4):\n",
        "        print(\"+------+------+------+------+\")\n",
        "        for j in range(4):\n",
        "            print(\"+  %02d \" % matriz[i][j], end=\" \")\n",
        "        print(\"+\")\n",
        "    print(\"+------+------+------+------+\")\n",
        "\n",
        "\n",
        "def troca_elemento(\n",
        "    pos1: int,\n",
        "    pos2: int,\n",
        "    matriz: typing.List[typing.List[int]]\n",
        ") -> None:\n",
        "    \"\"\"\n",
        "    Dada uma matriz (listas de listas) de tamanho 4x4 troque os\n",
        "    elementos contidos na posição 1 com o elemento da posição 2,\n",
        "    na qual os elementos são representados por um número inteiro\n",
        "    cujo valor correponde a linha e coluna do elemento.\n",
        "\n",
        "    Por exemplo pos1 = 11 -> elemento da primeira linha e primeira coluna\n",
        "\n",
        "    Assim, se pos1 = 11, pos2 = 12 e\n",
        "    matriz =\n",
        "        1  2  3  4\n",
        "        5  6  7  8\n",
        "        9 10 11 12\n",
        "\n",
        "    Queremos obter\n",
        "        2  1  3  4\n",
        "        5  6  7  8\n",
        "        9 10 11 12\n",
        "\n",
        "    As mudanças da matriz devem ser feitas dentro da função, sem necessidade\n",
        "    de retornar uma nova matriz\n",
        "\n",
        "    :param pos1: número inteiro da posição 1\n",
        "    :param pos2: número inteiro da posição 2\n",
        "    :param matriz: matriz de elementos\n",
        "    \"\"\"\n",
        "    elemento1 = matriz[pos1 // 10 - 1][pos1 % 10 -1]\n",
        "    elemento2 = matriz[pos2 // 10 - 1][pos2 % 10-1]\n",
        "    matriz[pos1 // 10-1][pos1 % 10 - 1] = elemento2\n",
        "    matriz[pos2 // 10-1][pos2 % 10 - 1] = elemento1\n",
        "\n",
        "\n",
        "def verifica_jogada(pos: int, zero_pos: int) -> bool:\n",
        "    \"\"\"\n",
        "    Verifca se a jogada selecionada é valida\n",
        "\n",
        "    :param pos: posição do elemento a ser trocado\n",
        "    :param zero_pos: posição do elemento 0\n",
        "    :return: True se a jogada é válida\n",
        "    \"\"\"\n",
        "    linha = pos // 10\n",
        "    coluna = pos % 10\n",
        "\n",
        "    linha_zero = zero_pos // 10\n",
        "    coluna_zero = zero_pos % 10\n",
        "\n",
        "    if linha < 1 or linha > 4 or coluna < 1 or coluna > 4:\n",
        "        return False\n",
        "    else:\n",
        "        return (\n",
        "            (linha == linha_zero -1 and coluna == coluna_zero)\n",
        "            or (linha == linha_zero and (coluna == coluna_zero-1 or coluna == coluna_zero+1))\n",
        "            or (linha == linha_zero+1 and coluna == coluna_zero)\n",
        "        )\n",
        "\n",
        "\n",
        "def verifica_se_venceu(matriz: typing.List[typing.List[int]]) -> bool:\n",
        "    \"\"\"\n",
        "    Verifica se o jogador venceu o jogo\n",
        "\n",
        "    :param matriz: matriz com os elementos do jogo\n",
        "    :return: True se o jogador venceu\n",
        "    \"\"\"\n",
        "    em_linha = list()\n",
        "    for l in matriz:\n",
        "        em_linha += l\n",
        "    return em_linha == sorted(em_linha)\n",
        "\n",
        "\n",
        "def main() -> None:\n",
        "    \"\"\"\n",
        "    Função principal do jogo\n",
        "    \"\"\"\n",
        "    # inicializa o jogo\n",
        "    jogo = gera_matriz()\n",
        "    zero_pos = acha_pos_zero(jogo)\n",
        "    jogando = True\n",
        "    venceu = False\n",
        "\n",
        "    # cria o loop principal do jogo\n",
        "    while jogando:\n",
        "        # imprime o estado do jogo\n",
        "        clear_output(wait=True)\n",
        "        time.sleep(0.3)\n",
        "        imprime_jogo(jogo)\n",
        "        time.sleep(0.3)\n",
        "\n",
        "        # pede a posição até obter uma posição válida\n",
        "        pos = int(input(\"Digite a posição do elemento que você deseja trocar: \"))\n",
        "        while not verifica_jogada(pos, zero_pos):\n",
        "            print(\"Entrada inválida. Digite novamente\")\n",
        "            pos = int(input(\"Digite a posição do elemento que você deseja trocar: \"))\n",
        "\n",
        "        # executa a troca de elementos\n",
        "        troca_elemento(pos, zero_pos, jogo)\n",
        "        zero_pos = pos\n",
        "\n",
        "        # verifica se o usuário venceu o jogo\n",
        "        venceu = verifica_se_venceu(jogo)\n",
        "        jogando = not venceu\n",
        "\n",
        "    # imprime o resultado do jogo\n",
        "    if venceu:\n",
        "        print(\"Parabens, você venceu!!!\")\n",
        "    else:\n",
        "        print(\"Obrigado por jogar.\")\n",
        "\n",
        "main()"
      ]
    },
    {
      "cell_type": "markdown",
      "metadata": {
        "id": "uK_CrsR1EsSv"
      },
      "source": [
        "---"
      ]
    },
    {
      "cell_type": "markdown",
      "metadata": {
        "id": "wqg5wjWcEsSv"
      },
      "source": [
        "## Leitura de Dados"
      ]
    },
    {
      "cell_type": "markdown",
      "metadata": {
        "id": "YIALCjYrQ7pt"
      },
      "source": [
        "---"
      ]
    },
    {
      "cell_type": "markdown",
      "metadata": {
        "id": "ujpz-u46Q7HN"
      },
      "source": [
        "**NOTA**"
      ]
    },
    {
      "cell_type": "markdown",
      "metadata": {
        "id": "hBLsMRDXRCGM"
      },
      "source": [
        "Se você estiver executando este notebook a partir do google colab, seria necessário que você ajustasse o caminho para os diferentes arquivos. Entretanto, para faciliar a vida, iremos baixar os dados na pasta temporária do colab executando a célula abaixo."
      ]
    },
    {
      "cell_type": "code",
      "execution_count": null,
      "metadata": {
        "ExecuteTime": {
          "end_time": "2022-01-17T00:39:54.743506Z",
          "start_time": "2022-01-17T00:39:52.836253Z"
        },
        "id": "tWOTqgZXRFCv",
        "outputId": "79bb2aa0-6091-4136-fd77-94718e1a75cf"
      },
      "outputs": [
        {
          "data": {
            "text/plain": [
              "('palavras.txt', <http.client.HTTPMessage at 0x283da058310>)"
            ]
          },
          "execution_count": 412,
          "metadata": {},
          "output_type": "execute_result"
        }
      ],
      "source": [
        "import urllib.request\n",
        "urllib.request.urlretrieve(\"https://drive.google.com/uc?id=1SQ6GksfmYdgRn7Bku46XxBFG-aovSu0M&export=download\", \"usuarios.txt\")\n",
        "urllib.request.urlretrieve(\"https://drive.google.com/uc?id=1SQISXgA98wU_v1oRws57lvMhms2e2rDY&export=download\", \"palavras.txt\")"
      ]
    },
    {
      "cell_type": "markdown",
      "metadata": {
        "id": "Bq0WnqlxREzw"
      },
      "source": [
        "Para ver o conteúdo da sua pasta execute o comando abaixo em uma nova célula"
      ]
    },
    {
      "cell_type": "code",
      "execution_count": null,
      "metadata": {
        "ExecuteTime": {
          "end_time": "2022-01-17T00:40:09.004192Z",
          "start_time": "2022-01-17T00:40:08.980862Z"
        },
        "id": "FStOq9nFREis",
        "outputId": "f568e744-5c8a-459e-9c70-0851204897b7"
      },
      "outputs": [
        {
          "name": "stdout",
          "output_type": "stream",
          "text": [
            " Volume in drive C has no label.\n",
            " Volume Serial Number is B0A0-248A\n",
            "\n",
            " Directory of C:\\Users\\Ignorƒncia Zero\\Downloads\n",
            "\n",
            "01/16/2022  09:38 PM    <DIR>          .\n",
            "01/16/2022  09:38 PM    <DIR>          ..\n",
            "01/16/2022  10:40 AM    <DIR>          .ipynb_checkpoints\n",
            "09/01/2021  06:05 PM       500,375,944 Anaconda3-2021.05-Windows-x86_64.exe\n",
            "01/16/2022  09:26 PM                 0 arquivo_teste.txt\n",
            "09/01/2021  05:27 PM         1,342,296 ChromeSetup.exe\n",
            "09/01/2021  05:32 PM        50,101,024 Git-2.33.0.2-64-bit.exe\n",
            "01/16/2022  09:39 PM           315,237 palavras.txt\n",
            "09/03/2021  05:17 PM       390,035,696 pycharm-community-2021.2.1.exe\n",
            "01/16/2022  09:38 PM           251,474 Python B sico (Code Along).ipynb\n",
            "01/16/2022  09:39 PM               157 usuarios.txt\n",
            "09/03/2021  11:11 PM        79,559,664 VSCodeUserSetup-x64-1.60.0.exe\n",
            "               9 File(s)  1,021,981,492 bytes\n",
            "               3 Dir(s)  16,498,024,448 bytes free\n"
          ]
        }
      ],
      "source": [
        "!dir \".\""
      ]
    },
    {
      "cell_type": "markdown",
      "metadata": {
        "id": "jhyKkxzSQ6yt"
      },
      "source": [
        "---"
      ]
    },
    {
      "cell_type": "markdown",
      "metadata": {
        "id": "lOTNo1aCEsSw"
      },
      "source": [
        "A função open() devolve um objeto arquivo, e é frequentemente usada com dois argumentos: open(nome_do_arquivo, modo)."
      ]
    },
    {
      "cell_type": "code",
      "execution_count": null,
      "metadata": {
        "ExecuteTime": {
          "end_time": "2022-01-17T00:52:15.960673Z",
          "start_time": "2022-01-17T00:52:15.956714Z"
        },
        "id": "pG6_Xyn17RFf"
      },
      "outputs": [],
      "source": [
        "f = open(\"usuarios.txt\", \"r\")\n",
        "f.close()"
      ]
    },
    {
      "cell_type": "code",
      "execution_count": null,
      "metadata": {
        "ExecuteTime": {
          "end_time": "2022-01-17T00:52:48.121653Z",
          "start_time": "2022-01-17T00:52:48.117684Z"
        },
        "id": "DqtlDqDL7RFg"
      },
      "outputs": [],
      "source": [
        "f = open(\"usuarios - Copy.txt\", \"w\")\n",
        "f.close()"
      ]
    },
    {
      "cell_type": "code",
      "execution_count": null,
      "metadata": {
        "ExecuteTime": {
          "end_time": "2022-01-17T00:53:06.553872Z",
          "start_time": "2022-01-17T00:53:06.549867Z"
        },
        "id": "6zPDuqUE7RFg"
      },
      "outputs": [],
      "source": [
        "f = open(\"arquivo_teste.txt\", \"w\")\n",
        "f.close()"
      ]
    },
    {
      "cell_type": "code",
      "execution_count": null,
      "metadata": {
        "ExecuteTime": {
          "end_time": "2022-01-17T00:53:26.696191Z",
          "start_time": "2022-01-17T00:53:26.692241Z"
        },
        "id": "LDSe13oo7RFh"
      },
      "outputs": [],
      "source": [
        "f = open(\"usuarios.txt\", \"a\")\n",
        "f.close()"
      ]
    },
    {
      "cell_type": "code",
      "execution_count": null,
      "metadata": {
        "ExecuteTime": {
          "end_time": "2022-01-17T00:53:53.832133Z",
          "start_time": "2022-01-17T00:53:53.828147Z"
        },
        "id": "ikRxvrVm7RFh"
      },
      "outputs": [],
      "source": [
        "f = open(\"usuarios.txt\", \"r+\")\n",
        "f.close()"
      ]
    },
    {
      "cell_type": "markdown",
      "metadata": {
        "id": "3h-t9dSiEsSw"
      },
      "source": [
        "O primeiro argumento é uma string contendo o nome/caminho do arquivo. O segundo argumento é outra string, contendo alguns caracteres que descrevem o modo como o arquivo será usado. modo pode ser 'r' quando o arquivo será apenas lido, 'w' para escrever (se o arquivo já existir seu conteúdo prévio será apagado), e 'a' para abrir o arquivo para adição; qualquer escrita será adicionada ao final do arquivo. A opção 'r+' abre o arquivo tanto para leitura como para escrita. O argumento modo é opcional, em caso de omissão será assumido 'r'.\n",
        "\n",
        "Normalmente, arquivos são abertos em modo texto, ou seja, você lê e grava strings, de e para o arquivo, numa codificação específica. Se a codificação não for especificada, o padrão é dependente da plataforma/sistema operacional (consulte open()). Incluir 'b' ao modo abre o arquivo em modo binário: os dados são lidos e escritos na forma de bytes. Esse modo deve ser usado para todos os arquivos que não contenham texto.\n",
        "\n",
        "Em modo texto, o padrão durante a leitura é converter terminadores de linha específicos da plataforma (\\n no Unix, \\r\\n no Windows) para apenas \\n. Ao escrever no modo de texto, o padrão é converter as ocorrências de \\n de volta para os finais de linha específicos da plataforma. Essa modificação de bastidores nos dados do arquivo é adequada para arquivos de texto, mas corromperá dados binários, como arquivos JPEG ou EXE. Tenha muito cuidado para só usar o modo binário, ao ler e gravar esses arquivos.\n",
        "\n",
        "É uma boa prática usar a palavra-chave with ao lidar com arquivos. A vantagem é que o arquivo é fechado corretamente após o término de sua utilização, mesmo que uma exceção seja levantada em algum momento. Usar with também é muito mais curto que escrever seu bloco equivalente try-finally:"
      ]
    },
    {
      "cell_type": "code",
      "execution_count": null,
      "metadata": {
        "ExecuteTime": {
          "end_time": "2022-01-17T00:57:09.003257Z",
          "start_time": "2022-01-17T00:57:08.999282Z"
        },
        "id": "mn1HDRrf7RFi",
        "outputId": "0674e3bc-4752-46a3-b85f-a52969288860"
      },
      "outputs": [
        {
          "name": "stdout",
          "output_type": "stream",
          "text": [
            "alexandre       456123789\n",
            "anderson        1245698456\n",
            "antonio         123456456\n",
            "carlos          91257581\n",
            "cesar           987458\n",
            "rosemary        789456125\n",
            "True\n"
          ]
        }
      ],
      "source": [
        "with open(\"usuarios.txt\") as f:\n",
        "    dados = f.read()\n",
        "print(dados)\n",
        "print(f.closed)"
      ]
    },
    {
      "cell_type": "markdown",
      "metadata": {
        "id": "Nk41nwR1EsSw"
      },
      "source": [
        "Se você não está usando a palavra reservada with, então você deveria chamar f.close() para fechar o arquivo e imediatamente liberar qualquer recurso do sistema usado por ele.\n",
        "\n",
        "    Aviso Chamar f.write() sem usar a palavra reservada with ou chamar``f.close()`` pode resultar nos argumentos de f.write() não serem completamente escritos no disco, mesmo se o programa for encerrado com êxito.\n",
        "\n",
        "Depois que um arquivo é fechado, seja por uma instrução with ou chamando f.close(), as tentativas de usar o arquivo falharão automaticamente."
      ]
    },
    {
      "cell_type": "code",
      "execution_count": null,
      "metadata": {
        "ExecuteTime": {
          "end_time": "2022-01-17T00:58:39.702412Z",
          "start_time": "2022-01-17T00:58:39.686164Z"
        },
        "id": "mq_3L3lB7RFj",
        "outputId": "67c45890-c694-48e8-e2a2-37ee361bc5a5"
      },
      "outputs": [
        {
          "ename": "ValueError",
          "evalue": "I/O operation on closed file.",
          "output_type": "error",
          "traceback": [
            "\u001b[1;31m---------------------------------------------------------------------------\u001b[0m",
            "\u001b[1;31mValueError\u001b[0m                                Traceback (most recent call last)",
            "Input \u001b[1;32mIn [432]\u001b[0m, in \u001b[0;36m<module>\u001b[1;34m\u001b[0m\n\u001b[0;32m      1\u001b[0m f \u001b[38;5;241m=\u001b[39m \u001b[38;5;28mopen\u001b[39m(\u001b[38;5;124m\"\u001b[39m\u001b[38;5;124musuarios.txt\u001b[39m\u001b[38;5;124m\"\u001b[39m)\n\u001b[0;32m      2\u001b[0m f\u001b[38;5;241m.\u001b[39mclose()\n\u001b[1;32m----> 3\u001b[0m \u001b[43mf\u001b[49m\u001b[38;5;241;43m.\u001b[39;49m\u001b[43mread\u001b[49m\u001b[43m(\u001b[49m\u001b[43m)\u001b[49m\n",
            "\u001b[1;31mValueError\u001b[0m: I/O operation on closed file."
          ]
        }
      ],
      "source": [
        "f = open(\"usuarios.txt\")\n",
        "f.close()\n",
        "f.read()"
      ]
    },
    {
      "cell_type": "markdown",
      "metadata": {
        "id": "Q6gpJSNbEsSw"
      },
      "source": [
        "Para simplificar, o resto dos exemplos nesta seção assumem que um objeto arquivo chamado f já foi criado.\n",
        "\n",
        "Para ler o conteúdo de um arquivo, chame f.read(tamanho), que lê um punhado de dados devolvendo-os como uma string (em modo texto) ou bytes (em modo binário). tamanho é um argumento numérico opcional. Quando tamanho é omitido ou negativo, todo o conteúdo do arquivo é lido e devolvido; se o arquivo é duas vezes maior que memória da máquina, o problema é seu. Caso contrário, no máximo tamanho caracteres (em modo texto) ou tamanho bytes (em modo binário) são lidos e devolvidos. Se o fim do arquivo for atingido, f.read() devolve uma string vazia ('')."
      ]
    },
    {
      "cell_type": "code",
      "execution_count": null,
      "metadata": {
        "ExecuteTime": {
          "end_time": "2022-01-17T00:59:21.277012Z",
          "start_time": "2022-01-17T00:59:21.272098Z"
        },
        "id": "RL89tO6A7RFk"
      },
      "outputs": [],
      "source": [
        "f = open(\"usuarios.txt\", \"r\")"
      ]
    },
    {
      "cell_type": "code",
      "execution_count": null,
      "metadata": {
        "ExecuteTime": {
          "end_time": "2022-01-17T00:59:37.368694Z",
          "start_time": "2022-01-17T00:59:37.363795Z"
        },
        "id": "NFeJHT1Y7RFl",
        "outputId": "9dfd5425-6eea-4211-bfe1-17b86f3b75c6"
      },
      "outputs": [
        {
          "data": {
            "text/plain": [
              "'alexandre       456123789\\nanderson        1245698456\\nantonio         123456456\\ncarlos          91257581\\ncesar           987458\\nrosemary        789456125'"
            ]
          },
          "execution_count": 434,
          "metadata": {},
          "output_type": "execute_result"
        }
      ],
      "source": [
        "f.read()"
      ]
    },
    {
      "cell_type": "code",
      "execution_count": null,
      "metadata": {
        "ExecuteTime": {
          "end_time": "2022-01-17T00:59:44.554018Z",
          "start_time": "2022-01-17T00:59:44.550004Z"
        },
        "id": "ZZW1Kk_z7RFm",
        "outputId": "c77cad58-a8fe-4dd2-a02d-1ccf823f7956"
      },
      "outputs": [
        {
          "data": {
            "text/plain": [
              "''"
            ]
          },
          "execution_count": 435,
          "metadata": {},
          "output_type": "execute_result"
        }
      ],
      "source": [
        "f.read()"
      ]
    },
    {
      "cell_type": "code",
      "execution_count": null,
      "metadata": {
        "ExecuteTime": {
          "end_time": "2022-01-17T01:00:36.201097Z",
          "start_time": "2022-01-17T01:00:36.198161Z"
        },
        "id": "1yzUzunS7RF0"
      },
      "outputs": [],
      "source": [
        "f.close()"
      ]
    },
    {
      "cell_type": "markdown",
      "metadata": {
        "id": "b86hR077EsSw"
      },
      "source": [
        "O método f.readline() lê uma única linha do arquivo; o caractere de quebra de linha (\\n) é mantido ao final da string, e só é omitido na última linha do arquivo, se o arquivo não terminar com uma quebra de linha. Isso elimina a ambiguidade do valor retornado; se f.readline() retorna uma string vazia, o fim do arquivo foi atingido. Linhas em branco são representadas por um '\\n' – uma string contendo apenas o caractere terminador de linha."
      ]
    },
    {
      "cell_type": "code",
      "execution_count": null,
      "metadata": {
        "ExecuteTime": {
          "end_time": "2022-01-17T01:01:24.811297Z",
          "start_time": "2022-01-17T01:01:24.806376Z"
        },
        "id": "47S78i8jEsSw",
        "outputId": "dc5c39e3-8a62-459b-c259-00dec1f4ef70"
      },
      "outputs": [
        {
          "name": "stdout",
          "output_type": "stream",
          "text": [
            "alexandre       456123789\n",
            "\n",
            "anderson        1245698456\n",
            "\n",
            "antonio         123456456\n",
            "\n",
            "carlos          91257581\n",
            "\n",
            "cesar           987458\n",
            "\n",
            "rosemary        789456125\n",
            "\n",
            "\n"
          ]
        }
      ],
      "source": [
        "f = open(\"usuarios.txt\", \"r\")\n",
        "print(f.readline())\n",
        "print(f.readline())\n",
        "print(f.readline())\n",
        "print(f.readline())\n",
        "print(f.readline())\n",
        "print(f.readline())\n",
        "print(f.readline())\n",
        "print(f.readline())\n",
        "f.close()"
      ]
    },
    {
      "cell_type": "markdown",
      "metadata": {
        "id": "bUFwSEVSEsSw"
      },
      "source": [
        "Uma maneira alternativa de ler linhas do arquivo é iterar diretamente pelo objeto arquivo. É eficiente, rápido e resulta em código mais simples:"
      ]
    },
    {
      "cell_type": "code",
      "execution_count": null,
      "metadata": {
        "ExecuteTime": {
          "end_time": "2022-01-17T01:03:18.333155Z",
          "start_time": "2022-01-17T01:03:18.326304Z"
        },
        "id": "8pVw-ntJEsSw",
        "outputId": "0e22ed4d-5c8f-4858-db04-d40f4a004af5"
      },
      "outputs": [
        {
          "name": "stdout",
          "output_type": "stream",
          "text": [
            "alexandre       456123789 | anderson        1245698456 | antonio         123456456 | carlos          91257581 | cesar           987458 | rosemary        789456125 | "
          ]
        }
      ],
      "source": [
        "f = open(\"usuarios.txt\", \"r\")\n",
        "for linha in f:\n",
        "    print(linha.replace(\"\\n\", \"\"), end=\" | \")\n",
        "f.close()"
      ]
    },
    {
      "cell_type": "code",
      "execution_count": null,
      "metadata": {
        "ExecuteTime": {
          "end_time": "2022-01-17T01:04:06.075159Z",
          "start_time": "2022-01-17T01:04:06.070330Z"
        },
        "id": "qhHTStcZ7RF4",
        "outputId": "93a5df7a-d113-4736-e902-08305f948d6f"
      },
      "outputs": [
        {
          "name": "stdout",
          "output_type": "stream",
          "text": [
            "['alexandre       456123789\\n', 'anderson        1245698456\\n', 'antonio         123456456\\n', 'carlos          91257581\\n', 'cesar           987458\\n', 'rosemary        789456125']\n"
          ]
        }
      ],
      "source": [
        "f = open(\"usuarios.txt\", \"r\")\n",
        "print(f.readlines())\n",
        "f.close()"
      ]
    },
    {
      "cell_type": "markdown",
      "metadata": {
        "id": "jmwXIBHiEsSw"
      },
      "source": [
        "Se desejar ler todas as linhas de um arquivo em uma lista, pode-se usar list(f) ou f.readlines().\n",
        "\n",
        "f.write(string) escreve o conteúdo de string para o arquivo, retornando o número de caracteres escritos."
      ]
    },
    {
      "cell_type": "code",
      "execution_count": null,
      "metadata": {
        "ExecuteTime": {
          "end_time": "2022-01-17T01:04:45.325555Z",
          "start_time": "2022-01-17T01:04:45.319607Z"
        },
        "id": "GO9jbNXXEsSw",
        "outputId": "5aba63ad-98bd-4451-ae4c-e0998995b753"
      },
      "outputs": [
        {
          "name": "stdout",
          "output_type": "stream",
          "text": [
            "16\n"
          ]
        }
      ],
      "source": [
        "with open(\"arquivo_teste.txt\", \"w\") as f:\n",
        "    print(f.write(\"Este é um teste\\n\"))"
      ]
    },
    {
      "cell_type": "markdown",
      "metadata": {
        "id": "vm4wfYTQEsSw"
      },
      "source": [
        "Outros tipos de objetos precisam ser convertidos – seja para uma string (em modo texto) ou para bytes (em modo binário) – antes de escrevê-los:"
      ]
    },
    {
      "cell_type": "code",
      "execution_count": null,
      "metadata": {
        "ExecuteTime": {
          "end_time": "2022-01-17T01:06:07.068368Z",
          "start_time": "2022-01-17T01:06:07.062433Z"
        },
        "id": "bIfCRgmCEsSx",
        "outputId": "b8feef59-2026-409a-bc86-f9879a698ec2"
      },
      "outputs": [
        {
          "name": "stdout",
          "output_type": "stream",
          "text": [
            "16\n"
          ]
        }
      ],
      "source": [
        "with open(\"arquivo_teste.txt\", \"a\") as f:\n",
        "    valor = (\"resposta\", 42)\n",
        "    s = str(valor)\n",
        "    print(f.write(s))"
      ]
    },
    {
      "cell_type": "markdown",
      "metadata": {
        "id": "91GSaOC3EsSx"
      },
      "source": [
        "f.tell() retorna um inteiro dando a posição atual do objeto arquivo, no arquivo representado, como número de bytes desde o início do arquivo, no modo binário, e um número ininteligível, quando no modo de texto.\n",
        "\n",
        "Para mudar a posição, use f.seek(offset, de_onde). A nova posição é computada pela soma do deslocamento offset a um ponto de referência especificado pelo argumento de-onde. Se o valor de de_onde é 0,a referência é o início do arquivo, 1 refere-se à posição atual, e 2 refere-se ao fim do arquivo. Este argumento pode ser omitido e o valor padrão é 0, usando o início do arquivo como referência."
      ]
    },
    {
      "cell_type": "code",
      "execution_count": null,
      "metadata": {
        "ExecuteTime": {
          "end_time": "2022-01-17T01:06:56.458725Z",
          "start_time": "2022-01-17T01:06:56.453911Z"
        },
        "id": "u5eWhKLREsSx"
      },
      "outputs": [],
      "source": [
        "f = open(\"usuarios.txt\", \"r\")"
      ]
    },
    {
      "cell_type": "code",
      "execution_count": null,
      "metadata": {
        "ExecuteTime": {
          "end_time": "2022-01-17T01:07:00.506403Z",
          "start_time": "2022-01-17T01:07:00.502402Z"
        },
        "id": "Y4PTaj6d7RF7",
        "outputId": "c6eb154d-2fb6-4a89-b9a5-b6d936d32504"
      },
      "outputs": [
        {
          "data": {
            "text/plain": [
              "0"
            ]
          },
          "execution_count": 447,
          "metadata": {},
          "output_type": "execute_result"
        }
      ],
      "source": [
        "f.tell()"
      ]
    },
    {
      "cell_type": "code",
      "execution_count": null,
      "metadata": {
        "ExecuteTime": {
          "end_time": "2022-01-17T01:07:04.891072Z",
          "start_time": "2022-01-17T01:07:04.886171Z"
        },
        "id": "-VniW1qT7RF7",
        "outputId": "5f61b1ff-9cdc-4c35-bd8d-d695d9a07ae2"
      },
      "outputs": [
        {
          "data": {
            "text/plain": [
              "'alexandre       456123789\\nanderson        1245698456\\nantonio         123456456\\ncarlos          91257581\\ncesar           987458\\nrosemary        789456125'"
            ]
          },
          "execution_count": 448,
          "metadata": {},
          "output_type": "execute_result"
        }
      ],
      "source": [
        "f.read()"
      ]
    },
    {
      "cell_type": "code",
      "execution_count": null,
      "metadata": {
        "ExecuteTime": {
          "end_time": "2022-01-17T01:07:07.689772Z",
          "start_time": "2022-01-17T01:07:07.685798Z"
        },
        "id": "46VpkKUS7RF8",
        "outputId": "98126ec3-03f3-48a2-808f-01c6244a557e"
      },
      "outputs": [
        {
          "data": {
            "text/plain": [
              "157"
            ]
          },
          "execution_count": 449,
          "metadata": {},
          "output_type": "execute_result"
        }
      ],
      "source": [
        "f.tell()"
      ]
    },
    {
      "cell_type": "code",
      "execution_count": null,
      "metadata": {
        "ExecuteTime": {
          "end_time": "2022-01-17T01:07:23.883934Z",
          "start_time": "2022-01-17T01:07:23.878953Z"
        },
        "id": "9ujIzfmp7RF8",
        "outputId": "165c35e7-e55a-400e-bf51-4c479da6ad57"
      },
      "outputs": [
        {
          "data": {
            "text/plain": [
              "5"
            ]
          },
          "execution_count": 450,
          "metadata": {},
          "output_type": "execute_result"
        }
      ],
      "source": [
        "f.seek(5)"
      ]
    },
    {
      "cell_type": "code",
      "execution_count": null,
      "metadata": {
        "ExecuteTime": {
          "end_time": "2022-01-17T01:07:26.843355Z",
          "start_time": "2022-01-17T01:07:26.837534Z"
        },
        "id": "Ov4qXzg67RF9",
        "outputId": "58ec7f01-1506-4306-ddaf-c7de10376ebf"
      },
      "outputs": [
        {
          "data": {
            "text/plain": [
              "'ndre       456123789\\nanderson        1245698456\\nantonio         123456456\\ncarlos          91257581\\ncesar           987458\\nrosemary        789456125'"
            ]
          },
          "execution_count": 451,
          "metadata": {},
          "output_type": "execute_result"
        }
      ],
      "source": [
        "f.read()"
      ]
    },
    {
      "cell_type": "code",
      "execution_count": null,
      "metadata": {
        "ExecuteTime": {
          "end_time": "2022-01-17T01:07:55.115177Z",
          "start_time": "2022-01-17T01:07:55.111279Z"
        },
        "id": "rhr4J1v87RF-"
      },
      "outputs": [],
      "source": [
        "f.close()"
      ]
    },
    {
      "cell_type": "markdown",
      "metadata": {
        "id": "AXTyc-z-EsSx"
      },
      "source": [
        "---"
      ]
    },
    {
      "cell_type": "markdown",
      "metadata": {
        "id": "1Xj3ZyYsEsSx"
      },
      "source": [
        "**Exercício 13**"
      ]
    },
    {
      "cell_type": "markdown",
      "metadata": {
        "id": "Uw0JznOjEsSx"
      },
      "source": [
        "A ACME Inc., uma empresa de 500 funcionários, está tendo problemas de espaço em disco no seu servidor de arquivos. Para tentar resolver este problema, o Administrador de Rede precisa saber qual o espaço ocupado pelos usuários, e\n",
        "identificar os usuários com maior espaço ocupado. Através de um programa, baixado da Internet, ele conseguiu gerar o seguinte arquivo, chamado\n",
        "\n",
        "\"usuarios.txt\":\n",
        "\n",
        "    alexandre       456123789\n",
        "    anderson        1245698456\n",
        "    antonio         123456456\n",
        "    carlos          91257581\n",
        "    cesar           987458\n",
        "    rosemary        789456125\n",
        "\n",
        "Neste arquivo, o nome do usuário possui 15 caracteres. A partir deste arquivo, você deve criar um programa que gere um relatório, chamado \"relatório.txt\", no seguinte formato:\n",
        "\n",
        "    ACME Inc.               Uso do espaço em disco pelos usuários\n",
        "    ------------------------------------------------------------------------\n",
        "    Nr.  Usuário        Espaço utilizado     % do uso\n",
        "\n",
        "    1    alexandre       434,99 MB             16,85%\n",
        "    2    anderson       1187,99 MB             46,02%\n",
        "    3    antonio         117,73 MB              4,56%\n",
        "    4    carlos           87,03 MB              3,37%\n",
        "    5    cesar             0,94 MB              0,04%\n",
        "    6    rosemary        752,88 MB             29,16%\n",
        "\n",
        "Espaço total ocupado: 2581,57 MB\n",
        "Espaço médio ocupado: 430,26 MB\n",
        "\n",
        "O arquivo de entrada deve ser lido uma única vez, e os dados armazenados em memória, caso sejam necessários, de forma a agilizar a execução do programa."
      ]
    },
    {
      "cell_type": "code",
      "execution_count": null,
      "metadata": {
        "id": "wgVVjb4NEsSx",
        "solution2": "hidden",
        "solution2_first": true
      },
      "outputs": [],
      "source": []
    },
    {
      "cell_type": "code",
      "execution_count": null,
      "metadata": {
        "ExecuteTime": {
          "end_time": "2021-09-07T22:54:33.095152Z",
          "start_time": "2021-09-07T22:54:33.077200Z"
        },
        "cellView": "form",
        "id": "MuOnlEeNEsSx",
        "solution2": "hidden"
      },
      "outputs": [],
      "source": [
        "#@title Resposta\n",
        "usuarios = dict()\n",
        "\n",
        "# abre o arquivo com os usuários\n",
        "with open(\"usuarios.txt\", \"r\") as arquivo:\n",
        "    # começa a percorrer o condeúdo da linha\n",
        "    for linha in arquivo:\n",
        "        # obtém o usuário\n",
        "        usuario = linha[:15].strip()\n",
        "\n",
        "        # obtém o espaço utilizado\n",
        "        espaco = int(linha[15:].strip())\n",
        "\n",
        "        # adiciona ao dicionário\n",
        "        usuarios[usuario] = espaco\n",
        "\n",
        "# calcula o espaço total ocupado\n",
        "espaco_total = sum(list(usuarios.values()))\n",
        "\n",
        "# realiza a impressão dos resultados\n",
        "print(\n",
        "\"\"\"\n",
        "ACME Inc.               Uso do espaço em disco pelos usuários\n",
        "------------------------------------------------------------------------\n",
        "Nr.  Usuário        Espaço utilizado     % do uso\n",
        "\"\"\"\n",
        ")\n",
        "\n",
        "# percorre os usuários\n",
        "n = 1\n",
        "for u, e in usuarios.items():\n",
        "    # adiciona o número do usuário\n",
        "    output = f\"{n}\".ljust(5)\n",
        "\n",
        "    # adiciona o nome do usuário\n",
        "    output += f\"{u}\".ljust(15)\n",
        "\n",
        "    # adiciona o espaço ocupado\n",
        "    ocup = (\"%.2f\" % (e / (1024 ** 2))).rjust(8).replace(\".\", \",\")\n",
        "    ocup += \" MB\"\n",
        "    output += ocup.ljust(21)\n",
        "\n",
        "    # adiciona o % do disco ocupado\n",
        "    output += (\"%.2f%%\" % (100 * e / espaco_total)).rjust(8).replace(\".\", \",\")\n",
        "\n",
        "    print(output)\n",
        "    n += 1"
      ]
    },
    {
      "cell_type": "markdown",
      "metadata": {
        "id": "HdIezrcAEsSx"
      },
      "source": [
        "---"
      ]
    },
    {
      "cell_type": "markdown",
      "metadata": {
        "id": "7jkRoFclEsSx"
      },
      "source": [
        "## Projeto Final"
      ]
    },
    {
      "cell_type": "markdown",
      "metadata": {
        "id": "KlfqSZ6zEsSx"
      },
      "source": [
        "Como parte de seu projeto final, vamos gerar as funções de um jogo de forca.\n",
        "\n",
        "Utilize a estrutura abaixo e preencha as funções sem definição para fazer o jogo funcionar adequadamente.\n",
        "\n",
        "Como parte do loop do jogo:\n",
        "1. Carregue o arquivo palavras.txt para obter a lista de palavras possíveis\n",
        "1. Sorteie uma palavra aleatória da lista acima\n",
        "1. Imprima o estado da forca atual com os _ _ _ embaixo da forca com as letras a serem chutadas\n",
        "1. Peça para o usuário chutar uma letra\n",
        "1. Se a letra estiver correta substitua os _ onde ela aparece\n",
        "1. Se estiver errada, imprima embaixo da forca as letras erradas e atualize o boneco\n",
        "1. Caso o usuário perca, informe o número de chutes corretos e errados e a palavra correta\n",
        "1. Caso o usuário ganhe, informe uma mensagem de sucesso\n",
        "1. Ao final pergunte se o usuário quer jogar novamente\n",
        "\n",
        "Lembre-se que a mesma letra não pode ser chutada novamente, e que não se pode colocar caracteres especiais ou com acento"
      ]
    },
    {
      "cell_type": "code",
      "execution_count": null,
      "metadata": {
        "id": "k-JOKIE7EsSx",
        "solution2": "hidden",
        "solution2_first": true
      },
      "outputs": [],
      "source": [
        "import random\n",
        "import typing\n",
        "import time\n",
        "from IPython.display import clear_output\n",
        "\n",
        "\n",
        "FORCAIMG = [\n",
        "    \"\"\"\n",
        "\n",
        "      +---+\n",
        "      |   |\n",
        "          |\n",
        "          |\n",
        "          |\n",
        "          |\n",
        "    =========\"\"\",\n",
        "    \"\"\"\n",
        "\n",
        "      +---+\n",
        "      |   |\n",
        "      O   |\n",
        "          |\n",
        "          |\n",
        "          |\n",
        "    =========\"\"\",\n",
        "    \"\"\"\n",
        "\n",
        "      +---+\n",
        "      |   |\n",
        "      O   |\n",
        "      |   |\n",
        "          |\n",
        "          |\n",
        "    =========\"\"\",\n",
        "    \"\"\"\n",
        "\n",
        "      +---+\n",
        "      |   |\n",
        "      O   |\n",
        "     /|   |\n",
        "          |\n",
        "          |\n",
        "    =========\"\"\",\n",
        "    \"\"\"\n",
        "\n",
        "      +---+\n",
        "      |   |\n",
        "      O   |\n",
        "     /|\\  |\n",
        "          |\n",
        "          |\n",
        "    =========\"\"\",\n",
        "    \"\"\"\n",
        "\n",
        "      +---+\n",
        "      |   |\n",
        "      O   |\n",
        "     /|\\  |\n",
        "     /    |\n",
        "          |\n",
        "    =========\"\"\",\n",
        "    \"\"\"\n",
        "\n",
        "      +---+\n",
        "      |   |\n",
        "      O   |\n",
        "     /|\\  |\n",
        "     / \\  |\n",
        "          |\n",
        "    =========\"\"\",\n",
        "]\n",
        "\n",
        "\n",
        "def main():\n",
        "    \"\"\"\n",
        "    Função Principal do programa\n",
        "    \"\"\"\n",
        "    pass\n",
        "\n",
        "\n",
        "def le_palavras() -> typing.List[str]:\n",
        "    \"\"\"\n",
        "    Le arquivo com palavras que podem ser utilizadas\n",
        "    como parte do jogo\n",
        "    \"\"\"\n",
        "    pass\n",
        "\n",
        "\n",
        "def gera_palavra_aleatoria(palavras: str) -> typing.List[str]:\n",
        "    \"\"\"\n",
        "    Função que retorna uma string a partir da\n",
        "    lista de palavras\n",
        "\n",
        "    :param palavras: lista com palavras que podem ser sorteadas\n",
        "    :return: palavra secreta do jogo\n",
        "    \"\"\"\n",
        "    pass\n",
        "\n",
        "\n",
        "def imprime_com_espacos(palavra: str) -> None:\n",
        "    \"\"\"\n",
        "    Recebe uma string palavra ou lista e imprime essa com\n",
        "    espaço entre suas letras ou strings\n",
        "\n",
        "    :param palavra: palavra secreta do jogo\n",
        "    \"\"\"\n",
        "    pass\n",
        "\n",
        "\n",
        "def imprime_jogo(\n",
        "    letras_erradas: typing.List[str],\n",
        "    letras_acertadas: typing.List[str],\n",
        "    palavra_secreta: str,\n",
        ") -> None:\n",
        "    \"\"\"\n",
        "    Feito a partir da variável global que contem as imagens\n",
        "    do jogo em ASCII art, e támbem as letras chutadas de\n",
        "    maneira correta e as letras erradas e a palavra secreta\n",
        "\n",
        "    :param letras_erradas: lista de letras chutadas incorretamente\n",
        "    :param letras_acertadas: lista de letras chutadas corretamente\n",
        "    :param palavra_secreta: palavra secreta do jogo\n",
        "    \"\"\"\n",
        "    pass\n",
        "\n",
        "\n",
        "def recebe_palpite(palpites_feitos: typing.List[str]) -> str:\n",
        "    \"\"\"\n",
        "    Função feita para garantir que o usuário coloque uma\n",
        "    entrada válida, ou seja, que seja uma única letra\n",
        "    que ele ainda não tenha chutado\n",
        "\n",
        "    :param palpites_feitos: lista de letras chutadas anteriormente\n",
        "    :return: nova letra chutada\n",
        "    \"\"\"\n",
        "    pass\n",
        "\n",
        "\n",
        "def jogar_novamente() -> bool:\n",
        "    \"\"\"\n",
        "    Função que pede para o usuário decidir se ele quer\n",
        "    jogar novamente e retorna um booleano representando\n",
        "    a resposta\n",
        "\n",
        "    :return: True se o jogador informou que deseja jogar novamente\n",
        "    \"\"\"\n",
        "    return input(\"Você quer jogar novamente? (sim ou nao)\\n\").upper().startswith(\"S\")\n",
        "\n",
        "\n",
        "def verifica_se_ganhou(\n",
        "    palavra_secreta: str, letras_acertadas: typing.List[str]\n",
        ") -> bool:\n",
        "    \"\"\"\n",
        "    Função que verifica se o usuário acertou todas as\n",
        "    letras da palavra secreta\n",
        "\n",
        "    :param palavra_secreta: palavra secreta do jogo\n",
        "    :param letras_acertadas: lista de letras chutadas corretamente\n",
        "    :return: booleano informando se o jogador ganhou o jogo\n",
        "    \"\"\"\n",
        "    pass\n",
        "\n",
        "\n",
        "main()"
      ]
    },
    {
      "cell_type": "code",
      "execution_count": null,
      "metadata": {
        "ExecuteTime": {
          "end_time": "2021-09-07T23:14:17.685320Z",
          "start_time": "2021-09-07T23:13:30.789570Z"
        },
        "cellView": "form",
        "id": "txalWC9tEsSy",
        "solution2": "hidden"
      },
      "outputs": [],
      "source": [
        "#@title Resposta\n",
        "import random\n",
        "import typing\n",
        "import time\n",
        "from IPython.display import clear_output\n",
        "\n",
        "\n",
        "FORCAIMG = [\n",
        "    \"\"\"\n",
        "\n",
        "      +---+\n",
        "      |   |\n",
        "          |\n",
        "          |\n",
        "          |\n",
        "          |\n",
        "    =========\"\"\",\n",
        "    \"\"\"\n",
        "\n",
        "      +---+\n",
        "      |   |\n",
        "      O   |\n",
        "          |\n",
        "          |\n",
        "          |\n",
        "    =========\"\"\",\n",
        "    \"\"\"\n",
        "\n",
        "      +---+\n",
        "      |   |\n",
        "      O   |\n",
        "      |   |\n",
        "          |\n",
        "          |\n",
        "    =========\"\"\",\n",
        "    \"\"\"\n",
        "\n",
        "      +---+\n",
        "      |   |\n",
        "      O   |\n",
        "     /|   |\n",
        "          |\n",
        "          |\n",
        "    =========\"\"\",\n",
        "    \"\"\"\n",
        "\n",
        "      +---+\n",
        "      |   |\n",
        "      O   |\n",
        "     /|\\  |\n",
        "          |\n",
        "          |\n",
        "    =========\"\"\",\n",
        "    \"\"\"\n",
        "\n",
        "      +---+\n",
        "      |   |\n",
        "      O   |\n",
        "     /|\\  |\n",
        "     /    |\n",
        "          |\n",
        "    =========\"\"\",\n",
        "    \"\"\"\n",
        "\n",
        "      +---+\n",
        "      |   |\n",
        "      O   |\n",
        "     /|\\  |\n",
        "     / \\  |\n",
        "          |\n",
        "    =========\"\"\",\n",
        "]\n",
        "\n",
        "\n",
        "def main():\n",
        "    \"\"\"\n",
        "    Função Principal do programa\n",
        "    \"\"\"\n",
        "    global FORCAIMG\n",
        "\n",
        "    letras_erradas = list()\n",
        "    letras_acertadas = list()\n",
        "\n",
        "    # lista as palavras disponíveis para o jogo\n",
        "    palavras = le_palavras()\n",
        "\n",
        "    # seleciona uma palavra aleatória\n",
        "    palavra_secreta = gera_palavra_aleatoria(palavras).upper()\n",
        "\n",
        "    # cria o loop do jogo\n",
        "    jogando = True\n",
        "    while jogando:\n",
        "        # imprime o estado do jogo atual\n",
        "        clear_output(wait=True)\n",
        "        time.sleep(0.3)\n",
        "        imprime_jogo(letras_erradas, letras_acertadas, palavra_secreta)\n",
        "        time.sleep(0.3)\n",
        "\n",
        "        # recebe um palpite do jogador\n",
        "        palpite = recebe_palpite(letras_erradas + letras_acertadas)\n",
        "\n",
        "        # adiciona o palpite ao dicionário adequado\n",
        "        if palpite in palavra_secreta:\n",
        "            letras_acertadas.append(palpite)\n",
        "        else:\n",
        "            letras_erradas.append(palpite)\n",
        "\n",
        "        # verifica se o usuário ganhou o jogo\n",
        "        if verifica_se_ganhou(palavra_secreta, letras_acertadas):\n",
        "            clear_output(wait=True)\n",
        "            time.sleep(0.3)\n",
        "            print(\"Exato! A palavra secreta é \" + palavra_secreta + \"! Você ganhou!!\")\n",
        "            jogando = False\n",
        "\n",
        "        # verifica se o usuário perdeu o jogo\n",
        "        elif len(letras_erradas) == len(FORCAIMG) - 1:\n",
        "            clear_output(wait=True)\n",
        "            time.sleep(0.3)\n",
        "            print(\"Você excedeu o seu limite de palpites!\")\n",
        "            print(\n",
        "                \"Depois de \"\n",
        "                + str(len(letras_erradas))\n",
        "                + \" letras erradas e \"\n",
        "                + str(len(letras_acertadas)),\n",
        "                end=\" \",\n",
        "            )\n",
        "            print(\"palpites corretos, a palavra era \" + palavra_secreta + \".\")\n",
        "\n",
        "            jogando = False\n",
        "\n",
        "        # se o usuário terminar o jogo\n",
        "        if not jogando:\n",
        "            # pede para jogar novamente\n",
        "            time.sleep(0.3)\n",
        "            if jogar_novamente():\n",
        "                letras_erradas = list()\n",
        "                letras_acertadas = list()\n",
        "                jogando = True\n",
        "                palavra_secreta = gera_palavra_aleatoria(palavras).upper()\n",
        "\n",
        "\n",
        "def le_palavras() -> typing.List[str]:\n",
        "    \"\"\"\n",
        "    Le arquivo com palavras que podem ser utilizadas\n",
        "    como parte do jogo\n",
        "    \"\"\"\n",
        "    with open(\"palavras.txt\") as f:\n",
        "        return f.readlines()\n",
        "\n",
        "\n",
        "def gera_palavra_aleatoria(palavras: str) -> typing.List[str]:\n",
        "    \"\"\"\n",
        "    Função que retorna uma string a partir da\n",
        "    lista de palavras\n",
        "\n",
        "    :param palavras: lista com palavras que podem ser sorteadas\n",
        "    :return: palavra secreta do jogo\n",
        "    \"\"\"\n",
        "    return random.choice(palavras).replace(\"\\n\", \"\")\n",
        "\n",
        "\n",
        "def imprime_com_espacos(palavra: str) -> None:\n",
        "    \"\"\"\n",
        "    Recebe uma string palavra ou lista e imprime essa com\n",
        "    espaço entre suas letras ou strings\n",
        "\n",
        "    :param palavra: palavra secreta do jogo\n",
        "    \"\"\"\n",
        "    for letra in palavra:\n",
        "        print(letra, end=\" \")\n",
        "    print()\n",
        "\n",
        "\n",
        "def imprime_jogo(\n",
        "    letras_erradas: typing.List[str],\n",
        "    letras_acertadas: typing.List[str],\n",
        "    palavra_secreta: str,\n",
        ") -> None:\n",
        "    \"\"\"\n",
        "    Feito a partir da variável global que contem as imagens\n",
        "    do jogo em ASCII art, e támbem as letras chutadas de\n",
        "    maneira correta e as letras erradas e a palavra secreta\n",
        "\n",
        "    :param letras_erradas: lista de letras chutadas incorretamente\n",
        "    :param letras_acertadas: lista de letras chutadas corretamente\n",
        "    :param palavra_secreta: palavra secreta do jogo\n",
        "    \"\"\"\n",
        "    global FORCAIMG\n",
        "    print(FORCAIMG[len(letras_erradas)] + \"\\n\")\n",
        "\n",
        "    print(\"Letras Erradas:\", end=\" \")\n",
        "    imprime_com_espacos(letras_erradas)\n",
        "\n",
        "    vazio = \"_\" * len(palavra_secreta)\n",
        "    for i in range(len(palavra_secreta)):\n",
        "        if palavra_secreta[i] in letras_acertadas:\n",
        "            vazio = vazio[:i] + palavra_secreta[i] + vazio[i + 1 :]\n",
        "\n",
        "    imprime_com_espacos(vazio)\n",
        "\n",
        "\n",
        "def recebe_palpite(palpites_feitos: typing.List[str]) -> str:\n",
        "    \"\"\"\n",
        "    Função feita para garantir que o usuário coloque uma\n",
        "    entrada válida, ou seja, que seja uma única letra\n",
        "    que ele ainda não tenha chutado\n",
        "\n",
        "    :param palpites_feitos: lista de letras chutadas anteriormente\n",
        "    :return: nova letra chutada\n",
        "    \"\"\"\n",
        "    while True:\n",
        "        palpite = input(\"Advinhe uma letra.\\n\").upper()\n",
        "\n",
        "        if len(palpite) != 1:\n",
        "            print(\"Coloque uma única letra.\")\n",
        "        elif palpite in palpites_feitos:\n",
        "            print(\"Você já chutou esta letra. Escolha novamente.\")\n",
        "        elif not \"A\" <= palpite <= \"Z\":\n",
        "            print(\"Por favor escolha apenas letras.\")\n",
        "        else:\n",
        "            return palpite\n",
        "\n",
        "\n",
        "def jogar_novamente() -> bool:\n",
        "    \"\"\"\n",
        "    Função que pede para o usuário decidir se ele quer\n",
        "    jogar novamente e retorna um booleano representando\n",
        "    a resposta\n",
        "\n",
        "    :return: True se o jogador informou que deseja jogar novamente\n",
        "    \"\"\"\n",
        "    return input(\"Você quer jogar novamente? (sim ou nao)\\n\").upper().startswith(\"S\")\n",
        "\n",
        "\n",
        "def verifica_se_ganhou(\n",
        "    palavra_secreta: str, letras_acertadas: typing.List[str]\n",
        ") -> bool:\n",
        "    \"\"\"\n",
        "    Função que verifica se o usuário acertou todas as\n",
        "    letras da palavra secreta\n",
        "\n",
        "    :param palavra_secreta: palavra secreta do jogo\n",
        "    :param letras_acertadas: lista de letras chutadas corretamente\n",
        "    :return: booleano informando se o jogador ganhou o jogo\n",
        "    \"\"\"\n",
        "    return set(list(palavra_secreta)) == set(letras_acertadas)\n",
        "\n",
        "\n",
        "main()"
      ]
    },
    {
      "cell_type": "markdown",
      "metadata": {
        "id": "M0gVvvtYEsSy"
      },
      "source": [
        "---"
      ]
    }
  ],
  "metadata": {
    "colab": {
      "provenance": [],
      "toc_visible": true,
      "include_colab_link": true
    },
    "kernelspec": {
      "display_name": "Python 3 (ipykernel)",
      "language": "python",
      "name": "python3"
    },
    "language_info": {
      "codemirror_mode": {
        "name": "ipython",
        "version": 3
      },
      "file_extension": ".py",
      "mimetype": "text/x-python",
      "name": "python",
      "nbconvert_exporter": "python",
      "pygments_lexer": "ipython3",
      "version": "3.8.12"
    },
    "toc": {
      "base_numbering": 1,
      "nav_menu": {},
      "number_sections": true,
      "sideBar": true,
      "skip_h1_title": true,
      "title_cell": "Table of Contents",
      "title_sidebar": "Contents",
      "toc_cell": false,
      "toc_position": {
        "height": "calc(100% - 180px)",
        "left": "10px",
        "top": "150px",
        "width": "304.475px"
      },
      "toc_section_display": true,
      "toc_window_display": true
    },
    "varInspector": {
      "cols": {
        "lenName": 16,
        "lenType": 16,
        "lenVar": 40
      },
      "kernels_config": {
        "python": {
          "delete_cmd_postfix": "",
          "delete_cmd_prefix": "del ",
          "library": "var_list.py",
          "varRefreshCmd": "print(var_dic_list())"
        },
        "r": {
          "delete_cmd_postfix": ") ",
          "delete_cmd_prefix": "rm(",
          "library": "var_list.r",
          "varRefreshCmd": "cat(var_dic_list()) "
        }
      },
      "position": {
        "height": "260.85px",
        "left": "1166px",
        "right": "20px",
        "top": "120px",
        "width": "350px"
      },
      "types_to_exclude": [
        "module",
        "function",
        "builtin_function_or_method",
        "instance",
        "_Feature"
      ],
      "window_display": false
    }
  },
  "nbformat": 4,
  "nbformat_minor": 0
}